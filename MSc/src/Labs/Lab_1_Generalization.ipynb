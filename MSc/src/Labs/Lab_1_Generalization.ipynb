{
 "cells": [
  {
   "cell_type": "markdown",
   "metadata": {
    "collapsed": true
   },
   "source": [
    "# Lab 1 - Generalization\n",
    "\n",
    "In this lab session, we will examine the importance of generalization in the design of machine learning algorithms. \n",
    "Additionally, we will introduce Scikit-Learn (sklearn), a widely-used library that provides numerous pre-implemented machine learning algorithms.\n",
    "\n",
    "Specifically, we will go through a Machine Learning pipeline that usually involves:\n",
    "\n",
    "1. Define the problem you want to solve  \n",
    "2. Collect data  \n",
    "3. Preprocess the data  \n",
    "4. Define a set of candidate models  \n",
    "5. Select the best model  \n",
    "6. Estimate performance on unseen data  \n",
    "\n",
    "\n",
    "Material for the lab:  \n",
    "1. Chapter 5 of the **\"An Introduction to Statistical Learning\"** book.\n",
    "2. For an introduction to python and useful libraries we highly recommend to review the Python introductory chapter (\"2.3 Lab: Introduction to Python\") from the book **\"An Introduction to Statistical Learning\"** book.  \n",
    "\n",
    "\n",
    "The book can be found [here](https://www.statlearning.com/)."
   ]
  },
  {
   "cell_type": "markdown",
   "metadata": {},
   "source": [
    "# Import python libraries"
   ]
  },
  {
   "cell_type": "code",
   "execution_count": 1,
   "metadata": {
    "collapsed": false,
    "ExecuteTime": {
     "end_time": "2025-09-26T14:05:19.209665Z",
     "start_time": "2025-09-26T14:05:19.208095Z"
    }
   },
   "outputs": [],
   "source": [
    "# !pip install numpy\n",
    "# !pip install pandas"
   ]
  },
  {
   "cell_type": "code",
   "execution_count": 2,
   "metadata": {
    "ExecuteTime": {
     "end_time": "2025-09-26T14:05:19.316199Z",
     "start_time": "2025-09-26T14:05:19.210367Z"
    }
   },
   "outputs": [],
   "source": [
    "import numpy as np\n",
    "import matplotlib.pyplot as plt\n",
    "import pandas as pd\n",
    "import sklearn"
   ]
  },
  {
   "cell_type": "markdown",
   "metadata": {},
   "source": [
    "# Load Dataset\n",
    "\n",
    "![uci ml repo](./figures/UCI_repo.png)\n",
    "\n",
    "The [**UCI machine learning repository**](https://archive.ics.uci.edu) is a valuable resource in the field of machine learning and data mining. It is maintained by the University of California, Irvine (UCI), and provides a vast collection of datasets that are frequently used for research, experimentation, and education in the machine learning community. "
   ]
  },
  {
   "cell_type": "markdown",
   "metadata": {
    "collapsed": false
   },
   "source": [
    "## Iris Dataset\n",
    "\n",
    "<img src=\"./figures/dataset-cover.jpg\" alt=\"Generalization\" width=\"1000\"/>\n",
    "\n",
    "We will use the iris dataset, with our goal being to classify flowers into different categories based on certain features. \n",
    "\n",
    "You can find more information about the dataset on the following [webpage](https://archive.ics.uci.edu/dataset/53/iris)"
   ]
  },
  {
   "cell_type": "code",
   "execution_count": 3,
   "metadata": {
    "ExecuteTime": {
     "end_time": "2025-09-26T14:05:20.082369Z",
     "start_time": "2025-09-26T14:05:19.317849Z"
    }
   },
   "outputs": [],
   "source": [
    "features = ['Sepal_Length', 'Sepal_Width', 'Petal_Length', 'Petal_Width']\n",
    "\n",
    "target = 'Class'\n",
    "\n",
    "### load some data with pandas\n",
    "\n",
    "csv_url = 'https://archive.ics.uci.edu/ml/machine-learning-databases/iris/iris.data'\n",
    "dataset = pd.read_csv(csv_url, names=features + [target])"
   ]
  },
  {
   "cell_type": "markdown",
   "metadata": {},
   "source": [
    "### lets have a quick look on our dataset\n",
    "Our dataset consist of a set of different features together with a target category for classification"
   ]
  },
  {
   "cell_type": "code",
   "execution_count": 4,
   "metadata": {
    "ExecuteTime": {
     "end_time": "2025-09-26T14:05:20.092350Z",
     "start_time": "2025-09-26T14:05:20.083159Z"
    }
   },
   "outputs": [
    {
     "data": {
      "text/plain": "     Sepal_Length  Sepal_Width  Petal_Length  Petal_Width           Class\n0             5.1          3.5           1.4          0.2     Iris-setosa\n1             4.9          3.0           1.4          0.2     Iris-setosa\n2             4.7          3.2           1.3          0.2     Iris-setosa\n3             4.6          3.1           1.5          0.2     Iris-setosa\n4             5.0          3.6           1.4          0.2     Iris-setosa\n..            ...          ...           ...          ...             ...\n145           6.7          3.0           5.2          2.3  Iris-virginica\n146           6.3          2.5           5.0          1.9  Iris-virginica\n147           6.5          3.0           5.2          2.0  Iris-virginica\n148           6.2          3.4           5.4          2.3  Iris-virginica\n149           5.9          3.0           5.1          1.8  Iris-virginica\n\n[150 rows x 5 columns]",
      "text/html": "<div>\n<style scoped>\n    .dataframe tbody tr th:only-of-type {\n        vertical-align: middle;\n    }\n\n    .dataframe tbody tr th {\n        vertical-align: top;\n    }\n\n    .dataframe thead th {\n        text-align: right;\n    }\n</style>\n<table border=\"1\" class=\"dataframe\">\n  <thead>\n    <tr style=\"text-align: right;\">\n      <th></th>\n      <th>Sepal_Length</th>\n      <th>Sepal_Width</th>\n      <th>Petal_Length</th>\n      <th>Petal_Width</th>\n      <th>Class</th>\n    </tr>\n  </thead>\n  <tbody>\n    <tr>\n      <th>0</th>\n      <td>5.1</td>\n      <td>3.5</td>\n      <td>1.4</td>\n      <td>0.2</td>\n      <td>Iris-setosa</td>\n    </tr>\n    <tr>\n      <th>1</th>\n      <td>4.9</td>\n      <td>3.0</td>\n      <td>1.4</td>\n      <td>0.2</td>\n      <td>Iris-setosa</td>\n    </tr>\n    <tr>\n      <th>2</th>\n      <td>4.7</td>\n      <td>3.2</td>\n      <td>1.3</td>\n      <td>0.2</td>\n      <td>Iris-setosa</td>\n    </tr>\n    <tr>\n      <th>3</th>\n      <td>4.6</td>\n      <td>3.1</td>\n      <td>1.5</td>\n      <td>0.2</td>\n      <td>Iris-setosa</td>\n    </tr>\n    <tr>\n      <th>4</th>\n      <td>5.0</td>\n      <td>3.6</td>\n      <td>1.4</td>\n      <td>0.2</td>\n      <td>Iris-setosa</td>\n    </tr>\n    <tr>\n      <th>...</th>\n      <td>...</td>\n      <td>...</td>\n      <td>...</td>\n      <td>...</td>\n      <td>...</td>\n    </tr>\n    <tr>\n      <th>145</th>\n      <td>6.7</td>\n      <td>3.0</td>\n      <td>5.2</td>\n      <td>2.3</td>\n      <td>Iris-virginica</td>\n    </tr>\n    <tr>\n      <th>146</th>\n      <td>6.3</td>\n      <td>2.5</td>\n      <td>5.0</td>\n      <td>1.9</td>\n      <td>Iris-virginica</td>\n    </tr>\n    <tr>\n      <th>147</th>\n      <td>6.5</td>\n      <td>3.0</td>\n      <td>5.2</td>\n      <td>2.0</td>\n      <td>Iris-virginica</td>\n    </tr>\n    <tr>\n      <th>148</th>\n      <td>6.2</td>\n      <td>3.4</td>\n      <td>5.4</td>\n      <td>2.3</td>\n      <td>Iris-virginica</td>\n    </tr>\n    <tr>\n      <th>149</th>\n      <td>5.9</td>\n      <td>3.0</td>\n      <td>5.1</td>\n      <td>1.8</td>\n      <td>Iris-virginica</td>\n    </tr>\n  </tbody>\n</table>\n<p>150 rows × 5 columns</p>\n</div>"
     },
     "execution_count": 4,
     "metadata": {},
     "output_type": "execute_result"
    }
   ],
   "source": [
    "dataset"
   ]
  },
  {
   "cell_type": "markdown",
   "metadata": {},
   "source": [
    "lets see different information on our dataset"
   ]
  },
  {
   "cell_type": "code",
   "execution_count": 5,
   "metadata": {
    "collapsed": false,
    "ExecuteTime": {
     "end_time": "2025-09-26T14:05:20.096317Z",
     "start_time": "2025-09-26T14:05:20.093060Z"
    }
   },
   "outputs": [],
   "source": [
    "data_x = dataset[features]\n",
    "data_y = dataset[[target]]"
   ]
  },
  {
   "cell_type": "code",
   "execution_count": 6,
   "metadata": {
    "ExecuteTime": {
     "end_time": "2025-09-26T14:05:20.099929Z",
     "start_time": "2025-09-26T14:05:20.097222Z"
    }
   },
   "outputs": [
    {
     "name": "stdout",
     "output_type": "stream",
     "text": [
      "Shape of our dataset: (150, 5)\n",
      "Number of features: 4\n",
      "Number of examples: 150\n"
     ]
    }
   ],
   "source": [
    "print(\"Shape of our dataset:\", dataset.shape)\n",
    "print(\"Number of features:\", data_x.shape[1])\n",
    "print(\"Number of examples:\", data_x.shape[0])"
   ]
  },
  {
   "cell_type": "code",
   "execution_count": 7,
   "metadata": {
    "ExecuteTime": {
     "end_time": "2025-09-26T14:05:20.103204Z",
     "start_time": "2025-09-26T14:05:20.100605Z"
    }
   },
   "outputs": [
    {
     "name": "stdout",
     "output_type": "stream",
     "text": [
      "Number of different classes 3\n",
      "unique classes: ['Iris-setosa' 'Iris-versicolor' 'Iris-virginica']\n"
     ]
    }
   ],
   "source": [
    "print(\"Number of different classes\", len(data_y[\"Class\"].unique()))\n",
    "print(\"unique classes:\", data_y[\"Class\"].unique())"
   ]
  },
  {
   "cell_type": "code",
   "execution_count": 8,
   "metadata": {
    "ExecuteTime": {
     "end_time": "2025-09-26T14:05:20.107739Z",
     "start_time": "2025-09-26T14:05:20.104348Z"
    }
   },
   "outputs": [
    {
     "data": {
      "text/plain": "Iris-setosa        50\nIris-versicolor    50\nIris-virginica     50\nName: Class, dtype: int64"
     },
     "execution_count": 8,
     "metadata": {},
     "output_type": "execute_result"
    }
   ],
   "source": [
    "data_y[\"Class\"].value_counts()"
   ]
  },
  {
   "cell_type": "code",
   "execution_count": 9,
   "metadata": {
    "ExecuteTime": {
     "end_time": "2025-09-26T14:05:20.116337Z",
     "start_time": "2025-09-26T14:05:20.108300Z"
    }
   },
   "outputs": [
    {
     "data": {
      "text/plain": "       Sepal_Length  Sepal_Width  Petal_Length  Petal_Width\ncount    150.000000   150.000000    150.000000   150.000000\nmean       5.843333     3.054000      3.758667     1.198667\nstd        0.828066     0.433594      1.764420     0.763161\nmin        4.300000     2.000000      1.000000     0.100000\n25%        5.100000     2.800000      1.600000     0.300000\n50%        5.800000     3.000000      4.350000     1.300000\n75%        6.400000     3.300000      5.100000     1.800000\nmax        7.900000     4.400000      6.900000     2.500000",
      "text/html": "<div>\n<style scoped>\n    .dataframe tbody tr th:only-of-type {\n        vertical-align: middle;\n    }\n\n    .dataframe tbody tr th {\n        vertical-align: top;\n    }\n\n    .dataframe thead th {\n        text-align: right;\n    }\n</style>\n<table border=\"1\" class=\"dataframe\">\n  <thead>\n    <tr style=\"text-align: right;\">\n      <th></th>\n      <th>Sepal_Length</th>\n      <th>Sepal_Width</th>\n      <th>Petal_Length</th>\n      <th>Petal_Width</th>\n    </tr>\n  </thead>\n  <tbody>\n    <tr>\n      <th>count</th>\n      <td>150.000000</td>\n      <td>150.000000</td>\n      <td>150.000000</td>\n      <td>150.000000</td>\n    </tr>\n    <tr>\n      <th>mean</th>\n      <td>5.843333</td>\n      <td>3.054000</td>\n      <td>3.758667</td>\n      <td>1.198667</td>\n    </tr>\n    <tr>\n      <th>std</th>\n      <td>0.828066</td>\n      <td>0.433594</td>\n      <td>1.764420</td>\n      <td>0.763161</td>\n    </tr>\n    <tr>\n      <th>min</th>\n      <td>4.300000</td>\n      <td>2.000000</td>\n      <td>1.000000</td>\n      <td>0.100000</td>\n    </tr>\n    <tr>\n      <th>25%</th>\n      <td>5.100000</td>\n      <td>2.800000</td>\n      <td>1.600000</td>\n      <td>0.300000</td>\n    </tr>\n    <tr>\n      <th>50%</th>\n      <td>5.800000</td>\n      <td>3.000000</td>\n      <td>4.350000</td>\n      <td>1.300000</td>\n    </tr>\n    <tr>\n      <th>75%</th>\n      <td>6.400000</td>\n      <td>3.300000</td>\n      <td>5.100000</td>\n      <td>1.800000</td>\n    </tr>\n    <tr>\n      <th>max</th>\n      <td>7.900000</td>\n      <td>4.400000</td>\n      <td>6.900000</td>\n      <td>2.500000</td>\n    </tr>\n  </tbody>\n</table>\n</div>"
     },
     "execution_count": 9,
     "metadata": {},
     "output_type": "execute_result"
    }
   ],
   "source": [
    "data_x.describe()"
   ]
  },
  {
   "cell_type": "code",
   "execution_count": 10,
   "metadata": {
    "ExecuteTime": {
     "end_time": "2025-09-26T14:05:20.708886Z",
     "start_time": "2025-09-26T14:05:20.117399Z"
    }
   },
   "outputs": [
    {
     "data": {
      "text/plain": "<Figure size 640x480 with 0 Axes>"
     },
     "metadata": {},
     "output_type": "display_data"
    },
    {
     "data": {
      "text/plain": "<Figure size 800x1200 with 14 Axes>",
      "image/png": "[encoded data removed]"
     },
     "metadata": {},
     "output_type": "display_data"
    }
   ],
   "source": [
    "plt.figure()\n",
    "dataset[features].plot.density(subplots=True,\n",
    "                               layout=(7, 2),\n",
    "                               figsize=(8, 12),\n",
    "                               sharex=True,\n",
    "                               sharey=False)\n",
    "plt.show()\n",
    "plt.close()"
   ]
  },
  {
   "cell_type": "markdown",
   "metadata": {},
   "source": [
    "# Data Preprocessing\n",
    "\n",
    "In every machine learning pipeline, the data needs some preprocessing.\n",
    "\n",
    "Scikit-Learn offers a range of [preprocessing](https://scikit-learn.org/stable/modules/preprocessing.html) methods that allow us to modify data and address issues such as missing values, outlier removal, feature scaling, and data handling.\n",
    "\n",
    "For example in some machine learning algorithms, the scales of the features can have a huge impact on the performance of the model.\n",
    "\n",
    "In **data scaling**, we aim to bring all features to the same scale to ensure that no feature dominates others due to its range. This is especially important for algorithms that rely on distance metrics.\n",
    "\n",
    "Consider the k-nearest neighbors (KNN) algorithm, where we calculate the Euclidean distance to find the k nearest neighbors. When features have varying scales, it can significantly affect the algorithm's performance. If we don't normalize our data and bring features to similar scales, the algorithm will put more weight to features with larger scales, potentially leading to biased outcomes. In our case, for example, our dataset contains features with different scales, such as \"Sepal_Length\" and \"Petal_Width\"."
   ]
  },
  {
   "cell_type": "markdown",
   "metadata": {},
   "source": [
    "# Scikit-Learn (Sklearn)\n",
    "\n",
    "Scikit-Learn, is a powerful and widely-used machine learning library in Python. It provides a comprehensive set of tools for various machine learning tasks, making it an excellent choice for both beginners and experienced data scientists.\n",
    "\n",
    "#### Key Features of Scikit-Learn\n",
    "\n",
    "Sklearn offers a plethora of features and benefits, including:\n",
    "\n",
    "- **User-Friendly Interface**: Sklearn provides a simple and consistent API that makes it easy to implement machine learning algorithms.\n",
    "  \n",
    "- **Wide Range of Algorithms**: It includes a diverse collection of machine learning algorithms, such as regression, classification, clustering, dimensionality reduction, and more.\n",
    "  \n",
    "- **Efficient Data Preprocessing**: Sklearn offers robust data preprocessing capabilities, including data cleaning, scaling, encoding, and feature selection.\n",
    "\n",
    "- **Model Evaluation**: It provides tools for model evaluation, including various metrics for classification and regression tasks.\n",
    "\n",
    "[Sklearn](https://scikit-learn.org/stable/supervised_learning.html) user guide."
   ]
  },
  {
   "cell_type": "markdown",
   "metadata": {},
   "source": [
    "The most common method to scale your dataset are listed bellow.\n",
    "1. min-max scaling\n",
    "    * $x_{scaled} = (x - min) / (max-min)$\n",
    "    * $x_{scaled} \\in [0,1]$\n",
    "    * not good technique when you have outliers\n",
    "    \n",
    "    \n",
    "2. standard scaling\n",
    "   * $x_{scaled} = (x - mean) / std$\n",
    "   * $mean(x_{scaled}) = 0$\n",
    "   * $std(x_{scaled}) = 1$\n",
    "   * robust to outliers"
   ]
  },
  {
   "cell_type": "code",
   "execution_count": 11,
   "metadata": {
    "ExecuteTime": {
     "end_time": "2025-09-26T14:05:20.731547Z",
     "start_time": "2025-09-26T14:05:20.709560Z"
    }
   },
   "outputs": [],
   "source": [
    "from sklearn.preprocessing import StandardScaler\n",
    "\n",
    "standard_scaler = StandardScaler().fit(data_x[features])\n",
    "\n",
    "norm_x = standard_scaler.transform(data_x[features])\n",
    "# sklearn return a numpy so we can convert back to pandas\n",
    "norm_x = pd.DataFrame(norm_x, columns=features)"
   ]
  },
  {
   "cell_type": "code",
   "execution_count": 12,
   "metadata": {
    "ExecuteTime": {
     "end_time": "2025-09-26T14:05:20.744024Z",
     "start_time": "2025-09-26T14:05:20.737569Z"
    }
   },
   "outputs": [
    {
     "data": {
      "text/plain": "     Sepal_Length  Sepal_Width  Petal_Length  Petal_Width\n0       -0.900681     1.032057     -1.341272    -1.312977\n1       -1.143017    -0.124958     -1.341272    -1.312977\n2       -1.385353     0.337848     -1.398138    -1.312977\n3       -1.506521     0.106445     -1.284407    -1.312977\n4       -1.021849     1.263460     -1.341272    -1.312977\n..            ...          ...           ...          ...\n145      1.038005    -0.124958      0.819624     1.447956\n146      0.553333    -1.281972      0.705893     0.922064\n147      0.795669    -0.124958      0.819624     1.053537\n148      0.432165     0.800654      0.933356     1.447956\n149      0.068662    -0.124958      0.762759     0.790591\n\n[150 rows x 4 columns]",
      "text/html": "<div>\n<style scoped>\n    .dataframe tbody tr th:only-of-type {\n        vertical-align: middle;\n    }\n\n    .dataframe tbody tr th {\n        vertical-align: top;\n    }\n\n    .dataframe thead th {\n        text-align: right;\n    }\n</style>\n<table border=\"1\" class=\"dataframe\">\n  <thead>\n    <tr style=\"text-align: right;\">\n      <th></th>\n      <th>Sepal_Length</th>\n      <th>Sepal_Width</th>\n      <th>Petal_Length</th>\n      <th>Petal_Width</th>\n    </tr>\n  </thead>\n  <tbody>\n    <tr>\n      <th>0</th>\n      <td>-0.900681</td>\n      <td>1.032057</td>\n      <td>-1.341272</td>\n      <td>-1.312977</td>\n    </tr>\n    <tr>\n      <th>1</th>\n      <td>-1.143017</td>\n      <td>-0.124958</td>\n      <td>-1.341272</td>\n      <td>-1.312977</td>\n    </tr>\n    <tr>\n      <th>2</th>\n      <td>-1.385353</td>\n      <td>0.337848</td>\n      <td>-1.398138</td>\n      <td>-1.312977</td>\n    </tr>\n    <tr>\n      <th>3</th>\n      <td>-1.506521</td>\n      <td>0.106445</td>\n      <td>-1.284407</td>\n      <td>-1.312977</td>\n    </tr>\n    <tr>\n      <th>4</th>\n      <td>-1.021849</td>\n      <td>1.263460</td>\n      <td>-1.341272</td>\n      <td>-1.312977</td>\n    </tr>\n    <tr>\n      <th>...</th>\n      <td>...</td>\n      <td>...</td>\n      <td>...</td>\n      <td>...</td>\n    </tr>\n    <tr>\n      <th>145</th>\n      <td>1.038005</td>\n      <td>-0.124958</td>\n      <td>0.819624</td>\n      <td>1.447956</td>\n    </tr>\n    <tr>\n      <th>146</th>\n      <td>0.553333</td>\n      <td>-1.281972</td>\n      <td>0.705893</td>\n      <td>0.922064</td>\n    </tr>\n    <tr>\n      <th>147</th>\n      <td>0.795669</td>\n      <td>-0.124958</td>\n      <td>0.819624</td>\n      <td>1.053537</td>\n    </tr>\n    <tr>\n      <th>148</th>\n      <td>0.432165</td>\n      <td>0.800654</td>\n      <td>0.933356</td>\n      <td>1.447956</td>\n    </tr>\n    <tr>\n      <th>149</th>\n      <td>0.068662</td>\n      <td>-0.124958</td>\n      <td>0.762759</td>\n      <td>0.790591</td>\n    </tr>\n  </tbody>\n</table>\n<p>150 rows × 4 columns</p>\n</div>"
     },
     "execution_count": 12,
     "metadata": {},
     "output_type": "execute_result"
    }
   ],
   "source": [
    "norm_x"
   ]
  },
  {
   "cell_type": "code",
   "execution_count": 13,
   "metadata": {
    "ExecuteTime": {
     "end_time": "2025-09-26T14:05:21.485594Z",
     "start_time": "2025-09-26T14:05:20.745220Z"
    }
   },
   "outputs": [
    {
     "data": {
      "text/plain": "<Figure size 640x480 with 0 Axes>"
     },
     "metadata": {},
     "output_type": "display_data"
    },
    {
     "data": {
      "text/plain": "<Figure size 800x1200 with 14 Axes>",
      "image/png": "[encoded data removed]"
     },
     "metadata": {},
     "output_type": "display_data"
    }
   ],
   "source": [
    "plt.figure()\n",
    "norm_x[features].plot.density(subplots=True,\n",
    "                              layout=(7, 2),\n",
    "                              figsize=(8, 12),\n",
    "                              sharex=True,\n",
    "                              sharey=False)\n",
    "plt.show()\n",
    "plt.close()"
   ]
  },
  {
   "cell_type": "code",
   "execution_count": 14,
   "metadata": {
    "ExecuteTime": {
     "end_time": "2025-09-26T14:05:21.490460Z",
     "start_time": "2025-09-26T14:05:21.486359Z"
    }
   },
   "outputs": [
    {
     "data": {
      "text/plain": "Sepal_Length   -4.736952e-16\nSepal_Width    -6.631732e-16\nPetal_Length    3.315866e-16\nPetal_Width    -2.842171e-16\ndtype: float64"
     },
     "execution_count": 14,
     "metadata": {},
     "output_type": "execute_result"
    }
   ],
   "source": [
    "norm_x[features].mean()"
   ]
  },
  {
   "cell_type": "markdown",
   "metadata": {},
   "source": [
    "# Sklearn models API\n",
    "\n",
    "Sklearn also offers a wide variety of [models](https://scikit-learn.org/stable/supervised_learning.html)."
   ]
  },
  {
   "cell_type": "code",
   "execution_count": 15,
   "metadata": {
    "ExecuteTime": {
     "end_time": "2025-09-26T14:05:21.660254Z",
     "start_time": "2025-09-26T14:05:21.491546Z"
    }
   },
   "outputs": [],
   "source": [
    "from sklearn.neighbors import KNeighborsClassifier\n",
    "\n",
    "model = KNeighborsClassifier(n_neighbors=10)"
   ]
  },
  {
   "cell_type": "code",
   "execution_count": 16,
   "metadata": {
    "ExecuteTime": {
     "end_time": "2025-09-26T14:05:21.665905Z",
     "start_time": "2025-09-26T14:05:21.660857Z"
    }
   },
   "outputs": [
    {
     "data": {
      "text/plain": "KNeighborsClassifier(n_neighbors=10)",
      "text/html": "<style>#sk-container-id-1 {color: black;background-color: white;}#sk-container-id-1 pre{padding: 0;}#sk-container-id-1 div.sk-toggleable {background-color: white;}#sk-container-id-1 label.sk-toggleable__label {cursor: pointer;display: block;width: 100%;margin-bottom: 0;padding: 0.3em;box-sizing: border-box;text-align: center;}#sk-container-id-1 label.sk-toggleable__label-arrow:before {content: \"▸\";float: left;margin-right: 0.25em;color: #696969;}#sk-container-id-1 label.sk-toggleable__label-arrow:hover:before {color: black;}#sk-container-id-1 div.sk-estimator:hover label.sk-toggleable__label-arrow:before {color: black;}#sk-container-id-1 div.sk-toggleable__content {max-height: 0;max-width: 0;overflow: hidden;text-align: left;background-color: #f0f8ff;}#sk-container-id-1 div.sk-toggleable__content pre {margin: 0.2em;color: black;border-radius: 0.25em;background-color: #f0f8ff;}#sk-container-id-1 input.sk-toggleable__control:checked~div.sk-toggleable__content {max-height: 200px;max-width: 100%;overflow: auto;}#sk-container-id-1 input.sk-toggleable__control:checked~label.sk-toggleable__label-arrow:before {content: \"▾\";}#sk-container-id-1 div.sk-estimator input.sk-toggleable__control:checked~label.sk-toggleable__label {background-color: #d4ebff;}#sk-container-id-1 div.sk-label input.sk-toggleable__control:checked~label.sk-toggleable__label {background-color: #d4ebff;}#sk-container-id-1 input.sk-hidden--visually {border: 0;clip: rect(1px 1px 1px 1px);clip: rect(1px, 1px, 1px, 1px);height: 1px;margin: -1px;overflow: hidden;padding: 0;position: absolute;width: 1px;}#sk-container-id-1 div.sk-estimator {font-family: monospace;background-color: #f0f8ff;border: 1px dotted black;border-radius: 0.25em;box-sizing: border-box;margin-bottom: 0.5em;}#sk-container-id-1 div.sk-estimator:hover {background-color: #d4ebff;}#sk-container-id-1 div.sk-parallel-item::after {content: \"\";width: 100%;border-bottom: 1px solid gray;flex-grow: 1;}#sk-container-id-1 div.sk-label:hover label.sk-toggleable__label {background-color: #d4ebff;}#sk-container-id-1 div.sk-serial::before {content: \"\";position: absolute;border-left: 1px solid gray;box-sizing: border-box;top: 0;bottom: 0;left: 50%;z-index: 0;}#sk-container-id-1 div.sk-serial {display: flex;flex-direction: column;align-items: center;background-color: white;padding-right: 0.2em;padding-left: 0.2em;position: relative;}#sk-container-id-1 div.sk-item {position: relative;z-index: 1;}#sk-container-id-1 div.sk-parallel {display: flex;align-items: stretch;justify-content: center;background-color: white;position: relative;}#sk-container-id-1 div.sk-item::before, #sk-container-id-1 div.sk-parallel-item::before {content: \"\";position: absolute;border-left: 1px solid gray;box-sizing: border-box;top: 0;bottom: 0;left: 50%;z-index: -1;}#sk-container-id-1 div.sk-parallel-item {display: flex;flex-direction: column;z-index: 1;position: relative;background-color: white;}#sk-container-id-1 div.sk-parallel-item:first-child::after {align-self: flex-end;width: 50%;}#sk-container-id-1 div.sk-parallel-item:last-child::after {align-self: flex-start;width: 50%;}#sk-container-id-1 div.sk-parallel-item:only-child::after {width: 0;}#sk-container-id-1 div.sk-dashed-wrapped {border: 1px dashed gray;margin: 0 0.4em 0.5em 0.4em;box-sizing: border-box;padding-bottom: 0.4em;background-color: white;}#sk-container-id-1 div.sk-label label {font-family: monospace;font-weight: bold;display: inline-block;line-height: 1.2em;}#sk-container-id-1 div.sk-label-container {text-align: center;}#sk-container-id-1 div.sk-container {/* jupyter's `normalize.less` sets `[hidden] { display: none; }` but bootstrap.min.css set `[hidden] { display: none !important; }` so we also need the `!important` here to be able to override the default hidden behavior on the sphinx rendered scikit-learn.org. See: https://github.com/scikit-learn/scikit-learn/issues/21755 */display: inline-block !important;position: relative;}#sk-container-id-1 div.sk-text-repr-fallback {display: none;}</style><div id=\"sk-container-id-1\" class=\"sk-top-container\"><div class=\"sk-text-repr-fallback\"><pre>KNeighborsClassifier(n_neighbors=10)</pre><b>In a Jupyter environment, please rerun this cell to show the HTML representation or trust the notebook. <br />On GitHub, the HTML representation is unable to render, please try loading this page with nbviewer.org.</b></div><div class=\"sk-container\" hidden><div class=\"sk-item\"><div class=\"sk-estimator sk-toggleable\"><input class=\"sk-toggleable__control sk-hidden--visually\" id=\"sk-estimator-id-1\" type=\"checkbox\" checked><label for=\"sk-estimator-id-1\" class=\"sk-toggleable__label sk-toggleable__label-arrow\">KNeighborsClassifier</label><div class=\"sk-toggleable__content\"><pre>KNeighborsClassifier(n_neighbors=10)</pre></div></div></div></div></div>"
     },
     "execution_count": 16,
     "metadata": {},
     "output_type": "execute_result"
    }
   ],
   "source": [
    "# we can train our model using the fit method\n",
    "model.fit(norm_x[features], data_y[target])"
   ]
  },
  {
   "cell_type": "code",
   "execution_count": 17,
   "metadata": {
    "ExecuteTime": {
     "end_time": "2025-09-26T14:05:21.674105Z",
     "start_time": "2025-09-26T14:05:21.666567Z"
    }
   },
   "outputs": [
    {
     "data": {
      "text/plain": "array(['Iris-setosa', 'Iris-setosa', 'Iris-setosa', 'Iris-setosa',\n       'Iris-setosa', 'Iris-setosa', 'Iris-setosa', 'Iris-setosa',\n       'Iris-setosa', 'Iris-setosa', 'Iris-setosa', 'Iris-setosa',\n       'Iris-setosa', 'Iris-setosa', 'Iris-setosa', 'Iris-setosa',\n       'Iris-setosa', 'Iris-setosa', 'Iris-setosa', 'Iris-setosa',\n       'Iris-setosa', 'Iris-setosa', 'Iris-setosa', 'Iris-setosa',\n       'Iris-setosa', 'Iris-setosa', 'Iris-setosa', 'Iris-setosa',\n       'Iris-setosa', 'Iris-setosa', 'Iris-setosa', 'Iris-setosa',\n       'Iris-setosa', 'Iris-setosa', 'Iris-setosa', 'Iris-setosa',\n       'Iris-setosa', 'Iris-setosa', 'Iris-setosa', 'Iris-setosa',\n       'Iris-setosa', 'Iris-setosa', 'Iris-setosa', 'Iris-setosa',\n       'Iris-setosa', 'Iris-setosa', 'Iris-setosa', 'Iris-setosa',\n       'Iris-setosa', 'Iris-setosa', 'Iris-versicolor', 'Iris-versicolor',\n       'Iris-versicolor', 'Iris-versicolor', 'Iris-versicolor',\n       'Iris-versicolor', 'Iris-versicolor', 'Iris-versicolor',\n       'Iris-versicolor', 'Iris-versicolor', 'Iris-versicolor',\n       'Iris-versicolor', 'Iris-versicolor', 'Iris-versicolor',\n       'Iris-versicolor', 'Iris-versicolor', 'Iris-versicolor',\n       'Iris-versicolor', 'Iris-versicolor', 'Iris-versicolor',\n       'Iris-versicolor', 'Iris-versicolor', 'Iris-versicolor',\n       'Iris-versicolor', 'Iris-versicolor', 'Iris-versicolor',\n       'Iris-versicolor', 'Iris-versicolor', 'Iris-versicolor',\n       'Iris-versicolor', 'Iris-versicolor', 'Iris-versicolor',\n       'Iris-versicolor', 'Iris-virginica', 'Iris-versicolor',\n       'Iris-versicolor', 'Iris-versicolor', 'Iris-versicolor',\n       'Iris-versicolor', 'Iris-versicolor', 'Iris-versicolor',\n       'Iris-versicolor', 'Iris-versicolor', 'Iris-versicolor',\n       'Iris-versicolor', 'Iris-versicolor', 'Iris-versicolor',\n       'Iris-versicolor', 'Iris-versicolor', 'Iris-versicolor',\n       'Iris-virginica', 'Iris-virginica', 'Iris-virginica',\n       'Iris-virginica', 'Iris-virginica', 'Iris-virginica',\n       'Iris-versicolor', 'Iris-virginica', 'Iris-virginica',\n       'Iris-virginica', 'Iris-virginica', 'Iris-virginica',\n       'Iris-virginica', 'Iris-virginica', 'Iris-virginica',\n       'Iris-virginica', 'Iris-virginica', 'Iris-virginica',\n       'Iris-virginica', 'Iris-versicolor', 'Iris-virginica',\n       'Iris-virginica', 'Iris-virginica', 'Iris-virginica',\n       'Iris-virginica', 'Iris-virginica', 'Iris-virginica',\n       'Iris-virginica', 'Iris-virginica', 'Iris-virginica',\n       'Iris-virginica', 'Iris-virginica', 'Iris-virginica',\n       'Iris-versicolor', 'Iris-virginica', 'Iris-virginica',\n       'Iris-virginica', 'Iris-virginica', 'Iris-versicolor',\n       'Iris-virginica', 'Iris-virginica', 'Iris-virginica',\n       'Iris-virginica', 'Iris-virginica', 'Iris-virginica',\n       'Iris-virginica', 'Iris-virginica', 'Iris-virginica',\n       'Iris-virginica', 'Iris-versicolor'], dtype=object)"
     },
     "execution_count": 17,
     "metadata": {},
     "output_type": "execute_result"
    }
   ],
   "source": [
    "# we can also make prediction on the dataset\n",
    "model.predict(norm_x[features])"
   ]
  },
  {
   "cell_type": "code",
   "execution_count": 18,
   "metadata": {
    "ExecuteTime": {
     "end_time": "2025-09-26T14:05:21.680381Z",
     "start_time": "2025-09-26T14:05:21.674791Z"
    }
   },
   "outputs": [
    {
     "data": {
      "text/plain": "array([[1. , 0. , 0. ],\n       [1. , 0. , 0. ],\n       [1. , 0. , 0. ],\n       [1. , 0. , 0. ],\n       [1. , 0. , 0. ],\n       [1. , 0. , 0. ],\n       [1. , 0. , 0. ],\n       [1. , 0. , 0. ],\n       [1. , 0. , 0. ],\n       [1. , 0. , 0. ],\n       [1. , 0. , 0. ],\n       [1. , 0. , 0. ],\n       [1. , 0. , 0. ],\n       [1. , 0. , 0. ],\n       [1. , 0. , 0. ],\n       [1. , 0. , 0. ],\n       [1. , 0. , 0. ],\n       [1. , 0. , 0. ],\n       [1. , 0. , 0. ],\n       [1. , 0. , 0. ],\n       [1. , 0. , 0. ],\n       [1. , 0. , 0. ],\n       [1. , 0. , 0. ],\n       [1. , 0. , 0. ],\n       [1. , 0. , 0. ],\n       [1. , 0. , 0. ],\n       [1. , 0. , 0. ],\n       [1. , 0. , 0. ],\n       [1. , 0. , 0. ],\n       [1. , 0. , 0. ],\n       [1. , 0. , 0. ],\n       [1. , 0. , 0. ],\n       [1. , 0. , 0. ],\n       [1. , 0. , 0. ],\n       [1. , 0. , 0. ],\n       [1. , 0. , 0. ],\n       [1. , 0. , 0. ],\n       [1. , 0. , 0. ],\n       [1. , 0. , 0. ],\n       [1. , 0. , 0. ],\n       [1. , 0. , 0. ],\n       [0.7, 0.3, 0. ],\n       [1. , 0. , 0. ],\n       [1. , 0. , 0. ],\n       [1. , 0. , 0. ],\n       [1. , 0. , 0. ],\n       [1. , 0. , 0. ],\n       [1. , 0. , 0. ],\n       [1. , 0. , 0. ],\n       [1. , 0. , 0. ],\n       [0. , 0.9, 0.1],\n       [0. , 0.9, 0.1],\n       [0. , 0.9, 0.1],\n       [0. , 1. , 0. ],\n       [0. , 0.7, 0.3],\n       [0. , 1. , 0. ],\n       [0. , 0.7, 0.3],\n       [0. , 1. , 0. ],\n       [0. , 0.9, 0.1],\n       [0. , 0.9, 0.1],\n       [0. , 1. , 0. ],\n       [0. , 0.9, 0.1],\n       [0. , 0.9, 0.1],\n       [0. , 0.9, 0.1],\n       [0. , 1. , 0. ],\n       [0. , 1. , 0. ],\n       [0. , 1. , 0. ],\n       [0. , 1. , 0. ],\n       [0. , 0.7, 0.3],\n       [0. , 1. , 0. ],\n       [0. , 0.7, 0.3],\n       [0. , 1. , 0. ],\n       [0. , 0.5, 0.5],\n       [0. , 0.9, 0.1],\n       [0. , 1. , 0. ],\n       [0. , 1. , 0. ],\n       [0. , 0.9, 0.1],\n       [0. , 0.6, 0.4],\n       [0. , 0.9, 0.1],\n       [0. , 1. , 0. ],\n       [0. , 1. , 0. ],\n       [0. , 1. , 0. ],\n       [0. , 1. , 0. ],\n       [0. , 0.4, 0.6],\n       [0. , 1. , 0. ],\n       [0. , 0.6, 0.4],\n       [0. , 1. , 0. ],\n       [0. , 0.7, 0.3],\n       [0. , 1. , 0. ],\n       [0. , 1. , 0. ],\n       [0. , 1. , 0. ],\n       [0. , 0.8, 0.2],\n       [0. , 1. , 0. ],\n       [0. , 1. , 0. ],\n       [0. , 1. , 0. ],\n       [0. , 1. , 0. ],\n       [0. , 1. , 0. ],\n       [0. , 1. , 0. ],\n       [0. , 1. , 0. ],\n       [0. , 1. , 0. ],\n       [0. , 0. , 1. ],\n       [0. , 0.1, 0.9],\n       [0. , 0. , 1. ],\n       [0. , 0. , 1. ],\n       [0. , 0. , 1. ],\n       [0. , 0. , 1. ],\n       [0. , 0.8, 0.2],\n       [0. , 0. , 1. ],\n       [0. , 0.2, 0.8],\n       [0. , 0. , 1. ],\n       [0. , 0.1, 0.9],\n       [0. , 0.1, 0.9],\n       [0. , 0. , 1. ],\n       [0. , 0.2, 0.8],\n       [0. , 0. , 1. ],\n       [0. , 0. , 1. ],\n       [0. , 0.1, 0.9],\n       [0. , 0. , 1. ],\n       [0. , 0. , 1. ],\n       [0. , 0.6, 0.4],\n       [0. , 0. , 1. ],\n       [0. , 0.1, 0.9],\n       [0. , 0. , 1. ],\n       [0. , 0.3, 0.7],\n       [0. , 0. , 1. ],\n       [0. , 0. , 1. ],\n       [0. , 0.3, 0.7],\n       [0. , 0.3, 0.7],\n       [0. , 0. , 1. ],\n       [0. , 0.3, 0.7],\n       [0. , 0. , 1. ],\n       [0. , 0. , 1. ],\n       [0. , 0. , 1. ],\n       [0. , 0.6, 0.4],\n       [0. , 0.3, 0.7],\n       [0. , 0. , 1. ],\n       [0. , 0. , 1. ],\n       [0. , 0.1, 0.9],\n       [0. , 0.5, 0.5],\n       [0. , 0. , 1. ],\n       [0. , 0. , 1. ],\n       [0. , 0. , 1. ],\n       [0. , 0.1, 0.9],\n       [0. , 0. , 1. ],\n       [0. , 0. , 1. ],\n       [0. , 0. , 1. ],\n       [0. , 0.2, 0.8],\n       [0. , 0.1, 0.9],\n       [0. , 0.1, 0.9],\n       [0. , 0.5, 0.5]])"
     },
     "execution_count": 18,
     "metadata": {},
     "output_type": "execute_result"
    }
   ],
   "source": [
    "# we can get the predicted propabilities\n",
    "model.predict_proba(norm_x[features])"
   ]
  },
  {
   "cell_type": "markdown",
   "metadata": {},
   "source": [
    "# Generalization\n",
    "\n",
    "When developing a machine learning algorithm, the goal is not just to learn a model that good performance in our dataset. We want our model to be capable of generating accurate predictions for data it hasn't seen before. So we aim for our model to generalize well to upcoming data.\n",
    "\n",
    "# Model Selection/Hyperparameter Tuning\n",
    "In the process of model development, we often encounter **various candidate models** or different **hyperparameter** settings for our algorithms. For instance, in the k-nearest neighbors (KNN) algorithm, the choice of 'k' is a hyperparameter. Another hyperparameter is the distance metric used to calculate distances between data points. The collection of available candidates is typically referred to as the hypothesis space.\n",
    "\n",
    "Therefore, when creating a model for a specific problem, our primary objective is typically to identify the model with the strongest generalization capabilities, the model that best explains future observations."
   ]
  },
  {
   "cell_type": "markdown",
   "metadata": {},
   "source": [
    "![Generalization](./figures/generalization.png)"
   ]
  },
  {
   "cell_type": "markdown",
   "metadata": {},
   "source": [
    "# Choosing model based on the train data.\n",
    "\n",
    "To demonstrate the problem of both training and measuring the accuracy on single dataset.\n",
    "\n",
    "Lets split our data in two different dataset.\n",
    "1. **Development set**: the that we can use in order to produce our final model.\n",
    "2. **Testing set**: that we can use estimate the performance of our data in unseen data.\n",
    "\n",
    "We assume that during the training we don't have any access to the Testing set, so we can use it to select the best model."
   ]
  },
  {
   "cell_type": "code",
   "execution_count": 19,
   "metadata": {
    "ExecuteTime": {
     "end_time": "2025-09-26T14:05:21.683706Z",
     "start_time": "2025-09-26T14:05:21.681068Z"
    }
   },
   "outputs": [],
   "source": [
    "from sklearn.model_selection import train_test_split\n",
    "\n",
    "# Split our data into training and test set.\n",
    "X_develop, X_test, y_develop, y_test = train_test_split(norm_x, data_y, test_size=0.2, random_state=4, shuffle=True)"
   ]
  },
  {
   "cell_type": "code",
   "execution_count": 20,
   "metadata": {
    "ExecuteTime": {
     "end_time": "2025-09-26T14:05:21.686831Z",
     "start_time": "2025-09-26T14:05:21.684453Z"
    }
   },
   "outputs": [
    {
     "name": "stdout",
     "output_type": "stream",
     "text": [
      "Development set size : 0.8 %\n",
      "Test set size : 0.2 %\n"
     ]
    }
   ],
   "source": [
    "print(\"Development set size :\", X_develop.shape[0]/norm_x.shape[0], \"%\" )\n",
    "print(\"Test set size :\", X_test.shape[0]/norm_x.shape[0], \"%\")"
   ]
  },
  {
   "cell_type": "code",
   "execution_count": 21,
   "metadata": {
    "ExecuteTime": {
     "end_time": "2025-09-26T14:05:21.691099Z",
     "start_time": "2025-09-26T14:05:21.687572Z"
    }
   },
   "outputs": [
    {
     "data": {
      "text/plain": "KNeighborsClassifier(n_neighbors=1)",
      "text/html": "<style>#sk-container-id-2 {color: black;background-color: white;}#sk-container-id-2 pre{padding: 0;}#sk-container-id-2 div.sk-toggleable {background-color: white;}#sk-container-id-2 label.sk-toggleable__label {cursor: pointer;display: block;width: 100%;margin-bottom: 0;padding: 0.3em;box-sizing: border-box;text-align: center;}#sk-container-id-2 label.sk-toggleable__label-arrow:before {content: \"▸\";float: left;margin-right: 0.25em;color: #696969;}#sk-container-id-2 label.sk-toggleable__label-arrow:hover:before {color: black;}#sk-container-id-2 div.sk-estimator:hover label.sk-toggleable__label-arrow:before {color: black;}#sk-container-id-2 div.sk-toggleable__content {max-height: 0;max-width: 0;overflow: hidden;text-align: left;background-color: #f0f8ff;}#sk-container-id-2 div.sk-toggleable__content pre {margin: 0.2em;color: black;border-radius: 0.25em;background-color: #f0f8ff;}#sk-container-id-2 input.sk-toggleable__control:checked~div.sk-toggleable__content {max-height: 200px;max-width: 100%;overflow: auto;}#sk-container-id-2 input.sk-toggleable__control:checked~label.sk-toggleable__label-arrow:before {content: \"▾\";}#sk-container-id-2 div.sk-estimator input.sk-toggleable__control:checked~label.sk-toggleable__label {background-color: #d4ebff;}#sk-container-id-2 div.sk-label input.sk-toggleable__control:checked~label.sk-toggleable__label {background-color: #d4ebff;}#sk-container-id-2 input.sk-hidden--visually {border: 0;clip: rect(1px 1px 1px 1px);clip: rect(1px, 1px, 1px, 1px);height: 1px;margin: -1px;overflow: hidden;padding: 0;position: absolute;width: 1px;}#sk-container-id-2 div.sk-estimator {font-family: monospace;background-color: #f0f8ff;border: 1px dotted black;border-radius: 0.25em;box-sizing: border-box;margin-bottom: 0.5em;}#sk-container-id-2 div.sk-estimator:hover {background-color: #d4ebff;}#sk-container-id-2 div.sk-parallel-item::after {content: \"\";width: 100%;border-bottom: 1px solid gray;flex-grow: 1;}#sk-container-id-2 div.sk-label:hover label.sk-toggleable__label {background-color: #d4ebff;}#sk-container-id-2 div.sk-serial::before {content: \"\";position: absolute;border-left: 1px solid gray;box-sizing: border-box;top: 0;bottom: 0;left: 50%;z-index: 0;}#sk-container-id-2 div.sk-serial {display: flex;flex-direction: column;align-items: center;background-color: white;padding-right: 0.2em;padding-left: 0.2em;position: relative;}#sk-container-id-2 div.sk-item {position: relative;z-index: 1;}#sk-container-id-2 div.sk-parallel {display: flex;align-items: stretch;justify-content: center;background-color: white;position: relative;}#sk-container-id-2 div.sk-item::before, #sk-container-id-2 div.sk-parallel-item::before {content: \"\";position: absolute;border-left: 1px solid gray;box-sizing: border-box;top: 0;bottom: 0;left: 50%;z-index: -1;}#sk-container-id-2 div.sk-parallel-item {display: flex;flex-direction: column;z-index: 1;position: relative;background-color: white;}#sk-container-id-2 div.sk-parallel-item:first-child::after {align-self: flex-end;width: 50%;}#sk-container-id-2 div.sk-parallel-item:last-child::after {align-self: flex-start;width: 50%;}#sk-container-id-2 div.sk-parallel-item:only-child::after {width: 0;}#sk-container-id-2 div.sk-dashed-wrapped {border: 1px dashed gray;margin: 0 0.4em 0.5em 0.4em;box-sizing: border-box;padding-bottom: 0.4em;background-color: white;}#sk-container-id-2 div.sk-label label {font-family: monospace;font-weight: bold;display: inline-block;line-height: 1.2em;}#sk-container-id-2 div.sk-label-container {text-align: center;}#sk-container-id-2 div.sk-container {/* jupyter's `normalize.less` sets `[hidden] { display: none; }` but bootstrap.min.css set `[hidden] { display: none !important; }` so we also need the `!important` here to be able to override the default hidden behavior on the sphinx rendered scikit-learn.org. See: https://github.com/scikit-learn/scikit-learn/issues/21755 */display: inline-block !important;position: relative;}#sk-container-id-2 div.sk-text-repr-fallback {display: none;}</style><div id=\"sk-container-id-2\" class=\"sk-top-container\"><div class=\"sk-text-repr-fallback\"><pre>KNeighborsClassifier(n_neighbors=1)</pre><b>In a Jupyter environment, please rerun this cell to show the HTML representation or trust the notebook. <br />On GitHub, the HTML representation is unable to render, please try loading this page with nbviewer.org.</b></div><div class=\"sk-container\" hidden><div class=\"sk-item\"><div class=\"sk-estimator sk-toggleable\"><input class=\"sk-toggleable__control sk-hidden--visually\" id=\"sk-estimator-id-2\" type=\"checkbox\" checked><label for=\"sk-estimator-id-2\" class=\"sk-toggleable__label sk-toggleable__label-arrow\">KNeighborsClassifier</label><div class=\"sk-toggleable__content\"><pre>KNeighborsClassifier(n_neighbors=1)</pre></div></div></div></div></div>"
     },
     "execution_count": 21,
     "metadata": {},
     "output_type": "execute_result"
    }
   ],
   "source": [
    "from sklearn.neighbors import KNeighborsClassifier\n",
    "\n",
    "# train our model using the development set.\n",
    "model = KNeighborsClassifier(n_neighbors=1)\n",
    "model.fit(X_develop, y_develop[target])"
   ]
  },
  {
   "cell_type": "markdown",
   "metadata": {},
   "source": [
    "## Check the accuracy on train set"
   ]
  },
  {
   "cell_type": "code",
   "execution_count": 22,
   "metadata": {
    "ExecuteTime": {
     "end_time": "2025-09-26T14:05:21.700712Z",
     "start_time": "2025-09-26T14:05:21.691730Z"
    }
   },
   "outputs": [
    {
     "name": "stdout",
     "output_type": "stream",
     "text": [
      "Accuracy Score: 100.0%\n"
     ]
    }
   ],
   "source": [
    "from sklearn.metrics import accuracy_score\n",
    "\n",
    "# make prediction on the development set\n",
    "prediction_train = model.predict(X_develop)\n",
    "\n",
    "# measure the performance of the development set\n",
    "train_score = accuracy_score(y_true=y_develop[target],\n",
    "                             y_pred=prediction_train)\n",
    "print(f\"Accuracy Score: {train_score * 100}%\")"
   ]
  },
  {
   "cell_type": "markdown",
   "metadata": {},
   "source": [
    "## Check the accuracy on Test set"
   ]
  },
  {
   "cell_type": "code",
   "execution_count": 23,
   "metadata": {
    "ExecuteTime": {
     "end_time": "2025-09-26T14:05:21.707354Z",
     "start_time": "2025-09-26T14:05:21.701609Z"
    }
   },
   "outputs": [
    {
     "name": "stdout",
     "output_type": "stream",
     "text": [
      "Accuracy Score: 90.0%\n"
     ]
    }
   ],
   "source": [
    "# make prediction on the Test set\n",
    "prediction_test = model.predict(X_test)\n",
    "\n",
    "# measure the Accuracy on the Test set\n",
    "train_score = accuracy_score(y_true=y_test[target],\n",
    "                             y_pred=prediction_test)\n",
    "\n",
    "print(f\"Accuracy Score: {train_score * 100}%\")"
   ]
  },
  {
   "cell_type": "markdown",
   "metadata": {},
   "source": [
    "We can observe that our model has different accuracy compared to the training and test sets.  \n",
    "So there might be a better setting for k that could lead to better generalization."
   ]
  },
  {
   "cell_type": "markdown",
   "metadata": {},
   "source": [
    "# Assigment\n",
    "## Training / Validation / Testing Dataset\n",
    "\n",
    "A common approach for model selection is to split the dataset into three distinct parts:\n",
    "\n",
    "1. The *training* set: used to train different models in the hypothesis space.\n",
    "2. The *validation* set: used to evaluate the performance of each model and choose the best one.\n",
    "3. The *testing* set: used to measure the performance of the final model.\n",
    "\n",
    "The process for each model and set of hyperparameters is as follows:\n",
    "1. Train the model using the training set.\n",
    "2. Estimate the model’s performance on the validation set.\n",
    "3. Select the model that performs best on the validation set.\n",
    "4. Obtain an unbiased estimate of the selected model’s performance using the testing set."
   ]
  },
  {
   "cell_type": "code",
   "execution_count": 24,
   "metadata": {
    "ExecuteTime": {
     "end_time": "2025-09-26T14:05:21.709705Z",
     "start_time": "2025-09-26T14:05:21.708074Z"
    }
   },
   "outputs": [],
   "source": [
    "# define different hyperparameters\n",
    "different_k_settings = list(range(1, 70, 10))"
   ]
  },
  {
   "cell_type": "markdown",
   "metadata": {},
   "source": [
    "### Implemention\n",
    "\n",
    "No we will implement the model selection method.\n",
    "\n",
    "#### Step A.\n",
    "Create the training (80%) and validation (20%) set by spliting the development set in two parts."
   ]
  },
  {
   "cell_type": "code",
   "execution_count": 24,
   "metadata": {
    "ExecuteTime": {
     "end_time": "2025-09-26T14:05:21.711710Z",
     "start_time": "2025-09-26T14:05:21.710407Z"
    }
   },
   "outputs": [],
   "source": []
  },
  {
   "cell_type": "markdown",
   "metadata": {},
   "source": [
    "#### Step B.  \n",
    "\n",
    "For every hypeparamter k we can:  \n",
    "    1. Train the model using the training set  \n",
    "    2. Get the performance of the model in terms Accuracy on the Train set.  \n",
    "    3. Get the performance of the model in terms Accuracy on the Validation set.  \n",
    "    4. Get the performance of the model in terms Accuracy on the Test set.\n",
    "    5. Store all results"
   ]
  },
  {
   "cell_type": "code",
   "execution_count": 24,
   "metadata": {
    "ExecuteTime": {
     "end_time": "2025-09-26T14:05:21.713727Z",
     "start_time": "2025-09-26T14:05:21.712500Z"
    }
   },
   "outputs": [],
   "source": []
  },
  {
   "cell_type": "markdown",
   "metadata": {},
   "source": [
    "#### Step C. \n",
    "Plot the performance for each hyperparameter `k` measured on the different datasets to visualize the differences. \n",
    "\n",
    "More specifically, we can create a plot where the x-axis represents the different hyperparameter settings, and the y-axis measures performance. Each dataset’s performance can be represented by a separate line.\n",
    "\n",
    "\n",
    "What you observe?"
   ]
  },
  {
   "cell_type": "code",
   "execution_count": 25,
   "metadata": {
    "ExecuteTime": {
     "end_time": "2025-09-26T14:05:32.921418Z",
     "start_time": "2025-09-26T14:05:32.919859Z"
    }
   },
   "outputs": [],
   "source": []
  },
  {
   "cell_type": "markdown",
   "metadata": {},
   "source": [
    "#### Step D. \n",
    "Select the model with the best Accuracy according to the Validation Set."
   ]
  },
  {
   "cell_type": "code",
   "execution_count": 24,
   "metadata": {
    "ExecuteTime": {
     "end_time": "2025-09-26T14:05:21.717824Z",
     "start_time": "2025-09-26T14:05:21.716581Z"
    }
   },
   "outputs": [],
   "source": []
  },
  {
   "cell_type": "code",
   "metadata": {
    "collapsed": false,
    "ExecuteTime": {
     "end_time": "2025-09-26T14:05:21.719742Z",
     "start_time": "2025-09-26T14:05:21.718348Z"
    }
   },
   "outputs": [],
   "source": [],
   "execution_count": 24
  },
  {
   "cell_type": "code",
   "outputs": [],
   "source": [],
   "metadata": {
    "collapsed": false,
    "ExecuteTime": {
     "end_time": "2025-09-26T14:05:21.721726Z",
     "start_time": "2025-09-26T14:05:21.720469Z"
    }
   },
   "execution_count": 24
  },
  {
   "cell_type": "code",
   "outputs": [],
   "source": [],
   "metadata": {
    "collapsed": false,
    "ExecuteTime": {
     "end_time": "2025-09-26T14:05:21.723732Z",
     "start_time": "2025-09-26T14:05:21.722438Z"
    }
   },
   "execution_count": 24
  },
  {
   "cell_type": "code",
   "outputs": [],
   "source": [],
   "metadata": {
    "collapsed": false,
    "ExecuteTime": {
     "end_time": "2025-09-26T14:05:21.725939Z",
     "start_time": "2025-09-26T14:05:21.724416Z"
    }
   },
   "execution_count": 24
  },
  {
   "cell_type": "code",
   "outputs": [],
   "source": [],
   "metadata": {
    "collapsed": false,
    "ExecuteTime": {
     "end_time": "2025-09-26T14:05:21.727785Z",
     "start_time": "2025-09-26T14:05:21.726453Z"
    }
   },
   "execution_count": 24
  },
  {
   "cell_type": "code",
   "outputs": [],
   "source": [],
   "metadata": {
    "collapsed": false,
    "ExecuteTime": {
     "end_time": "2025-09-26T14:05:21.730148Z",
     "start_time": "2025-09-26T14:05:21.728721Z"
    }
   },
   "execution_count": 24
  },
  {
   "cell_type": "code",
   "outputs": [],
   "source": [],
   "metadata": {
    "collapsed": false,
    "ExecuteTime": {
     "end_time": "2025-09-26T14:05:21.731994Z",
     "start_time": "2025-09-26T14:05:21.730767Z"
    }
   },
   "execution_count": 24
  },
  {
   "cell_type": "code",
   "outputs": [],
   "source": [],
   "metadata": {
    "collapsed": false,
    "ExecuteTime": {
     "end_time": "2025-09-26T14:05:21.733899Z",
     "start_time": "2025-09-26T14:05:21.732548Z"
    }
   },
   "execution_count": 24
  }
 ],
 "metadata": {
  "kernelspec": {
   "display_name": "Python 3 (ipykernel)",
   "language": "python",
   "name": "python3"
  },
  "language_info": {
   "codemirror_mode": {
    "name": "ipython",
    "version": 3
   },
   "file_extension": ".py",
   "mimetype": "text/x-python",
   "name": "python",
   "nbconvert_exporter": "python",
   "pygments_lexer": "ipython3",
   "version": "3.9.18"
  }
 },
 "nbformat": 4,
 "nbformat_minor": 1
}
