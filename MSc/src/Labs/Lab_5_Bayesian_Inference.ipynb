{
 "cells": [
  {
   "cell_type": "markdown",
   "metadata": {
    "collapsed": true
   },
   "source": [
    "# Lab 5 - Bayesian Inference\n",
    "\n",
    "In the 5th lab of the course, we will study Bayesian Inference in practice.\n",
    "\n",
    "We will explore the use of Bayesian inference thought a Decision Making example."
   ]
  },
  {
   "cell_type": "markdown",
   "metadata": {},
   "source": [
    "# Assignment: Bayesian Decision-Making\n",
    "\n",
    "## N Meteorologist Problem\n",
    "\n",
    "In this assignment, we explore the challenge of dealing with predictions from N different meteorologist, each forecasting whether it will rain the next day. Specifically, each meteorology predicts the propability\n",
    "of rain for the following day.\n",
    "\n",
    "To be more precise, we can interpret each meteorology as a model that predicts whether it will rain or not. Mathematically, this is expressed as $P(y | M_i)$ for each $i \\in M$, where $M$ is the set of possible meteorologist. Here, the random variable $y$ indicates whether it will rain or not (where $y = 1$ means rain and $y = 0$ means no rain). The output of each model, $P(y = 1 | M_i)$, represents the probability of rain for the next day.\n",
    "\n",
    "For the purposes of this exercise, we assume that we have $N = 3$ different meteorologist for simplicity.  \n",
    "The set $M$ is defined as $M = \\{M1, M2, M3\\}$."
   ]
  },
  {
   "cell_type": "code",
   "execution_count": null,
   "metadata": {
    "ExecuteTime": {
     "end_time": "2024-11-01T06:24:49.807778Z",
     "start_time": "2024-11-01T06:24:49.780276Z"
    }
   },
   "outputs": [],
   "source": [
    "import numpy as np\n",
    "\n",
    "# probability of raining for each meteorologist\n",
    "probability_rain = np.array([0.1, 0.5, 0.7]) # p( y=1 | M )\n",
    "\n",
    "probability_model = np.array([1-probability_rain, probability_rain]) # p(y|M)"
   ]
  },
  {
   "cell_type": "code",
   "execution_count": null,
   "metadata": {},
   "outputs": [],
   "source": [
    "probability_model"
   ]
  },
  {
   "cell_type": "code",
   "execution_count": null,
   "metadata": {},
   "outputs": [],
   "source": [
    "probability_model[0,0] # P(y=0|M=0)"
   ]
  },
  {
   "cell_type": "code",
   "execution_count": null,
   "metadata": {},
   "outputs": [],
   "source": [
    "probability_model[1,0] # P(y=1|M=0)"
   ]
  },
  {
   "cell_type": "markdown",
   "metadata": {},
   "source": [
    "# Step 1.1 Marginal Probability\n",
    "\n",
    "### Marginal Model\n",
    "In the Bayesian interpretation, we assume that we have a belief $P_\\beta(M_i)$ about which model $M_i$ is true.\n",
    "\n",
    "One way to estimate the probability of rain is to use the Bayesian Marginal Model:\n",
    "\n",
    "$$p_{\\text{marginal}}(y) =  \\sum_{i \\in M} p(y \\mid M_i) \\cdot P_\\beta(M_i)$$\n",
    "\n",
    "The marginal prediction is the average the probability from each meteorological model, weighted by our belief.  \n",
    "In other words, it is weighted by how much we trust each model.\n",
    "\n",
    "### Decision-Making Problem\n",
    "Now imagine that you have to decide whether it is going to rain and inform some friends.  \n",
    "Let's denote your decision with $a$: if it's going to rain, $a = 1$, and if it's not, $a = 0$.\n",
    "\n",
    "Given the $p_{\\text{marginal}}(y)$, we can select the final action $a$ that maximizes the marginal model:\n",
    "\n",
    "$$a = \\arg \\max_{y} \\; p_{\\text{marginal}}(y)$$"
   ]
  },
  {
   "cell_type": "markdown",
   "metadata": {},
   "source": [
    "**Complete the following steps**:  \n",
    "Let's assume that, on the first day, we have no information about which meteorological model is the best.  \n",
    "In other words, our prior belief is $P_\\beta(M_i) = \\text{Prior}(M_i) = 1/N$ for every $i \\in M$.  \n",
    "\n",
    "Additionally, the predicted probability of rain from the different meteorological stations, $P(y=1 \\mid M_i)$, is given by the following list: $[0.1, 0.5, 0.7]$.\n",
    "\n",
    "A) Define a vector representing the initial prior belief over the models $P_\\beta(M_i)$.  \n",
    "B) Create a function to calculate the marginal model $p_{\\text{marginal}}(y)$ for a each $y$.   \n",
    "C) Make your final decision (or prediction) based on the maximum probability of the Bayesian marginal model."
   ]
  },
  {
   "cell_type": "code",
   "execution_count": null,
   "metadata": {},
   "outputs": [],
   "source": [
    "import numpy as np\n",
    "\n",
    "# probability of raining for each meteorologist\n",
    "probability_rain = np.array([0.1, 0.5, 0.7]) # p( y=1 | M )\n",
    "probability_model = np.array([1-probability_rain, probability_rain]) # p(y|M)"
   ]
  },
  {
   "cell_type": "code",
   "execution_count": null,
   "metadata": {},
   "outputs": [],
   "source": [
    "# A) define prior\n",
    "number_of_meteorologist = 3\n",
    "prior =  # fill your code\n",
    "belief = "
   ]
  },
  {
   "cell_type": "code",
   "execution_count": null,
   "metadata": {},
   "outputs": [],
   "source": [
    "prior"
   ]
  },
  {
   "cell_type": "code",
   "execution_count": null,
   "metadata": {},
   "outputs": [],
   "source": [
    "def get_marginal_probability(y, belief, p_y_m):\n",
    "    # fill your code\n",
    "    marginal_prediction = sum(p_y_m[y,:]*belief)\n",
    "    return marginal_prediction"
   ]
  },
  {
   "cell_type": "code",
   "execution_count": null,
   "metadata": {},
   "outputs": [],
   "source": [
    "# B) calculate marginal prediction\n",
    "p_y0_marginal =  # fill your code # marginal probability of not raining\n",
    "p_y1_marginal =  # fill your code # marginal probability of raining\n",
    "p_y_marginal = [p_y0_marginal, p_y1_marginal] # the whole model"
   ]
  },
  {
   "cell_type": "code",
   "execution_count": null,
   "metadata": {},
   "outputs": [],
   "source": [
    "p_y_marginal"
   ]
  },
  {
   "cell_type": "code",
   "execution_count": null,
   "metadata": {},
   "outputs": [],
   "source": [
    "# C) calculate the action that the maximum the marginal probability\n",
    "final_decision = # fill your code"
   ]
  },
  {
   "cell_type": "code",
   "execution_count": null,
   "metadata": {},
   "outputs": [],
   "source": [
    "print(\"Our final prediction is :\", final_decision)"
   ]
  },
  {
   "cell_type": "markdown",
   "metadata": {},
   "source": [
    "# Step 1.2 Decision According to Utility\n",
    "\n",
    "In some applications, our predictions (or actions $a$) can significantly effect users.\n",
    "\n",
    "Consider a scenario where your friends plan a hike based on your weather prediction $a$.\n",
    "For example if our predictions is rain $a=1$ they dont go for hike.\n",
    "\n",
    "If we wrongly predict bad weather, the impact of your decision is small, as they simply miss the hike.   \n",
    "However, incorrectly predicting good weather can have a greater impact, as your friends may end up hiking in unfavorable conditions, which could affect their safety.\n",
    "\n",
    "One way to adjust our actions according to the effect on the user is to define an additional utility function $U(a, y)$ that outputs a scalar indicating how much our final actions are affected by the outcome $y$.\n",
    "\n",
    "We can then select the action $a$ that maximizes the expected utility $u(a) = E_{y \\sim p_m(y)}[U(a,y)]$ according to our model $p_m$ to estimate the outcome $y$.\n",
    "\n",
    "The expected utility is defined as follows:\n",
    "$$ u(a) = E_{y \\sim p_m(y)}[U(a,y)] = \\sum_y U[a,y] p_m(y) $$\n",
    "\n",
    "And the final action $a$ is the one that maximizes the expected utility:\n",
    "$$ a = \\arg \\max_{a} \\;  u(a) = \\arg \\max_{a} \\;  \\sum_y U[a,y] p_m(y)  $$\n",
    "\n"
   ]
  },
  {
   "cell_type": "markdown",
   "metadata": {},
   "source": [
    "In our example, we have the following utility function $U[a,y]$:\n",
    "\n",
    "$$\n",
    "U[a,y] = \\begin{bmatrix}\n",
    "           1  & -10 \\\\\n",
    "          -1 & 1\n",
    "        \\end{bmatrix}\n",
    "$$\n",
    "\n",
    "So, if our prediction (or action) is correct, i.e., $a = y$ (diagonal of the matrix), then we get a utility of 1.  \n",
    "If our action is 0 (no rain) and it's actually raining ($y=1$), then we incur a big penalty of -10.  \n",
    "If our action is 1 (rain) and it's actually not raining ($y=0$), then we incur a small penalty.\n",
    "\n",
    "\n",
    "**Complete the following steps**:  \n",
    "A) Fill the function bellow, that calculates the expected utility of an action $a$ according to a utility function U, and a model $p_m$  \n",
    "B) Produce the final action $a$ that maximise the expected utility according to the marginal model, and the utility function defined above.  \n",
    "C) Comment on the result. Did you get a different result from before? "
   ]
  },
  {
   "cell_type": "code",
   "execution_count": null,
   "metadata": {},
   "outputs": [],
   "source": [
    "def get_expected_utility(action , model , U):\n",
    "    \"\"\"\n",
    "    Calculate the expected utility of an decision a, according to a model, for specific utility function U\n",
    "    \"\"\"\n",
    "    n_outcomes = len(model)\n",
    "\n",
    "        \n",
    "    return expected_utility"
   ]
  },
  {
   "cell_type": "code",
   "execution_count": null,
   "metadata": {},
   "outputs": [],
   "source": [
    "U = np.array([[1, -10],\n",
    "              [-1, 1]])"
   ]
  },
  {
   "cell_type": "code",
   "execution_count": null,
   "metadata": {},
   "outputs": [],
   "source": [
    "# find the best \n",
    "expected_utility_a_0 = #  calculate expected utility of action a=0 based on the marginal model\n",
    "expected_utility_a_1 = #  calculate expected utility of action a=1 based on the marginal model"
   ]
  },
  {
   "cell_type": "code",
   "execution_count": null,
   "metadata": {},
   "outputs": [],
   "source": [
    "decition_e_utility = \n",
    "print(\"Our final prediction is :\", decition_e_utility)"
   ]
  },
  {
   "cell_type": "markdown",
   "metadata": {},
   "source": [
    "# Step 1.3 Updating Belief\n",
    "\n",
    "Imagine that after the first day, you observe that is actually rains, i.e, $y_{\\text{true}}$=1.  \n",
    "Then it makes sense to update our belief $P_{\\beta}(M)$ about the best model, depending on well the metrologies predicts the weather.\n",
    "\n",
    "We can update the belief $P_{\\beta}(M)$ by calculating the posterior distribution:\n",
    "\n",
    "$$ p(M_i|y_{\\text{true}}) = \\frac{p(y_{\\text{true}}|M_i) \\cdot p(M_i)}{p(y_{\\text{true}})} $$\n",
    "\n",
    "$$ = \\frac{p(y_{\\text{true}}|M_i) \\cdot p(M_i)}{\\sum_{j \\in M} p(y_{\\text{true}}|M_j) \\cdot p(M_j)} $$\n",
    "\n",
    "Then, until we observe some new data, we can use the posterior as our new belief until we observe an new outcome that will change again our belief."
   ]
  },
  {
   "cell_type": "markdown",
   "metadata": {},
   "source": [
    "**Complete the following steps**:  \n",
    "A) Create a function that calculate the posterior probability distribution.  \n",
    "B) Calculate the posterior is the case that the true outcome is y = 1 (rain).  \n",
    "C) Compare the values of the posterior with the values of the prior, comment on the results.  \n",
    "D) Set the belief to be equal to the posterior.  "
   ]
  },
  {
   "cell_type": "code",
   "execution_count": null,
   "metadata": {},
   "outputs": [],
   "source": [
    "# A)\n",
    "def get_posterior(prior, P, y_true):\n",
    "    \"\"\"\n",
    "    Calculate the posterior given a prior belief, a set of predictions, an outcome\n",
    "    - prior: belief vector so that prior[i] is the probability of model i being correct\n",
    "    - P: p(y|m) P[y][m] is the probability the m-th model assigns to the y-th outcome\n",
    "    - outcome: actual outcome\n",
    "    \"\"\"\n",
    "    n_models = len(prior)\n",
    "    ## fill in\n",
    "    posterior = \n",
    "    posterior = \n",
    "    return posterior"
   ]
  },
  {
   "cell_type": "code",
   "execution_count": null,
   "metadata": {},
   "outputs": [],
   "source": [
    "y_true = 1\n",
    "prior"
   ]
  },
  {
   "cell_type": "code",
   "execution_count": null,
   "metadata": {},
   "outputs": [],
   "source": [
    "# B) calculate the posterior, based on the true outcome y_true, and the old model\n",
    "posterior = "
   ]
  },
  {
   "cell_type": "code",
   "execution_count": null,
   "metadata": {},
   "outputs": [],
   "source": [
    "# C) compare prior and posterior\n",
    "print(\"Prior distribution:\", prior)\n",
    "print(\"Posterior distribution:\", posterior)\n",
    "\n",
    "# try to add some comment? what you observe?"
   ]
  },
  {
   "cell_type": "code",
   "execution_count": null,
   "metadata": {},
   "outputs": [],
   "source": [
    "# D) update belief\n",
    "belief = "
   ]
  },
  {
   "cell_type": "markdown",
   "metadata": {},
   "source": [
    "# Step 1.3 Sequential decision-making\n",
    "\n",
    "To wrap up everything above, consider the case that we sequentially have to produce our actions $a$ based on our belief about the model $P_{\\beta}(m)$ and the predictions of the meteorologist. \n",
    "\n",
    "Consider for example, 3 consecutive days we sequential get prediction from the different meteorologist.  \n",
    "At each day we have to produce a predictions (or action $a$).  \n",
    "After each day we also observe the true outcome, so we update our belief to make the decisions the next day."
   ]
  },
  {
   "cell_type": "markdown",
   "metadata": {},
   "source": [
    "**Complete the following steps**:  \n",
    "Iterate over the different days and:  \n",
    "A) Calculate the marginal prediction model based on the current belief  \n",
    "B) Select the action that maximise the marginal prediction model    \n",
    "C) Select the action that maximise the expected utility based on the marginal prediction model     \n",
    "D) Calculate posterior based on the true outcome and use it as a belief for the next day.  \n",
    "F) Comment on the final results"
   ]
  },
  {
   "cell_type": "code",
   "execution_count": null,
   "metadata": {},
   "outputs": [],
   "source": [
    "T = 3 # number of time steps\n",
    "n_models = 3 # number of models\n",
    "\n",
    "# build predictions for each station of rain probability\n",
    "predictions = np.array( \n",
    "                       [[0.1, 0.4, 0.7], # day 1\n",
    "                        [0.1, 0.1, 0.8], # day 2\n",
    "                        [0.3, 0.6, 0.9]] # day 3\n",
    "                      )\n",
    "\n",
    "\n",
    "true_y = [0, 0, 1];\n",
    "n_outcomes = 2 # 0 = no rain, 1 = rain"
   ]
  },
  {
   "cell_type": "code",
   "execution_count": null,
   "metadata": {},
   "outputs": [],
   "source": [
    "prior"
   ]
  },
  {
   "cell_type": "code",
   "execution_count": null,
   "metadata": {},
   "outputs": [],
   "source": [
    "predictions"
   ]
  },
  {
   "cell_type": "code",
   "execution_count": null,
   "metadata": {},
   "outputs": [],
   "source": [
    "belief = prior # fill your code\n",
    "print(belief)\n",
    "for t in range(T):\n",
    "    propability_rain_model = predictions[t]\n",
    "    propability_model = np.array([1-propability_rain_model, propability_rain_model]) # p(y|M)\n",
    "    \n",
    "    # A) get marginal model based on the belief\n",
    "    # fill your code\n",
    "    p_y_1_marginal = \n",
    "    p_y_marginal = \n",
    "    \n",
    "    # B) Select the action that maximise the marginal prediction model  \n",
    "    # fill your code\n",
    "    action_marginal = \n",
    "    \n",
    "    # C) Select the action that maximise the marginal prediction model  \n",
    "    u_a_1 = \n",
    "    u_a_0 = \n",
    "    actions_expected_utility = \n",
    "    \n",
    "    # D) Calculate posterior based on the true outcome and use it as a belief for the next day.\n",
    "    old_prior = \n",
    "    posterior = \n",
    "    belief = \n",
    "    \n",
    "    print(f\"-------iteration day {t}\")\n",
    "    print(\"Prior  p(m) = \", old_prior)\n",
    "    print(\"Predictions p(y=1|m) = \", predictions[t])\n",
    "    print(\"True outcome = \", true_y[t])\n",
    "    print(\"Marginal prediction, p_marginal(y=1) = \", p_y_1_marginal)\n",
    "    print(\"Action that maximise the marginal model:\", action_marginal)\n",
    "    print(\"Action that maximise the expected utility U according to the marginal model:\", actions_expected_utility)\n",
    "    print(\"Posterior:\", posterior)\n",
    "    print(\"\\n\")\n",
    "#     break"
   ]
  },
  {
   "cell_type": "markdown",
   "metadata": {},
   "source": [
    "**E) What is the best meteorologist according to the posterior distribution after process?**"
   ]
  },
  {
   "cell_type": "code",
   "execution_count": null,
   "metadata": {},
   "outputs": [],
   "source": []
  },
  {
   "cell_type": "markdown",
   "metadata": {},
   "source": [
    "# Step 1.4 Decision Based on Maximum a posteriori (MAP)\n",
    "\n",
    "Another way to make decisions is to select the model (\"meteorologist\") that performs the best according to our posterior distribution.\n",
    "\n",
    "More specifically, in each step, we can choose the model that maximizes the posterior:\n",
    "      $$m^{\\star} = \\arg \\max_{m} p(m|Data) $$\n",
    "\n",
    "And then obtain the best action according to that model $p(m|Data)$ instead of the marginal model.\n",
    "1. Obtain the action with the maximum probability according to the best model $p(y|m^{\\star})$.\n",
    "2. The second option is to select the action that maximizes the expected utility based on the best model $p(y|m^{\\star})$."
   ]
  },
  {
   "cell_type": "markdown",
   "metadata": {},
   "source": [
    "**Complete the following steps**:   \n",
    "A) Select the model $m^{\\star}$ with the maximum posterior (MAP estimator)   \n",
    "B) Calculate the action that with the maximum probability according to the model $p(y|m^{\\star})$  \n",
    "C) Calculate the action that with the maximum expected utility, according to the model $p(y|m^{\\star} )$  "
   ]
  },
  {
   "cell_type": "code",
   "execution_count": null,
   "metadata": {},
   "outputs": [],
   "source": [
    "predictions = [0.3, 0.3, 0.6]"
   ]
  },
  {
   "cell_type": "code",
   "execution_count": null,
   "metadata": {},
   "outputs": [],
   "source": [
    "#A)\n",
    "map_estimator = \n",
    "map_estimator"
   ]
  },
  {
   "cell_type": "code",
   "execution_count": null,
   "metadata": {},
   "outputs": [],
   "source": [
    "# B)\n",
    "p_y_1 =  # fill your code\n",
    "p_y_map =  # fill your code\n",
    "\n",
    "action_max_prop = "
   ]
  },
  {
   "cell_type": "code",
   "execution_count": null,
   "metadata": {},
   "outputs": [],
   "source": [
    "# C) expected utility\n",
    "u_a_1 = \n",
    "u_a_0 = \n",
    "\n",
    "final_actions_utility = "
   ]
  }
 ],
 "metadata": {
  "kernelspec": {
   "display_name": "Python 3 (ipykernel)",
   "language": "python",
   "name": "python3"
  },
  "language_info": {
   "codemirror_mode": {
    "name": "ipython",
    "version": 3
   },
   "file_extension": ".py",
   "mimetype": "text/x-python",
   "name": "python",
   "nbconvert_exporter": "python",
   "pygments_lexer": "ipython3",
   "version": "3.9.18"
  }
 },
 "nbformat": 4,
 "nbformat_minor": 1
}
