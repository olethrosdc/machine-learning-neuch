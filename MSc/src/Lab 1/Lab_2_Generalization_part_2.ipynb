{
 "cells": [
  {
   "cell_type": "markdown",
   "metadata": {
    "collapsed": true
   },
   "source": [
    "# Lab 1 - Generalization part 2\n",
    "\n",
    "In this lab session, we will examine the importance of generalization in the design of machine learning algorithms. Additionally, we will introduce Scikit-Learn (sklearn), a widely-used library that provides numerous pre-implemented machine learning algorithms.\n",
    "\n",
    "Part 1: Specifically, we will go through a Machine Learning pipeline that usually involves:\n",
    "\n",
    "1. Define the problem you want to solve  \n",
    "2. Collect data  \n",
    "3. Preprocess the data  \n",
    "4. Define a set of candidate models  \n",
    "5. Select the best model  \n",
    "6. Estimate performance on unseen data  \n",
    "\n",
    "Part 2: Resampling methods for model selection\n",
    "1. Cross-Validation\n",
    "2. Bootstrapping for model selection\n",
    "\n",
    "### Material for the Lab:\n",
    "1. Chapter 5 of the **\"An Introduction to Statistical Learning\"** book.\n",
    "\n",
    "The book can be found [here](https://www.statlearning.com/).\n",
    "\n",
    "**Note**: The first part of the notebook is identical to Lab 1."
   ]
  },
  {
   "cell_type": "markdown",
   "metadata": {},
   "source": [
    "# Import python libraries"
   ]
  },
  {
   "cell_type": "code",
   "execution_count": 62,
   "metadata": {
    "execution": {
     "iopub.execute_input": "2024-09-26T13:59:25.162275Z",
     "iopub.status.busy": "2024-09-26T13:59:25.156777Z",
     "iopub.status.idle": "2024-09-26T13:59:25.178028Z",
     "shell.execute_reply": "2024-09-26T13:59:25.176646Z",
     "shell.execute_reply.started": "2024-09-26T13:59:25.162127Z"
    },
    "ExecuteTime": {
     "end_time": "2025-10-10T06:28:18.489290Z",
     "start_time": "2025-10-10T06:28:18.445348Z"
    }
   },
   "outputs": [],
   "source": [
    "import numpy as np\n",
    "import matplotlib.pyplot as plt\n",
    "import pandas as pd\n",
    "import sklearn"
   ]
  },
  {
   "cell_type": "markdown",
   "metadata": {},
   "source": [
    "# Load Dataset\n",
    "\n",
    "![uci ml repo](./figures/UCI_repo.png)\n",
    "\n",
    "The [**UCI machine learning repository**](https://archive.ics.uci.edu) is a valuable resource in the field of machine learning and data mining. It is maintained by the University of California, Irvine (UCI), and provides a vast collection of datasets that are frequently used for research, experimentation, and education in the machine learning community.\n",
    "\n",
    "\n",
    "We will use the iris dataset, with our goal being to classify flowers into different categories based on certain features. \n",
    "\n",
    "You can find more information about the dataset on the following [webpage](https://archive.ics.uci.edu/dataset/53/iris)"
   ]
  },
  {
   "cell_type": "code",
   "execution_count": 63,
   "metadata": {
    "execution": {
     "iopub.execute_input": "2024-09-26T13:59:25.183547Z",
     "iopub.status.busy": "2024-09-26T13:59:25.181087Z",
     "iopub.status.idle": "2024-09-26T13:59:25.818454Z",
     "shell.execute_reply": "2024-09-26T13:59:25.816825Z",
     "shell.execute_reply.started": "2024-09-26T13:59:25.183497Z"
    },
    "ExecuteTime": {
     "end_time": "2025-10-10T06:28:20.243518Z",
     "start_time": "2025-10-10T06:28:18.857698Z"
    }
   },
   "outputs": [],
   "source": [
    "features = ['Sepal_Length', 'Sepal_Width', 'Petal_Length', 'Petal_Width']\n",
    "\n",
    "target = 'Class'\n",
    "\n",
    "### load some data with pandas\n",
    "\n",
    "csv_url = 'https://archive.ics.uci.edu/ml/machine-learning-databases/iris/iris.data'\n",
    "dataset = pd.read_csv(csv_url, names=features + [target])\n",
    "data_x = dataset[features]\n",
    "data_y = dataset[[target]]"
   ]
  },
  {
   "cell_type": "code",
   "outputs": [],
   "source": [],
   "metadata": {
    "collapsed": false,
    "ExecuteTime": {
     "end_time": "2025-10-10T06:28:20.246581Z",
     "start_time": "2025-10-10T06:28:20.244593Z"
    }
   },
   "execution_count": 63
  },
  {
   "cell_type": "markdown",
   "metadata": {},
   "source": [
    "### lets have a quick look on our dataset\n",
    "Our dataset consist of a set of different features together with a target category for classification"
   ]
  },
  {
   "cell_type": "code",
   "execution_count": 64,
   "metadata": {
    "execution": {
     "iopub.execute_input": "2024-09-26T13:59:25.820836Z",
     "iopub.status.busy": "2024-09-26T13:59:25.820360Z",
     "iopub.status.idle": "2024-09-26T13:59:25.851211Z",
     "shell.execute_reply": "2024-09-26T13:59:25.847672Z",
     "shell.execute_reply.started": "2024-09-26T13:59:25.820794Z"
    },
    "ExecuteTime": {
     "end_time": "2025-10-10T06:28:20.255361Z",
     "start_time": "2025-10-10T06:28:20.247277Z"
    }
   },
   "outputs": [
    {
     "data": {
      "text/plain": "     Sepal_Length  Sepal_Width  Petal_Length  Petal_Width           Class\n0             5.1          3.5           1.4          0.2     Iris-setosa\n1             4.9          3.0           1.4          0.2     Iris-setosa\n2             4.7          3.2           1.3          0.2     Iris-setosa\n3             4.6          3.1           1.5          0.2     Iris-setosa\n4             5.0          3.6           1.4          0.2     Iris-setosa\n..            ...          ...           ...          ...             ...\n145           6.7          3.0           5.2          2.3  Iris-virginica\n146           6.3          2.5           5.0          1.9  Iris-virginica\n147           6.5          3.0           5.2          2.0  Iris-virginica\n148           6.2          3.4           5.4          2.3  Iris-virginica\n149           5.9          3.0           5.1          1.8  Iris-virginica\n\n[150 rows x 5 columns]",
      "text/html": "<div>\n<style scoped>\n    .dataframe tbody tr th:only-of-type {\n        vertical-align: middle;\n    }\n\n    .dataframe tbody tr th {\n        vertical-align: top;\n    }\n\n    .dataframe thead th {\n        text-align: right;\n    }\n</style>\n<table border=\"1\" class=\"dataframe\">\n  <thead>\n    <tr style=\"text-align: right;\">\n      <th></th>\n      <th>Sepal_Length</th>\n      <th>Sepal_Width</th>\n      <th>Petal_Length</th>\n      <th>Petal_Width</th>\n      <th>Class</th>\n    </tr>\n  </thead>\n  <tbody>\n    <tr>\n      <th>0</th>\n      <td>5.1</td>\n      <td>3.5</td>\n      <td>1.4</td>\n      <td>0.2</td>\n      <td>Iris-setosa</td>\n    </tr>\n    <tr>\n      <th>1</th>\n      <td>4.9</td>\n      <td>3.0</td>\n      <td>1.4</td>\n      <td>0.2</td>\n      <td>Iris-setosa</td>\n    </tr>\n    <tr>\n      <th>2</th>\n      <td>4.7</td>\n      <td>3.2</td>\n      <td>1.3</td>\n      <td>0.2</td>\n      <td>Iris-setosa</td>\n    </tr>\n    <tr>\n      <th>3</th>\n      <td>4.6</td>\n      <td>3.1</td>\n      <td>1.5</td>\n      <td>0.2</td>\n      <td>Iris-setosa</td>\n    </tr>\n    <tr>\n      <th>4</th>\n      <td>5.0</td>\n      <td>3.6</td>\n      <td>1.4</td>\n      <td>0.2</td>\n      <td>Iris-setosa</td>\n    </tr>\n    <tr>\n      <th>...</th>\n      <td>...</td>\n      <td>...</td>\n      <td>...</td>\n      <td>...</td>\n      <td>...</td>\n    </tr>\n    <tr>\n      <th>145</th>\n      <td>6.7</td>\n      <td>3.0</td>\n      <td>5.2</td>\n      <td>2.3</td>\n      <td>Iris-virginica</td>\n    </tr>\n    <tr>\n      <th>146</th>\n      <td>6.3</td>\n      <td>2.5</td>\n      <td>5.0</td>\n      <td>1.9</td>\n      <td>Iris-virginica</td>\n    </tr>\n    <tr>\n      <th>147</th>\n      <td>6.5</td>\n      <td>3.0</td>\n      <td>5.2</td>\n      <td>2.0</td>\n      <td>Iris-virginica</td>\n    </tr>\n    <tr>\n      <th>148</th>\n      <td>6.2</td>\n      <td>3.4</td>\n      <td>5.4</td>\n      <td>2.3</td>\n      <td>Iris-virginica</td>\n    </tr>\n    <tr>\n      <th>149</th>\n      <td>5.9</td>\n      <td>3.0</td>\n      <td>5.1</td>\n      <td>1.8</td>\n      <td>Iris-virginica</td>\n    </tr>\n  </tbody>\n</table>\n<p>150 rows × 5 columns</p>\n</div>"
     },
     "execution_count": 64,
     "metadata": {},
     "output_type": "execute_result"
    }
   ],
   "source": [
    "dataset"
   ]
  },
  {
   "cell_type": "markdown",
   "metadata": {},
   "source": [
    "lets see different information on our dataset"
   ]
  },
  {
   "cell_type": "code",
   "execution_count": 65,
   "metadata": {
    "execution": {
     "iopub.execute_input": "2024-09-26T13:59:25.855876Z",
     "iopub.status.busy": "2024-09-26T13:59:25.854887Z",
     "iopub.status.idle": "2024-09-26T13:59:25.897599Z",
     "shell.execute_reply": "2024-09-26T13:59:25.894215Z",
     "shell.execute_reply.started": "2024-09-26T13:59:25.855794Z"
    },
    "ExecuteTime": {
     "end_time": "2025-10-10T06:28:20.259664Z",
     "start_time": "2025-10-10T06:28:20.256896Z"
    }
   },
   "outputs": [
    {
     "name": "stdout",
     "output_type": "stream",
     "text": [
      "Shape of our dataset: (150, 5)\n",
      "Number of features: 4\n",
      "Number of labels: 1\n",
      "Number of examples: 150\n"
     ]
    }
   ],
   "source": [
    "print(\"Shape of our dataset:\", dataset.shape)\n",
    "print(\"Number of features:\", data_x.shape[1])\n",
    "print(\"Number of labels:\", data_y.shape[1])\n",
    "print(\"Number of examples:\", data_x.shape[0])"
   ]
  },
  {
   "cell_type": "code",
   "execution_count": 66,
   "metadata": {
    "execution": {
     "iopub.execute_input": "2024-09-26T13:59:25.907014Z",
     "iopub.status.busy": "2024-09-26T13:59:25.905211Z",
     "iopub.status.idle": "2024-09-26T13:59:25.938050Z",
     "shell.execute_reply": "2024-09-26T13:59:25.935599Z",
     "shell.execute_reply.started": "2024-09-26T13:59:25.906899Z"
    },
    "ExecuteTime": {
     "end_time": "2025-10-10T06:28:20.277544Z",
     "start_time": "2025-10-10T06:28:20.273265Z"
    }
   },
   "outputs": [
    {
     "name": "stdout",
     "output_type": "stream",
     "text": [
      "Number of different classes 3\n",
      "unique classes: ['Iris-setosa' 'Iris-versicolor' 'Iris-virginica']\n"
     ]
    }
   ],
   "source": [
    "print(\"Number of different classes\", len(data_y[\"Class\"].unique()))\n",
    "print(\"unique classes:\", data_y[\"Class\"].unique())"
   ]
  },
  {
   "cell_type": "code",
   "execution_count": 67,
   "metadata": {
    "execution": {
     "iopub.execute_input": "2024-09-26T13:59:25.943903Z",
     "iopub.status.busy": "2024-09-26T13:59:25.942022Z",
     "iopub.status.idle": "2024-09-26T13:59:25.980835Z",
     "shell.execute_reply": "2024-09-26T13:59:25.979399Z",
     "shell.execute_reply.started": "2024-09-26T13:59:25.943796Z"
    },
    "ExecuteTime": {
     "end_time": "2025-10-10T06:28:20.527907Z",
     "start_time": "2025-10-10T06:28:20.520953Z"
    }
   },
   "outputs": [
    {
     "data": {
      "text/plain": "Iris-setosa        50\nIris-versicolor    50\nIris-virginica     50\nName: Class, dtype: int64"
     },
     "execution_count": 67,
     "metadata": {},
     "output_type": "execute_result"
    }
   ],
   "source": [
    "data_y[\"Class\"].value_counts()"
   ]
  },
  {
   "cell_type": "code",
   "execution_count": 68,
   "metadata": {
    "execution": {
     "iopub.execute_input": "2024-09-26T13:59:25.984407Z",
     "iopub.status.busy": "2024-09-26T13:59:25.983615Z",
     "iopub.status.idle": "2024-09-26T13:59:26.071035Z",
     "shell.execute_reply": "2024-09-26T13:59:26.069680Z",
     "shell.execute_reply.started": "2024-09-26T13:59:25.984324Z"
    },
    "ExecuteTime": {
     "end_time": "2025-10-10T06:28:20.712378Z",
     "start_time": "2025-10-10T06:28:20.703969Z"
    }
   },
   "outputs": [
    {
     "data": {
      "text/plain": "       Sepal_Length  Sepal_Width  Petal_Length  Petal_Width\ncount    150.000000   150.000000    150.000000   150.000000\nmean       5.843333     3.054000      3.758667     1.198667\nstd        0.828066     0.433594      1.764420     0.763161\nmin        4.300000     2.000000      1.000000     0.100000\n25%        5.100000     2.800000      1.600000     0.300000\n50%        5.800000     3.000000      4.350000     1.300000\n75%        6.400000     3.300000      5.100000     1.800000\nmax        7.900000     4.400000      6.900000     2.500000",
      "text/html": "<div>\n<style scoped>\n    .dataframe tbody tr th:only-of-type {\n        vertical-align: middle;\n    }\n\n    .dataframe tbody tr th {\n        vertical-align: top;\n    }\n\n    .dataframe thead th {\n        text-align: right;\n    }\n</style>\n<table border=\"1\" class=\"dataframe\">\n  <thead>\n    <tr style=\"text-align: right;\">\n      <th></th>\n      <th>Sepal_Length</th>\n      <th>Sepal_Width</th>\n      <th>Petal_Length</th>\n      <th>Petal_Width</th>\n    </tr>\n  </thead>\n  <tbody>\n    <tr>\n      <th>count</th>\n      <td>150.000000</td>\n      <td>150.000000</td>\n      <td>150.000000</td>\n      <td>150.000000</td>\n    </tr>\n    <tr>\n      <th>mean</th>\n      <td>5.843333</td>\n      <td>3.054000</td>\n      <td>3.758667</td>\n      <td>1.198667</td>\n    </tr>\n    <tr>\n      <th>std</th>\n      <td>0.828066</td>\n      <td>0.433594</td>\n      <td>1.764420</td>\n      <td>0.763161</td>\n    </tr>\n    <tr>\n      <th>min</th>\n      <td>4.300000</td>\n      <td>2.000000</td>\n      <td>1.000000</td>\n      <td>0.100000</td>\n    </tr>\n    <tr>\n      <th>25%</th>\n      <td>5.100000</td>\n      <td>2.800000</td>\n      <td>1.600000</td>\n      <td>0.300000</td>\n    </tr>\n    <tr>\n      <th>50%</th>\n      <td>5.800000</td>\n      <td>3.000000</td>\n      <td>4.350000</td>\n      <td>1.300000</td>\n    </tr>\n    <tr>\n      <th>75%</th>\n      <td>6.400000</td>\n      <td>3.300000</td>\n      <td>5.100000</td>\n      <td>1.800000</td>\n    </tr>\n    <tr>\n      <th>max</th>\n      <td>7.900000</td>\n      <td>4.400000</td>\n      <td>6.900000</td>\n      <td>2.500000</td>\n    </tr>\n  </tbody>\n</table>\n</div>"
     },
     "execution_count": 68,
     "metadata": {},
     "output_type": "execute_result"
    }
   ],
   "source": [
    "data_x.describe()"
   ]
  },
  {
   "cell_type": "code",
   "execution_count": 69,
   "metadata": {
    "execution": {
     "iopub.execute_input": "2024-09-26T13:59:26.073297Z",
     "iopub.status.busy": "2024-09-26T13:59:26.072882Z"
    },
    "ExecuteTime": {
     "end_time": "2025-10-10T06:28:21.471326Z",
     "start_time": "2025-10-10T06:28:20.942807Z"
    }
   },
   "outputs": [
    {
     "data": {
      "text/plain": "<Figure size 640x480 with 0 Axes>"
     },
     "metadata": {},
     "output_type": "display_data"
    },
    {
     "data": {
      "text/plain": "<Figure size 800x1200 with 14 Axes>",
      "image/png": "[encoded data removed]"
     },
     "metadata": {},
     "output_type": "display_data"
    }
   ],
   "source": [
    "plt.figure()\n",
    "dataset[features].plot.density(subplots=True,\n",
    "                               layout=(7, 2),\n",
    "                               figsize=(8, 12),\n",
    "                               sharex=True,\n",
    "                               sharey=False)\n",
    "plt.show()\n",
    "plt.close()"
   ]
  },
  {
   "cell_type": "markdown",
   "metadata": {},
   "source": [
    "# Introduction to Scikit-Learn (Sklearn)\n",
    "\n",
    "Scikit-Learn, is a powerful and widely-used machine learning library in Python. It provides a comprehensive set of tools for various machine learning tasks, making it an excellent choice for both beginners and experienced data scientists.\n",
    "\n",
    "#### Key Features of Scikit-Learn\n",
    "\n",
    "Sklearn offers a plethora of features and benefits, including:\n",
    "\n",
    "- **User-Friendly Interface**: Sklearn provides a simple and consistent API that makes it easy to implement machine learning algorithms.\n",
    "  \n",
    "- **Wide Range of Algorithms**: It includes a diverse collection of machine learning algorithms, such as regression, classification, clustering, dimensionality reduction, and more.\n",
    "  \n",
    "- **Efficient Data Preprocessing**: Sklearn offers robust data preprocessing capabilities, including data cleaning, scaling, encoding, and feature selection.\n",
    "\n",
    "- **Model Evaluation**: It provides tools for model evaluation, including various metrics for classification and regression tasks.\n",
    "\n",
    "[Sklearn](https://scikit-learn.org/stable/supervised_learning.html) user guide."
   ]
  },
  {
   "cell_type": "markdown",
   "metadata": {},
   "source": [
    "# Data Preprocessing\n",
    "\n",
    "In every machine learning pipeline, the data needs some preprocessing.\n",
    "\n",
    "Scikit-Learn offers a range of [preprocessing](https://scikit-learn.org/stable/modules/preprocessing.html) methods that allow us to modify data and address issues such as missing values, outlier removal, feature scaling, and data handling.\n",
    "\n",
    "For example in some machine learning algorithms, the scales of the features can have a huge impact on the performance of the model.\n",
    "\n",
    "In **data scaling**, we aim to bring all features to the same scale to ensure that no feature dominates others due to its range. This is especially important for algorithms that rely on distance metrics.\n",
    "\n",
    "Consider the k-nearest neighbors (KNN) algorithm, where we calculate the Euclidean distance to find the k nearest neighbors. When features have varying scales, it can significantly affect the algorithm's performance. If we don't normalize our data and bring features to similar scales, the algorithm will put more weight to features with larger scales, potentially leading to biased outcomes. In our case, for example, our dataset contains features with different scales, such as \"Sepal_Length\" and \"Petal_Width\"."
   ]
  },
  {
   "cell_type": "markdown",
   "metadata": {},
   "source": [
    "The most common method to scale your dataset are listed bellow.\n",
    "1. min-max scaling\n",
    "    * $x_{scaled} = (x - min) / (max-min)$\n",
    "    * $x_{scaled} \\in [0,1]$\n",
    "    * not good technique when you have outliers\n",
    "    \n",
    "    \n",
    "2. standard scaling\n",
    "   * $x_{scaled} = (x - mean) / std$\n",
    "   * $mean(x_{scaled}) = 0$\n",
    "   * $std(x_{scaled}) = 1$\n",
    "   * robust to outliers"
   ]
  },
  {
   "cell_type": "code",
   "execution_count": 70,
   "metadata": {
    "ExecuteTime": {
     "end_time": "2025-10-10T06:28:21.872762Z",
     "start_time": "2025-10-10T06:28:21.864990Z"
    }
   },
   "outputs": [],
   "source": [
    "from sklearn.preprocessing import StandardScaler\n",
    "\n",
    "standard_scaler = StandardScaler().fit(data_x[features])\n",
    "\n",
    "norm_x = standard_scaler.transform(data_x[features])\n",
    "# sklearn return a numpy so we can convert back to pandas\n",
    "norm_x = pd.DataFrame(norm_x, columns=features)"
   ]
  },
  {
   "cell_type": "code",
   "execution_count": 71,
   "metadata": {
    "ExecuteTime": {
     "end_time": "2025-10-10T06:28:22.068880Z",
     "start_time": "2025-10-10T06:28:22.061923Z"
    }
   },
   "outputs": [
    {
     "data": {
      "text/plain": "     Sepal_Length  Sepal_Width  Petal_Length  Petal_Width\n0       -0.900681     1.032057     -1.341272    -1.312977\n1       -1.143017    -0.124958     -1.341272    -1.312977\n2       -1.385353     0.337848     -1.398138    -1.312977\n3       -1.506521     0.106445     -1.284407    -1.312977\n4       -1.021849     1.263460     -1.341272    -1.312977\n..            ...          ...           ...          ...\n145      1.038005    -0.124958      0.819624     1.447956\n146      0.553333    -1.281972      0.705893     0.922064\n147      0.795669    -0.124958      0.819624     1.053537\n148      0.432165     0.800654      0.933356     1.447956\n149      0.068662    -0.124958      0.762759     0.790591\n\n[150 rows x 4 columns]",
      "text/html": "<div>\n<style scoped>\n    .dataframe tbody tr th:only-of-type {\n        vertical-align: middle;\n    }\n\n    .dataframe tbody tr th {\n        vertical-align: top;\n    }\n\n    .dataframe thead th {\n        text-align: right;\n    }\n</style>\n<table border=\"1\" class=\"dataframe\">\n  <thead>\n    <tr style=\"text-align: right;\">\n      <th></th>\n      <th>Sepal_Length</th>\n      <th>Sepal_Width</th>\n      <th>Petal_Length</th>\n      <th>Petal_Width</th>\n    </tr>\n  </thead>\n  <tbody>\n    <tr>\n      <th>0</th>\n      <td>-0.900681</td>\n      <td>1.032057</td>\n      <td>-1.341272</td>\n      <td>-1.312977</td>\n    </tr>\n    <tr>\n      <th>1</th>\n      <td>-1.143017</td>\n      <td>-0.124958</td>\n      <td>-1.341272</td>\n      <td>-1.312977</td>\n    </tr>\n    <tr>\n      <th>2</th>\n      <td>-1.385353</td>\n      <td>0.337848</td>\n      <td>-1.398138</td>\n      <td>-1.312977</td>\n    </tr>\n    <tr>\n      <th>3</th>\n      <td>-1.506521</td>\n      <td>0.106445</td>\n      <td>-1.284407</td>\n      <td>-1.312977</td>\n    </tr>\n    <tr>\n      <th>4</th>\n      <td>-1.021849</td>\n      <td>1.263460</td>\n      <td>-1.341272</td>\n      <td>-1.312977</td>\n    </tr>\n    <tr>\n      <th>...</th>\n      <td>...</td>\n      <td>...</td>\n      <td>...</td>\n      <td>...</td>\n    </tr>\n    <tr>\n      <th>145</th>\n      <td>1.038005</td>\n      <td>-0.124958</td>\n      <td>0.819624</td>\n      <td>1.447956</td>\n    </tr>\n    <tr>\n      <th>146</th>\n      <td>0.553333</td>\n      <td>-1.281972</td>\n      <td>0.705893</td>\n      <td>0.922064</td>\n    </tr>\n    <tr>\n      <th>147</th>\n      <td>0.795669</td>\n      <td>-0.124958</td>\n      <td>0.819624</td>\n      <td>1.053537</td>\n    </tr>\n    <tr>\n      <th>148</th>\n      <td>0.432165</td>\n      <td>0.800654</td>\n      <td>0.933356</td>\n      <td>1.447956</td>\n    </tr>\n    <tr>\n      <th>149</th>\n      <td>0.068662</td>\n      <td>-0.124958</td>\n      <td>0.762759</td>\n      <td>0.790591</td>\n    </tr>\n  </tbody>\n</table>\n<p>150 rows × 4 columns</p>\n</div>"
     },
     "execution_count": 71,
     "metadata": {},
     "output_type": "execute_result"
    }
   ],
   "source": [
    "norm_x"
   ]
  },
  {
   "cell_type": "code",
   "execution_count": 72,
   "metadata": {
    "ExecuteTime": {
     "end_time": "2025-10-10T06:28:22.784074Z",
     "start_time": "2025-10-10T06:28:22.279371Z"
    }
   },
   "outputs": [
    {
     "data": {
      "text/plain": "<Figure size 640x480 with 0 Axes>"
     },
     "metadata": {},
     "output_type": "display_data"
    },
    {
     "data": {
      "text/plain": "<Figure size 800x1200 with 14 Axes>",
      "image/png": "[encoded data removed]"
     },
     "metadata": {},
     "output_type": "display_data"
    }
   ],
   "source": [
    "plt.figure()\n",
    "norm_x[features].plot.density(subplots=True,\n",
    "                              layout=(7, 2),\n",
    "                              figsize=(8, 12),\n",
    "                              sharex=True,\n",
    "                              sharey=False)\n",
    "plt.show()\n",
    "plt.close()"
   ]
  },
  {
   "cell_type": "code",
   "execution_count": 73,
   "metadata": {
    "ExecuteTime": {
     "end_time": "2025-10-10T06:28:22.814259Z",
     "start_time": "2025-10-10T06:28:22.810325Z"
    }
   },
   "outputs": [
    {
     "data": {
      "text/plain": "Sepal_Length   -4.736952e-16\nSepal_Width    -6.631732e-16\nPetal_Length    3.315866e-16\nPetal_Width    -2.842171e-16\ndtype: float64"
     },
     "execution_count": 73,
     "metadata": {},
     "output_type": "execute_result"
    }
   ],
   "source": [
    "norm_x[features].mean()"
   ]
  },
  {
   "cell_type": "markdown",
   "metadata": {},
   "source": [
    "# Sklearn models API\n",
    "\n",
    "Sklearn also offers a wide variety of [models](https://scikit-learn.org/stable/supervised_learning.html)."
   ]
  },
  {
   "cell_type": "code",
   "execution_count": 74,
   "metadata": {
    "ExecuteTime": {
     "end_time": "2025-10-10T06:28:22.981114Z",
     "start_time": "2025-10-10T06:28:22.978793Z"
    }
   },
   "outputs": [],
   "source": [
    "from sklearn.neighbors import KNeighborsClassifier\n",
    "\n",
    "model = KNeighborsClassifier(n_neighbors=10)"
   ]
  },
  {
   "cell_type": "code",
   "execution_count": 75,
   "metadata": {
    "ExecuteTime": {
     "end_time": "2025-10-10T06:28:23.163973Z",
     "start_time": "2025-10-10T06:28:23.158328Z"
    }
   },
   "outputs": [
    {
     "data": {
      "text/plain": "KNeighborsClassifier(n_neighbors=10)",
      "text/html": "<style>#sk-container-id-4 {color: black;background-color: white;}#sk-container-id-4 pre{padding: 0;}#sk-container-id-4 div.sk-toggleable {background-color: white;}#sk-container-id-4 label.sk-toggleable__label {cursor: pointer;display: block;width: 100%;margin-bottom: 0;padding: 0.3em;box-sizing: border-box;text-align: center;}#sk-container-id-4 label.sk-toggleable__label-arrow:before {content: \"▸\";float: left;margin-right: 0.25em;color: #696969;}#sk-container-id-4 label.sk-toggleable__label-arrow:hover:before {color: black;}#sk-container-id-4 div.sk-estimator:hover label.sk-toggleable__label-arrow:before {color: black;}#sk-container-id-4 div.sk-toggleable__content {max-height: 0;max-width: 0;overflow: hidden;text-align: left;background-color: #f0f8ff;}#sk-container-id-4 div.sk-toggleable__content pre {margin: 0.2em;color: black;border-radius: 0.25em;background-color: #f0f8ff;}#sk-container-id-4 input.sk-toggleable__control:checked~div.sk-toggleable__content {max-height: 200px;max-width: 100%;overflow: auto;}#sk-container-id-4 input.sk-toggleable__control:checked~label.sk-toggleable__label-arrow:before {content: \"▾\";}#sk-container-id-4 div.sk-estimator input.sk-toggleable__control:checked~label.sk-toggleable__label {background-color: #d4ebff;}#sk-container-id-4 div.sk-label input.sk-toggleable__control:checked~label.sk-toggleable__label {background-color: #d4ebff;}#sk-container-id-4 input.sk-hidden--visually {border: 0;clip: rect(1px 1px 1px 1px);clip: rect(1px, 1px, 1px, 1px);height: 1px;margin: -1px;overflow: hidden;padding: 0;position: absolute;width: 1px;}#sk-container-id-4 div.sk-estimator {font-family: monospace;background-color: #f0f8ff;border: 1px dotted black;border-radius: 0.25em;box-sizing: border-box;margin-bottom: 0.5em;}#sk-container-id-4 div.sk-estimator:hover {background-color: #d4ebff;}#sk-container-id-4 div.sk-parallel-item::after {content: \"\";width: 100%;border-bottom: 1px solid gray;flex-grow: 1;}#sk-container-id-4 div.sk-label:hover label.sk-toggleable__label {background-color: #d4ebff;}#sk-container-id-4 div.sk-serial::before {content: \"\";position: absolute;border-left: 1px solid gray;box-sizing: border-box;top: 0;bottom: 0;left: 50%;z-index: 0;}#sk-container-id-4 div.sk-serial {display: flex;flex-direction: column;align-items: center;background-color: white;padding-right: 0.2em;padding-left: 0.2em;position: relative;}#sk-container-id-4 div.sk-item {position: relative;z-index: 1;}#sk-container-id-4 div.sk-parallel {display: flex;align-items: stretch;justify-content: center;background-color: white;position: relative;}#sk-container-id-4 div.sk-item::before, #sk-container-id-4 div.sk-parallel-item::before {content: \"\";position: absolute;border-left: 1px solid gray;box-sizing: border-box;top: 0;bottom: 0;left: 50%;z-index: -1;}#sk-container-id-4 div.sk-parallel-item {display: flex;flex-direction: column;z-index: 1;position: relative;background-color: white;}#sk-container-id-4 div.sk-parallel-item:first-child::after {align-self: flex-end;width: 50%;}#sk-container-id-4 div.sk-parallel-item:last-child::after {align-self: flex-start;width: 50%;}#sk-container-id-4 div.sk-parallel-item:only-child::after {width: 0;}#sk-container-id-4 div.sk-dashed-wrapped {border: 1px dashed gray;margin: 0 0.4em 0.5em 0.4em;box-sizing: border-box;padding-bottom: 0.4em;background-color: white;}#sk-container-id-4 div.sk-label label {font-family: monospace;font-weight: bold;display: inline-block;line-height: 1.2em;}#sk-container-id-4 div.sk-label-container {text-align: center;}#sk-container-id-4 div.sk-container {/* jupyter's `normalize.less` sets `[hidden] { display: none; }` but bootstrap.min.css set `[hidden] { display: none !important; }` so we also need the `!important` here to be able to override the default hidden behavior on the sphinx rendered scikit-learn.org. See: https://github.com/scikit-learn/scikit-learn/issues/21755 */display: inline-block !important;position: relative;}#sk-container-id-4 div.sk-text-repr-fallback {display: none;}</style><div id=\"sk-container-id-4\" class=\"sk-top-container\"><div class=\"sk-text-repr-fallback\"><pre>KNeighborsClassifier(n_neighbors=10)</pre><b>In a Jupyter environment, please rerun this cell to show the HTML representation or trust the notebook. <br />On GitHub, the HTML representation is unable to render, please try loading this page with nbviewer.org.</b></div><div class=\"sk-container\" hidden><div class=\"sk-item\"><div class=\"sk-estimator sk-toggleable\"><input class=\"sk-toggleable__control sk-hidden--visually\" id=\"sk-estimator-id-4\" type=\"checkbox\" checked><label for=\"sk-estimator-id-4\" class=\"sk-toggleable__label sk-toggleable__label-arrow\">KNeighborsClassifier</label><div class=\"sk-toggleable__content\"><pre>KNeighborsClassifier(n_neighbors=10)</pre></div></div></div></div></div>"
     },
     "execution_count": 75,
     "metadata": {},
     "output_type": "execute_result"
    }
   ],
   "source": [
    "# we can train our model using the fit method\n",
    "model.fit(norm_x[features], data_y[target])"
   ]
  },
  {
   "cell_type": "code",
   "execution_count": 76,
   "metadata": {
    "ExecuteTime": {
     "end_time": "2025-10-10T06:28:23.378081Z",
     "start_time": "2025-10-10T06:28:23.367912Z"
    }
   },
   "outputs": [
    {
     "data": {
      "text/plain": "array(['Iris-setosa', 'Iris-setosa', 'Iris-setosa', 'Iris-setosa',\n       'Iris-setosa', 'Iris-setosa', 'Iris-setosa', 'Iris-setosa',\n       'Iris-setosa', 'Iris-setosa', 'Iris-setosa', 'Iris-setosa',\n       'Iris-setosa', 'Iris-setosa', 'Iris-setosa', 'Iris-setosa',\n       'Iris-setosa', 'Iris-setosa', 'Iris-setosa', 'Iris-setosa',\n       'Iris-setosa', 'Iris-setosa', 'Iris-setosa', 'Iris-setosa',\n       'Iris-setosa', 'Iris-setosa', 'Iris-setosa', 'Iris-setosa',\n       'Iris-setosa', 'Iris-setosa', 'Iris-setosa', 'Iris-setosa',\n       'Iris-setosa', 'Iris-setosa', 'Iris-setosa', 'Iris-setosa',\n       'Iris-setosa', 'Iris-setosa', 'Iris-setosa', 'Iris-setosa',\n       'Iris-setosa', 'Iris-setosa', 'Iris-setosa', 'Iris-setosa',\n       'Iris-setosa', 'Iris-setosa', 'Iris-setosa', 'Iris-setosa',\n       'Iris-setosa', 'Iris-setosa', 'Iris-versicolor', 'Iris-versicolor',\n       'Iris-versicolor', 'Iris-versicolor', 'Iris-versicolor',\n       'Iris-versicolor', 'Iris-versicolor', 'Iris-versicolor',\n       'Iris-versicolor', 'Iris-versicolor', 'Iris-versicolor',\n       'Iris-versicolor', 'Iris-versicolor', 'Iris-versicolor',\n       'Iris-versicolor', 'Iris-versicolor', 'Iris-versicolor',\n       'Iris-versicolor', 'Iris-versicolor', 'Iris-versicolor',\n       'Iris-versicolor', 'Iris-versicolor', 'Iris-versicolor',\n       'Iris-versicolor', 'Iris-versicolor', 'Iris-versicolor',\n       'Iris-versicolor', 'Iris-versicolor', 'Iris-versicolor',\n       'Iris-versicolor', 'Iris-versicolor', 'Iris-versicolor',\n       'Iris-versicolor', 'Iris-virginica', 'Iris-versicolor',\n       'Iris-versicolor', 'Iris-versicolor', 'Iris-versicolor',\n       'Iris-versicolor', 'Iris-versicolor', 'Iris-versicolor',\n       'Iris-versicolor', 'Iris-versicolor', 'Iris-versicolor',\n       'Iris-versicolor', 'Iris-versicolor', 'Iris-versicolor',\n       'Iris-versicolor', 'Iris-versicolor', 'Iris-versicolor',\n       'Iris-virginica', 'Iris-virginica', 'Iris-virginica',\n       'Iris-virginica', 'Iris-virginica', 'Iris-virginica',\n       'Iris-versicolor', 'Iris-virginica', 'Iris-virginica',\n       'Iris-virginica', 'Iris-virginica', 'Iris-virginica',\n       'Iris-virginica', 'Iris-virginica', 'Iris-virginica',\n       'Iris-virginica', 'Iris-virginica', 'Iris-virginica',\n       'Iris-virginica', 'Iris-versicolor', 'Iris-virginica',\n       'Iris-virginica', 'Iris-virginica', 'Iris-virginica',\n       'Iris-virginica', 'Iris-virginica', 'Iris-virginica',\n       'Iris-virginica', 'Iris-virginica', 'Iris-virginica',\n       'Iris-virginica', 'Iris-virginica', 'Iris-virginica',\n       'Iris-versicolor', 'Iris-virginica', 'Iris-virginica',\n       'Iris-virginica', 'Iris-virginica', 'Iris-versicolor',\n       'Iris-virginica', 'Iris-virginica', 'Iris-virginica',\n       'Iris-virginica', 'Iris-virginica', 'Iris-virginica',\n       'Iris-virginica', 'Iris-virginica', 'Iris-virginica',\n       'Iris-virginica', 'Iris-versicolor'], dtype=object)"
     },
     "execution_count": 76,
     "metadata": {},
     "output_type": "execute_result"
    }
   ],
   "source": [
    "# we can also make prediction on the dataset\n",
    "model.predict(norm_x[features])"
   ]
  },
  {
   "cell_type": "code",
   "execution_count": 77,
   "metadata": {
    "ExecuteTime": {
     "end_time": "2025-10-10T06:28:23.787310Z",
     "start_time": "2025-10-10T06:28:23.781990Z"
    }
   },
   "outputs": [
    {
     "data": {
      "text/plain": "array([[1. , 0. , 0. ],\n       [1. , 0. , 0. ],\n       [1. , 0. , 0. ],\n       [1. , 0. , 0. ],\n       [1. , 0. , 0. ],\n       [1. , 0. , 0. ],\n       [1. , 0. , 0. ],\n       [1. , 0. , 0. ],\n       [1. , 0. , 0. ],\n       [1. , 0. , 0. ],\n       [1. , 0. , 0. ],\n       [1. , 0. , 0. ],\n       [1. , 0. , 0. ],\n       [1. , 0. , 0. ],\n       [1. , 0. , 0. ],\n       [1. , 0. , 0. ],\n       [1. , 0. , 0. ],\n       [1. , 0. , 0. ],\n       [1. , 0. , 0. ],\n       [1. , 0. , 0. ],\n       [1. , 0. , 0. ],\n       [1. , 0. , 0. ],\n       [1. , 0. , 0. ],\n       [1. , 0. , 0. ],\n       [1. , 0. , 0. ],\n       [1. , 0. , 0. ],\n       [1. , 0. , 0. ],\n       [1. , 0. , 0. ],\n       [1. , 0. , 0. ],\n       [1. , 0. , 0. ],\n       [1. , 0. , 0. ],\n       [1. , 0. , 0. ],\n       [1. , 0. , 0. ],\n       [1. , 0. , 0. ],\n       [1. , 0. , 0. ],\n       [1. , 0. , 0. ],\n       [1. , 0. , 0. ],\n       [1. , 0. , 0. ],\n       [1. , 0. , 0. ],\n       [1. , 0. , 0. ],\n       [1. , 0. , 0. ],\n       [0.7, 0.3, 0. ],\n       [1. , 0. , 0. ],\n       [1. , 0. , 0. ],\n       [1. , 0. , 0. ],\n       [1. , 0. , 0. ],\n       [1. , 0. , 0. ],\n       [1. , 0. , 0. ],\n       [1. , 0. , 0. ],\n       [1. , 0. , 0. ],\n       [0. , 0.9, 0.1],\n       [0. , 0.9, 0.1],\n       [0. , 0.9, 0.1],\n       [0. , 1. , 0. ],\n       [0. , 0.7, 0.3],\n       [0. , 1. , 0. ],\n       [0. , 0.7, 0.3],\n       [0. , 1. , 0. ],\n       [0. , 0.9, 0.1],\n       [0. , 0.9, 0.1],\n       [0. , 1. , 0. ],\n       [0. , 0.9, 0.1],\n       [0. , 0.9, 0.1],\n       [0. , 0.9, 0.1],\n       [0. , 1. , 0. ],\n       [0. , 1. , 0. ],\n       [0. , 1. , 0. ],\n       [0. , 1. , 0. ],\n       [0. , 0.7, 0.3],\n       [0. , 1. , 0. ],\n       [0. , 0.7, 0.3],\n       [0. , 1. , 0. ],\n       [0. , 0.5, 0.5],\n       [0. , 0.9, 0.1],\n       [0. , 1. , 0. ],\n       [0. , 1. , 0. ],\n       [0. , 0.9, 0.1],\n       [0. , 0.6, 0.4],\n       [0. , 0.9, 0.1],\n       [0. , 1. , 0. ],\n       [0. , 1. , 0. ],\n       [0. , 1. , 0. ],\n       [0. , 1. , 0. ],\n       [0. , 0.4, 0.6],\n       [0. , 1. , 0. ],\n       [0. , 0.6, 0.4],\n       [0. , 1. , 0. ],\n       [0. , 0.7, 0.3],\n       [0. , 1. , 0. ],\n       [0. , 1. , 0. ],\n       [0. , 1. , 0. ],\n       [0. , 0.8, 0.2],\n       [0. , 1. , 0. ],\n       [0. , 1. , 0. ],\n       [0. , 1. , 0. ],\n       [0. , 1. , 0. ],\n       [0. , 1. , 0. ],\n       [0. , 1. , 0. ],\n       [0. , 1. , 0. ],\n       [0. , 1. , 0. ],\n       [0. , 0. , 1. ],\n       [0. , 0.1, 0.9],\n       [0. , 0. , 1. ],\n       [0. , 0. , 1. ],\n       [0. , 0. , 1. ],\n       [0. , 0. , 1. ],\n       [0. , 0.8, 0.2],\n       [0. , 0. , 1. ],\n       [0. , 0.2, 0.8],\n       [0. , 0. , 1. ],\n       [0. , 0.1, 0.9],\n       [0. , 0.1, 0.9],\n       [0. , 0. , 1. ],\n       [0. , 0.2, 0.8],\n       [0. , 0. , 1. ],\n       [0. , 0. , 1. ],\n       [0. , 0.1, 0.9],\n       [0. , 0. , 1. ],\n       [0. , 0. , 1. ],\n       [0. , 0.6, 0.4],\n       [0. , 0. , 1. ],\n       [0. , 0.1, 0.9],\n       [0. , 0. , 1. ],\n       [0. , 0.3, 0.7],\n       [0. , 0. , 1. ],\n       [0. , 0. , 1. ],\n       [0. , 0.3, 0.7],\n       [0. , 0.3, 0.7],\n       [0. , 0. , 1. ],\n       [0. , 0.3, 0.7],\n       [0. , 0. , 1. ],\n       [0. , 0. , 1. ],\n       [0. , 0. , 1. ],\n       [0. , 0.6, 0.4],\n       [0. , 0.3, 0.7],\n       [0. , 0. , 1. ],\n       [0. , 0. , 1. ],\n       [0. , 0.1, 0.9],\n       [0. , 0.5, 0.5],\n       [0. , 0. , 1. ],\n       [0. , 0. , 1. ],\n       [0. , 0. , 1. ],\n       [0. , 0.1, 0.9],\n       [0. , 0. , 1. ],\n       [0. , 0. , 1. ],\n       [0. , 0. , 1. ],\n       [0. , 0.2, 0.8],\n       [0. , 0.1, 0.9],\n       [0. , 0.1, 0.9],\n       [0. , 0.5, 0.5]])"
     },
     "execution_count": 77,
     "metadata": {},
     "output_type": "execute_result"
    }
   ],
   "source": [
    "# we can get the predicted propabilities\n",
    "model.predict_proba(norm_x[features])"
   ]
  },
  {
   "cell_type": "markdown",
   "metadata": {},
   "source": [
    "# Generalization\n",
    "\n",
    "When developing a machine learning algorithm, the goal is not just to learn a model that good performance in our dataset. We want our model to be capable of generating accurate predictions for data it hasn't seen before. So we aim for our model to generalize well to upcoming data.\n",
    "\n",
    "# Model Selection/Hyperparameter Tunning\n",
    "In the process of model development, we often encounter **various candidate models** or different **hyperparameter** settings for our algorithms. For instance, in the k-nearest neighbors (KNN) algorithm, the choice of 'k' is a hyperparameter. Another hyperparameter is the distance metric used to calculate distances between data points. The collection of available candidates is typically referred to as the hypothesis space.\n",
    "\n",
    "Therefore, when creating a model for a specific problem, our primary objective is typically to identify the model with the strongest generalization capabilities, the model that best explains future observations."
   ]
  },
  {
   "cell_type": "markdown",
   "metadata": {},
   "source": [
    "![Generalization](./figures/generalization.png)"
   ]
  },
  {
   "cell_type": "markdown",
   "metadata": {},
   "source": [
    "![Generalization](./figures/development_set.png)"
   ]
  },
  {
   "cell_type": "markdown",
   "metadata": {},
   "source": [
    "# Choosing model based on the train data.\n",
    "\n",
    "To demonstrate the problem of both training and measuring the accuracy on single dataset.\n",
    "\n",
    "Lets split our data in two different dataset.\n",
    "1. **Development set**: the that we can use in order to produce our final model.\n",
    "2. **Testing set**: that we can use estimate the performance of our data in unseen data.\n",
    "\n",
    "We assume that during the training we don't have any access to the Testing set, so we can use it to select the best model."
   ]
  },
  {
   "cell_type": "code",
   "execution_count": 78,
   "metadata": {
    "ExecuteTime": {
     "end_time": "2025-10-10T06:28:24.886460Z",
     "start_time": "2025-10-10T06:28:24.880933Z"
    }
   },
   "outputs": [],
   "source": [
    "from sklearn.model_selection import train_test_split\n",
    "\n",
    "# Split our data into training and test set.\n",
    "X_develop, X_test, y_develop, y_test = train_test_split(norm_x, data_y, test_size=0.2, \n",
    "                                                        random_state=4)"
   ]
  },
  {
   "cell_type": "code",
   "execution_count": 79,
   "metadata": {
    "ExecuteTime": {
     "end_time": "2025-10-10T06:28:25.128375Z",
     "start_time": "2025-10-10T06:28:25.122391Z"
    }
   },
   "outputs": [
    {
     "name": "stdout",
     "output_type": "stream",
     "text": [
      "Development set size : 0.8 %\n",
      "Test set size : 0.2 %\n"
     ]
    }
   ],
   "source": [
    "print(\"Development set size :\", X_develop.shape[0]/norm_x.shape[0], \"%\" )\n",
    "print(\"Test set size :\", X_test.shape[0]/norm_x.shape[0], \"%\")"
   ]
  },
  {
   "cell_type": "code",
   "execution_count": 80,
   "metadata": {
    "ExecuteTime": {
     "end_time": "2025-10-10T06:28:25.371131Z",
     "start_time": "2025-10-10T06:28:25.367119Z"
    }
   },
   "outputs": [
    {
     "data": {
      "text/plain": "KNeighborsClassifier(n_neighbors=1)",
      "text/html": "<style>#sk-container-id-5 {color: black;background-color: white;}#sk-container-id-5 pre{padding: 0;}#sk-container-id-5 div.sk-toggleable {background-color: white;}#sk-container-id-5 label.sk-toggleable__label {cursor: pointer;display: block;width: 100%;margin-bottom: 0;padding: 0.3em;box-sizing: border-box;text-align: center;}#sk-container-id-5 label.sk-toggleable__label-arrow:before {content: \"▸\";float: left;margin-right: 0.25em;color: #696969;}#sk-container-id-5 label.sk-toggleable__label-arrow:hover:before {color: black;}#sk-container-id-5 div.sk-estimator:hover label.sk-toggleable__label-arrow:before {color: black;}#sk-container-id-5 div.sk-toggleable__content {max-height: 0;max-width: 0;overflow: hidden;text-align: left;background-color: #f0f8ff;}#sk-container-id-5 div.sk-toggleable__content pre {margin: 0.2em;color: black;border-radius: 0.25em;background-color: #f0f8ff;}#sk-container-id-5 input.sk-toggleable__control:checked~div.sk-toggleable__content {max-height: 200px;max-width: 100%;overflow: auto;}#sk-container-id-5 input.sk-toggleable__control:checked~label.sk-toggleable__label-arrow:before {content: \"▾\";}#sk-container-id-5 div.sk-estimator input.sk-toggleable__control:checked~label.sk-toggleable__label {background-color: #d4ebff;}#sk-container-id-5 div.sk-label input.sk-toggleable__control:checked~label.sk-toggleable__label {background-color: #d4ebff;}#sk-container-id-5 input.sk-hidden--visually {border: 0;clip: rect(1px 1px 1px 1px);clip: rect(1px, 1px, 1px, 1px);height: 1px;margin: -1px;overflow: hidden;padding: 0;position: absolute;width: 1px;}#sk-container-id-5 div.sk-estimator {font-family: monospace;background-color: #f0f8ff;border: 1px dotted black;border-radius: 0.25em;box-sizing: border-box;margin-bottom: 0.5em;}#sk-container-id-5 div.sk-estimator:hover {background-color: #d4ebff;}#sk-container-id-5 div.sk-parallel-item::after {content: \"\";width: 100%;border-bottom: 1px solid gray;flex-grow: 1;}#sk-container-id-5 div.sk-label:hover label.sk-toggleable__label {background-color: #d4ebff;}#sk-container-id-5 div.sk-serial::before {content: \"\";position: absolute;border-left: 1px solid gray;box-sizing: border-box;top: 0;bottom: 0;left: 50%;z-index: 0;}#sk-container-id-5 div.sk-serial {display: flex;flex-direction: column;align-items: center;background-color: white;padding-right: 0.2em;padding-left: 0.2em;position: relative;}#sk-container-id-5 div.sk-item {position: relative;z-index: 1;}#sk-container-id-5 div.sk-parallel {display: flex;align-items: stretch;justify-content: center;background-color: white;position: relative;}#sk-container-id-5 div.sk-item::before, #sk-container-id-5 div.sk-parallel-item::before {content: \"\";position: absolute;border-left: 1px solid gray;box-sizing: border-box;top: 0;bottom: 0;left: 50%;z-index: -1;}#sk-container-id-5 div.sk-parallel-item {display: flex;flex-direction: column;z-index: 1;position: relative;background-color: white;}#sk-container-id-5 div.sk-parallel-item:first-child::after {align-self: flex-end;width: 50%;}#sk-container-id-5 div.sk-parallel-item:last-child::after {align-self: flex-start;width: 50%;}#sk-container-id-5 div.sk-parallel-item:only-child::after {width: 0;}#sk-container-id-5 div.sk-dashed-wrapped {border: 1px dashed gray;margin: 0 0.4em 0.5em 0.4em;box-sizing: border-box;padding-bottom: 0.4em;background-color: white;}#sk-container-id-5 div.sk-label label {font-family: monospace;font-weight: bold;display: inline-block;line-height: 1.2em;}#sk-container-id-5 div.sk-label-container {text-align: center;}#sk-container-id-5 div.sk-container {/* jupyter's `normalize.less` sets `[hidden] { display: none; }` but bootstrap.min.css set `[hidden] { display: none !important; }` so we also need the `!important` here to be able to override the default hidden behavior on the sphinx rendered scikit-learn.org. See: https://github.com/scikit-learn/scikit-learn/issues/21755 */display: inline-block !important;position: relative;}#sk-container-id-5 div.sk-text-repr-fallback {display: none;}</style><div id=\"sk-container-id-5\" class=\"sk-top-container\"><div class=\"sk-text-repr-fallback\"><pre>KNeighborsClassifier(n_neighbors=1)</pre><b>In a Jupyter environment, please rerun this cell to show the HTML representation or trust the notebook. <br />On GitHub, the HTML representation is unable to render, please try loading this page with nbviewer.org.</b></div><div class=\"sk-container\" hidden><div class=\"sk-item\"><div class=\"sk-estimator sk-toggleable\"><input class=\"sk-toggleable__control sk-hidden--visually\" id=\"sk-estimator-id-5\" type=\"checkbox\" checked><label for=\"sk-estimator-id-5\" class=\"sk-toggleable__label sk-toggleable__label-arrow\">KNeighborsClassifier</label><div class=\"sk-toggleable__content\"><pre>KNeighborsClassifier(n_neighbors=1)</pre></div></div></div></div></div>"
     },
     "execution_count": 80,
     "metadata": {},
     "output_type": "execute_result"
    }
   ],
   "source": [
    "from sklearn.neighbors import KNeighborsClassifier\n",
    "\n",
    "# train our model using the development set.\n",
    "model = KNeighborsClassifier(n_neighbors=1)\n",
    "model.fit(X_develop, y_develop[target])"
   ]
  },
  {
   "cell_type": "markdown",
   "metadata": {},
   "source": [
    "## Check the accuracy on train set"
   ]
  },
  {
   "cell_type": "code",
   "execution_count": 81,
   "metadata": {
    "ExecuteTime": {
     "end_time": "2025-10-10T06:28:25.868724Z",
     "start_time": "2025-10-10T06:28:25.861617Z"
    }
   },
   "outputs": [
    {
     "name": "stdout",
     "output_type": "stream",
     "text": [
      "Accuracy Score: 100.0%\n"
     ]
    }
   ],
   "source": [
    "from sklearn.metrics import accuracy_score\n",
    "\n",
    "# make prediction on the development set\n",
    "prediction_train = model.predict(X_develop)\n",
    "\n",
    "# measure the performance of the development set\n",
    "train_score = accuracy_score(y_true=y_develop[target],\n",
    "                             y_pred=prediction_train)\n",
    "print(f\"Accuracy Score: {train_score * 100}%\")"
   ]
  },
  {
   "cell_type": "markdown",
   "metadata": {},
   "source": [
    "## Check the accuracy on Test set"
   ]
  },
  {
   "cell_type": "code",
   "execution_count": 82,
   "metadata": {
    "ExecuteTime": {
     "end_time": "2025-10-10T06:28:26.298050Z",
     "start_time": "2025-10-10T06:28:26.293085Z"
    }
   },
   "outputs": [
    {
     "name": "stdout",
     "output_type": "stream",
     "text": [
      "Accuracy Score: 90.0%\n"
     ]
    }
   ],
   "source": [
    "# make prediction on the Test set\n",
    "prediction_test = model.predict(X_test)\n",
    "\n",
    "# measure the Accuracy on the Test set\n",
    "train_score = accuracy_score(y_true=y_test[target],\n",
    "                             y_pred=prediction_test)\n",
    "\n",
    "print(f\"Accuracy Score: {train_score * 100}%\")"
   ]
  },
  {
   "cell_type": "markdown",
   "metadata": {},
   "source": [
    "We can observe that our model has different accuracy compared to the training and test sets.  \n",
    "So there might be a better setting for k that could lead to better generalization."
   ]
  },
  {
   "cell_type": "markdown",
   "metadata": {},
   "source": [
    "# Training / Validation / Testing Dataset\n",
    "![Cross-Validation](./figures/train_val_test.png)\n",
    "\n",
    "A common approach for model selection is to split the dataset into three distinct parts:\n",
    "\n",
    "1. The *training* set: used to train different models in the hypothesis space.\n",
    "2. The *validation* set: used to evaluate the performance of each model and choose the best one.\n",
    "3. The *testing* set: used to measure the performance of the final model.\n",
    "\n",
    "The process for each model and set of hyperparameters is as follows:\n",
    "1. Train the model using the training set.\n",
    "2. Estimate the model’s performance on the validation set.\n",
    "3. Select the model that performs best on the validation set.\n",
    "4. Obtain an unbiased estimate of the selected model’s performance using the testing set."
   ]
  },
  {
   "cell_type": "code",
   "execution_count": 83,
   "metadata": {
    "ExecuteTime": {
     "end_time": "2025-10-10T06:28:27.001319Z",
     "start_time": "2025-10-10T06:28:26.999049Z"
    }
   },
   "outputs": [],
   "source": [
    "# define different hyperparameters\n",
    "different_k_settings = list(range(1, 70, 10))"
   ]
  },
  {
   "cell_type": "code",
   "execution_count": 84,
   "metadata": {
    "ExecuteTime": {
     "end_time": "2025-10-10T06:28:27.314872Z",
     "start_time": "2025-10-10T06:28:27.311718Z"
    }
   },
   "outputs": [
    {
     "data": {
      "text/plain": "[1, 11, 21, 31, 41, 51, 61]"
     },
     "execution_count": 84,
     "metadata": {},
     "output_type": "execute_result"
    }
   ],
   "source": [
    "different_k_settings"
   ]
  },
  {
   "cell_type": "markdown",
   "metadata": {},
   "source": [
    "### Implemention\n",
    "\n",
    "No we will implement the model selection method.\n",
    "\n",
    "#### Step A.\n",
    "Create the training (80%) and validation (20%) set by spliting the development set in two parts."
   ]
  },
  {
   "cell_type": "code",
   "execution_count": 85,
   "metadata": {
    "ExecuteTime": {
     "end_time": "2025-10-10T06:28:27.921182Z",
     "start_time": "2025-10-10T06:28:27.918349Z"
    }
   },
   "outputs": [],
   "source": [
    "X_train, X_val, y_train, y_val = train_test_split(X_develop, y_develop, test_size=0.2, random_state=4)"
   ]
  },
  {
   "cell_type": "markdown",
   "metadata": {},
   "source": [
    "#### Step B.  \n",
    "\n",
    "For every hypeparamter k we can:  \n",
    "    1. Train the model using the training set  \n",
    "    2. Get the performance of the model in terms Accuracy on the Train set.  \n",
    "    3. Get the performance of the model in terms Accuracy on the Validation set.  \n",
    "    4. Get the performance of the model in terms Accuracy on the Test set.  \n",
    "    5. Store all results"
   ]
  },
  {
   "cell_type": "code",
   "execution_count": 86,
   "metadata": {
    "ExecuteTime": {
     "end_time": "2025-10-10T06:28:28.653296Z",
     "start_time": "2025-10-10T06:28:28.583527Z"
    }
   },
   "outputs": [],
   "source": [
    "train_accuracy = {}\n",
    "val_accuracy = {}\n",
    "test_accuracy = {}\n",
    "for k in different_k_settings:\n",
    "    # define the model\n",
    "    model = KNeighborsClassifier(n_neighbors=k)\n",
    "\n",
    "    # train the model on Train set\n",
    "    model.fit(X_train, y_train[target])\n",
    "\n",
    "    # get the perfomance on the different set for comparison\n",
    "    #1.Accuracy on Train set\n",
    "    y_pred_train = model.predict(X_train)\n",
    "    train_acc = accuracy_score(y_true=y_train[target], y_pred= y_pred_train)\n",
    "    train_accuracy[k] = train_acc\n",
    "    \n",
    "    #2.Accuracy on Train set\n",
    "    y_pred_val = model.predict(X_val)\n",
    "    val_acc = accuracy_score(y_true=y_val[target], y_pred= y_pred_val)\n",
    "    val_accuracy[k] = val_acc\n",
    "\n",
    "    #3.Accuracy on Train set\n",
    "    y_pred_test = model.predict(X_test)\n",
    "    test_acc = accuracy_score(y_true=y_test[target], y_pred= y_pred_test)\n",
    "    test_accuracy[k] = test_acc"
   ]
  },
  {
   "cell_type": "markdown",
   "metadata": {},
   "source": [
    "#### Step C. \n",
    "Plot the performance for each hyperparameter `k` measured on the different datasets to visualize the differences. \n",
    "\n",
    "More specifically, we can create a plot where the x-axis represents the different hyperparameter settings, and the y-axis measures performance. Each dataset’s performance can be represented by a separate line.\n",
    "\n",
    "\n",
    "What you observe?"
   ]
  },
  {
   "cell_type": "code",
   "execution_count": 87,
   "metadata": {
    "ExecuteTime": {
     "end_time": "2025-10-10T06:28:29.516776Z",
     "start_time": "2025-10-10T06:28:29.341791Z"
    }
   },
   "outputs": [
    {
     "data": {
      "text/plain": "<matplotlib.legend.Legend at 0x1403a0520>"
     },
     "execution_count": 87,
     "metadata": {},
     "output_type": "execute_result"
    },
    {
     "data": {
      "text/plain": "<Figure size 640x480 with 1 Axes>",
      "image/png": "[encoded data removed]"
     },
     "metadata": {},
     "output_type": "display_data"
    }
   ],
   "source": [
    "plt.figure()\n",
    "plt.plot(train_accuracy.keys(), train_accuracy.values(), marker=\"o\", label = \"train acc\")\n",
    "plt.plot(val_accuracy.keys(), val_accuracy.values(), marker=\"o\", label = \"val acc\")\n",
    "plt.plot(test_accuracy.keys(), test_accuracy.values(), marker=\"o\", label = \"test acc\")\n",
    "plt.legend()"
   ]
  },
  {
   "cell_type": "markdown",
   "metadata": {},
   "source": [
    "#### Step D. \n",
    "Select the model with the best Accuracy according to the Validation Set."
   ]
  },
  {
   "cell_type": "code",
   "execution_count": 88,
   "metadata": {
    "ExecuteTime": {
     "end_time": "2025-10-10T06:28:30.431275Z",
     "start_time": "2025-10-10T06:28:30.429263Z"
    }
   },
   "outputs": [],
   "source": [
    "index = np.argmax(list(val_accuracy.values()))"
   ]
  },
  {
   "cell_type": "code",
   "execution_count": 89,
   "metadata": {
    "ExecuteTime": {
     "end_time": "2025-10-10T06:28:30.699226Z",
     "start_time": "2025-10-10T06:28:30.696676Z"
    }
   },
   "outputs": [],
   "source": [
    "best_k = list(val_accuracy.keys())[index]"
   ]
  },
  {
   "cell_type": "code",
   "execution_count": 90,
   "metadata": {
    "ExecuteTime": {
     "end_time": "2025-10-10T06:28:31.008361Z",
     "start_time": "2025-10-10T06:28:31.005003Z"
    }
   },
   "outputs": [
    {
     "data": {
      "text/plain": "1"
     },
     "execution_count": 90,
     "metadata": {},
     "output_type": "execute_result"
    }
   ],
   "source": [
    "best_k"
   ]
  },
  {
   "cell_type": "markdown",
   "metadata": {},
   "source": [
    "Here, we observe that we end up with several candidates for the best model. Sometimes, when we have a limited amount of data in the validation set, the curves may not resemble those of the test set. We will explore more reliable methods that are typically used in practice.\n",
    "\n",
    "For the selection of the \\(k\\) parameter, we need to make an arbitrary choice. A common mistake is selecting the hyperparameter based on the test set, which is typically referred to as overfitting to the test data."
   ]
  },
  {
   "cell_type": "markdown",
   "metadata": {},
   "source": [
    "## Resampling methods for model selection\n",
    "\n",
    "In practice partitioning the dataset into 3 different dataset requires a lot of records.  \n",
    "When our dataset has limited amount of points a good alternative is to use resampling methods for model selection.\n",
    "\n",
    "Note that this method requires at least a development and test set.\n",
    "Then we will apply Resampling techniques to select models using only development set.  \n",
    "After select the best model we will again use the test set to have an unbiased estimate about the model performance.\n",
    "\n",
    "The most common techniques are:\n",
    "\n",
    "1. **Cross validation** (most popular)\n",
    "2. **Bootstrapping**\n",
    "\n",
    "In practice, there are no guarantees as to which method works better."
   ]
  },
  {
   "cell_type": "markdown",
   "metadata": {
    "execution": {
     "iopub.execute_input": "2024-09-26T09:03:43.085464Z",
     "iopub.status.busy": "2024-09-26T09:03:43.084431Z",
     "iopub.status.idle": "2024-09-26T09:03:43.107446Z",
     "shell.execute_reply": "2024-09-26T09:03:43.103657Z",
     "shell.execute_reply.started": "2024-09-26T09:03:43.085380Z"
    }
   },
   "source": [
    "## A. Cross-Validation\n",
    "\n",
    "One of the most widely used techniques for model evaluation is **k-fold cross-validation**.\n",
    "\n",
    "In k-fold cross-validation, the training set is divided into **k** subsets, or \"folds,\" as illustrated below:\n",
    "\n",
    "![Cross-Validation](./figures/cv.png)\n",
    "\n",
    "\n",
    "The model is then trained **k** times, following this procedure:\n",
    "\n",
    "1. For each of the **k** iterations:\n",
    "   - Train the model using **k-1** folds.\n",
    "   - Evaluate the model on the remaining held-out fold.\n",
    "\n",
    "2. **Aggregate** the performance metrics across the **k** evaluation sets.\n",
    "\n",
    "3. Select the model configuration with the best average performance.\n",
    "\n",
    "4. Train it using the whole development set.\n",
    "\n",
    "5. Finally, estimate the model's performance using the test set, which was not involved in cross-validation.\n",
    "\n",
    "K-fold cross-validation is an effective method for estimating model performance and guiding model selection.  \n",
    "By using multiple subsets of the training data, it provides a more reliable estimate of how well the model generalizes to unseen data."
   ]
  },
  {
   "cell_type": "markdown",
   "metadata": {
    "execution": {
     "iopub.execute_input": "2024-09-26T09:14:09.415562Z",
     "iopub.status.busy": "2024-09-26T09:14:09.414534Z",
     "iopub.status.idle": "2024-09-26T09:14:09.425131Z",
     "shell.execute_reply": "2024-09-26T09:14:09.423345Z",
     "shell.execute_reply.started": "2024-09-26T09:14:09.415478Z"
    }
   },
   "source": [
    "### Step 1\n",
    "We will create a function to get the k different Folds"
   ]
  },
  {
   "cell_type": "code",
   "execution_count": 91,
   "metadata": {
    "ExecuteTime": {
     "end_time": "2025-10-10T06:28:32.762547Z",
     "start_time": "2025-10-10T06:28:32.758897Z"
    }
   },
   "outputs": [],
   "source": [
    "def get_folds(data_x, data_y, n_folds):\n",
    "    indexies = list(data_x.index)\n",
    "    np.random.shuffle(indexies)\n",
    "    num_samples_per_fold = data_x.shape[0]//n_folds \n",
    "    folds = []\n",
    "    for n in range(n_folds):\n",
    "        start = n * num_samples_per_fold\n",
    "        end = (n +1)* num_samples_per_fold\n",
    "        fold_index = indexies[start:end]\n",
    "    \n",
    "        fold_x = data_x.loc[fold_index]\n",
    "        fold_y = data_y.loc[fold_index]\n",
    "        folds += [ (fold_x,fold_y)]\n",
    "    return folds"
   ]
  },
  {
   "cell_type": "markdown",
   "metadata": {},
   "source": [
    "### Step 2. \n",
    "For each model we will get the average cs-score and then we will select the best model"
   ]
  },
  {
   "cell_type": "code",
   "execution_count": 92,
   "metadata": {
    "ExecuteTime": {
     "end_time": "2025-10-10T06:28:33.423307Z",
     "start_time": "2025-10-10T06:28:33.419601Z"
    }
   },
   "outputs": [],
   "source": [
    "def get_cv_acc(data_x, data_y, n_folds, model):\n",
    "    folds = get_folds(data_x=data_x, data_y=data_y, n_folds=n_folds)\n",
    "    val_acc = []\n",
    "    for n in range(n_folds):\n",
    "        tmp_model = model\n",
    "    \n",
    "        # val set\n",
    "        x_val_xv = folds[n][0]\n",
    "        y_val_xv = folds[n][1]\n",
    "        # train set\n",
    "        train_indexies = set(range(n_folds)).difference(set([n]))\n",
    "        x_train_xv = pd.concat([folds[ind_x][0] for ind_x in train_indexies])\n",
    "        y_train_xv = pd.concat([folds[ind_x][1] for ind_x in train_indexies])\n",
    "    \n",
    "        # train model\n",
    "        tmp_model.fit(x_train_xv[features], y_train_xv[target])\n",
    "    \n",
    "        # get validation loss\n",
    "        y_pred_val_cv = model.predict(x_val_xv[features])\n",
    "        val_acc_fold = accuracy_score(y_true=y_val_xv[target],\n",
    "                                      y_pred= y_pred_val_cv)\n",
    "        val_acc += [val_acc_fold]\n",
    "    avg_acc = np.mean(val_acc)\n",
    "    return avg_acc, val_acc"
   ]
  },
  {
   "cell_type": "code",
   "execution_count": 93,
   "metadata": {
    "ExecuteTime": {
     "end_time": "2025-10-10T06:28:33.926032Z",
     "start_time": "2025-10-10T06:28:33.712047Z"
    }
   },
   "outputs": [],
   "source": [
    "cv_acc = {}\n",
    "for h_parameter in different_k_settings:\n",
    "    model = KNeighborsClassifier(n_neighbors=h_parameter)\n",
    "    avg_acc, fold_acc = get_cv_acc(data_x=X_develop,\n",
    "                                   data_y=y_develop,\n",
    "                                   n_folds=10,\n",
    "                                   model=model)\n",
    "    cv_acc[h_parameter] = avg_acc"
   ]
  },
  {
   "cell_type": "code",
   "execution_count": 94,
   "metadata": {
    "ExecuteTime": {
     "end_time": "2025-10-10T06:28:34.743014Z",
     "start_time": "2025-10-10T06:28:34.738816Z"
    }
   },
   "outputs": [
    {
     "data": {
      "text/plain": "{1: 0.9583333333333333,\n 11: 0.9666666666666666,\n 21: 0.9166666666666666,\n 31: 0.875,\n 41: 0.8833333333333332,\n 51: 0.8833333333333334,\n 61: 0.725}"
     },
     "execution_count": 94,
     "metadata": {},
     "output_type": "execute_result"
    }
   ],
   "source": [
    "cv_acc"
   ]
  },
  {
   "cell_type": "code",
   "execution_count": 95,
   "metadata": {
    "ExecuteTime": {
     "end_time": "2025-10-10T06:28:37.781517Z",
     "start_time": "2025-10-10T06:28:37.662030Z"
    }
   },
   "outputs": [
    {
     "data": {
      "text/plain": "<matplotlib.legend.Legend at 0x1404fd940>"
     },
     "execution_count": 95,
     "metadata": {},
     "output_type": "execute_result"
    },
    {
     "data": {
      "text/plain": "<Figure size 640x480 with 1 Axes>",
      "image/png": "[encoded data removed]"
     },
     "metadata": {},
     "output_type": "display_data"
    }
   ],
   "source": [
    "plt.figure()\n",
    "plt.plot(cv_acc.keys(), cv_acc.values(), marker=\"o\", label = \"cv acc\")\n",
    "plt.plot(test_accuracy.keys(), test_accuracy.values(), marker=\"o\", label = \"test acc\")\n",
    "plt.legend()"
   ]
  },
  {
   "cell_type": "markdown",
   "metadata": {},
   "source": [
    "## B. Bootstrapping for Model Selection\n",
    "\n",
    "Bootstrapping is an effective method for model selection, especially when dealing with a limited amount of data. In general, bootstrapping is a technique that involves sampling with replacement to estimate a quantity. It can be applied for various purposes beyond model selection. In our case, our objective is to estimate the test error of various models and, finally, choose the best model.\n",
    "\n",
    "Instead of using k distinct folds as in cross-validation, the bootstrap method generates training and validation sets by sampling from the dataset. Specifically, we sample with replacement to obtain *n* different data points, where \"n\" represents the original size of the dataset. Since we sample with replacement, our training set may contain duplicate points. The remaining dataset, which is not included in the training set, becomes the validation set, allowing us to calculate the error of our model. This process is repeated multiple times, and the results of validation errors are averaged to provide an estimate of our model's performance with the current hyperparameters.\n",
    "\n",
    "To perform hyperparameter tuning using the bootstrap method, we can repeat the same procedure for each hyperparameter setting and select the setting with the lowest average bootstrap error.\n",
    "\n",
    "![Bootstrap Model Selection](./figures/bootstrap.png)\n",
    "\n",
    "**Algorithm:**\n",
    "\n",
    "1. Sample *n* data points with replacement to create a training set (the bootstrap sample). \n",
    "   - This results in *n* different data points.\n",
    "   - On average, bootstraps include 66% unique records, as some may be duplicates.\n",
    "2. Use the remaining data points for the validation set.\n",
    "    - This leaves 34% of the data for validation.\n",
    "        \n",
    "3. Train the model on the training set.\n",
    "\n",
    "4. Evaluate the model on the validation set.\n",
    "\n",
    "5. Repeat the process *B* times and calculate the average validation error scores.\n",
    "\n",
    "6. Repeat the above steps for every hyperparameter setting.\n",
    "\n",
    "7. Select the setting with the best performance."
   ]
  },
  {
   "cell_type": "markdown",
   "metadata": {},
   "source": [
    "# Assignment 2 - Bootstrap for Model Selection\n",
    "\n",
    "In this assignment, you are asked to determine the best hyperparameter for the k-nearest neighbors (KNN) algorithm using the bootstrap method for model selection as described above.\n",
    "\n",
    "**Assignment Steps:**\n",
    "\n",
    "1. Create a function that generates B different bootstrap samples (datasets) for both the training and validation sets, as described above.\n",
    "\n",
    "2. Calculate the average validation loss for each different K setting (hyperparameter for KNN).\n",
    "\n",
    "3. Select the model with the best average validation loss.\n",
    "\n",
    "4. Create your final model by training the selected model with the best hyperparameter setting using the entire development dataset.\n",
    "\n",
    "5. Calculate the test error for your final model.\n"
   ]
  },
  {
   "cell_type": "markdown",
   "metadata": {},
   "source": [
    "#### hints"
   ]
  },
  {
   "cell_type": "code",
   "execution_count": 96,
   "metadata": {
    "ExecuteTime": {
     "end_time": "2025-10-10T06:28:40.836223Z",
     "start_time": "2025-10-10T06:28:40.821776Z"
    }
   },
   "outputs": [
    {
     "data": {
      "text/plain": "     Sepal_Length  Sepal_Width  Petal_Length  Petal_Width\n74       0.674501    -0.356361      0.307833     0.133226\n108      1.038005    -1.281972      1.160819     0.790591\n108      1.038005    -1.281972      1.160819     0.790591\n37      -1.143017     0.106445     -1.284407    -1.444450\n110      0.795669     0.337848      0.762759     1.053537\n..            ...          ...           ...          ...\n9       -1.143017     0.106445     -1.284407    -1.444450\n104      0.795669    -0.124958      1.160819     1.316483\n56       0.553333     0.569251      0.535296     0.527645\n15      -0.173674     3.114684     -1.284407    -1.050031\n144      1.038005     0.569251      1.103953     1.710902\n\n[120 rows x 4 columns]",
      "text/html": "<div>\n<style scoped>\n    .dataframe tbody tr th:only-of-type {\n        vertical-align: middle;\n    }\n\n    .dataframe tbody tr th {\n        vertical-align: top;\n    }\n\n    .dataframe thead th {\n        text-align: right;\n    }\n</style>\n<table border=\"1\" class=\"dataframe\">\n  <thead>\n    <tr style=\"text-align: right;\">\n      <th></th>\n      <th>Sepal_Length</th>\n      <th>Sepal_Width</th>\n      <th>Petal_Length</th>\n      <th>Petal_Width</th>\n    </tr>\n  </thead>\n  <tbody>\n    <tr>\n      <th>74</th>\n      <td>0.674501</td>\n      <td>-0.356361</td>\n      <td>0.307833</td>\n      <td>0.133226</td>\n    </tr>\n    <tr>\n      <th>108</th>\n      <td>1.038005</td>\n      <td>-1.281972</td>\n      <td>1.160819</td>\n      <td>0.790591</td>\n    </tr>\n    <tr>\n      <th>108</th>\n      <td>1.038005</td>\n      <td>-1.281972</td>\n      <td>1.160819</td>\n      <td>0.790591</td>\n    </tr>\n    <tr>\n      <th>37</th>\n      <td>-1.143017</td>\n      <td>0.106445</td>\n      <td>-1.284407</td>\n      <td>-1.444450</td>\n    </tr>\n    <tr>\n      <th>110</th>\n      <td>0.795669</td>\n      <td>0.337848</td>\n      <td>0.762759</td>\n      <td>1.053537</td>\n    </tr>\n    <tr>\n      <th>...</th>\n      <td>...</td>\n      <td>...</td>\n      <td>...</td>\n      <td>...</td>\n    </tr>\n    <tr>\n      <th>9</th>\n      <td>-1.143017</td>\n      <td>0.106445</td>\n      <td>-1.284407</td>\n      <td>-1.444450</td>\n    </tr>\n    <tr>\n      <th>104</th>\n      <td>0.795669</td>\n      <td>-0.124958</td>\n      <td>1.160819</td>\n      <td>1.316483</td>\n    </tr>\n    <tr>\n      <th>56</th>\n      <td>0.553333</td>\n      <td>0.569251</td>\n      <td>0.535296</td>\n      <td>0.527645</td>\n    </tr>\n    <tr>\n      <th>15</th>\n      <td>-0.173674</td>\n      <td>3.114684</td>\n      <td>-1.284407</td>\n      <td>-1.050031</td>\n    </tr>\n    <tr>\n      <th>144</th>\n      <td>1.038005</td>\n      <td>0.569251</td>\n      <td>1.103953</td>\n      <td>1.710902</td>\n    </tr>\n  </tbody>\n</table>\n<p>120 rows × 4 columns</p>\n</div>"
     },
     "execution_count": 96,
     "metadata": {},
     "output_type": "execute_result"
    }
   ],
   "source": [
    "# the following go sample a N points with replacement\n",
    "X_develop.sample(frac = 1.0 , replace= True)"
   ]
  },
  {
   "cell_type": "code",
   "execution_count": 97,
   "metadata": {
    "ExecuteTime": {
     "end_time": "2025-10-10T06:28:41.373288Z",
     "start_time": "2025-10-10T06:28:41.368062Z"
    }
   },
   "outputs": [
    {
     "data": {
      "text/plain": "array([False, False, False, False, False, False, False, False,  True,\n       False,  True, False, False, False, False, False, False, False,\n       False,  True, False, False, False, False, False, False, False,\n       False, False, False, False, False, False, False, False, False,\n        True, False,  True,  True, False,  True,  True, False,  True,\n        True, False, False,  True, False,  True, False, False,  True,\n       False, False, False,  True,  True,  True, False, False,  True,\n        True, False, False, False, False, False, False,  True, False,\n        True,  True, False, False, False,  True, False,  True, False,\n       False,  True, False,  True,  True,  True,  True, False, False,\n       False,  True, False, False,  True, False,  True, False, False,\n        True,  True,  True, False,  True,  True, False, False, False,\n       False,  True,  True, False,  True,  True, False, False, False,\n       False,  True, False])"
     },
     "execution_count": 97,
     "metadata": {},
     "output_type": "execute_result"
    }
   ],
   "source": [
    "# some points are duplicates\n",
    "X_develop.sample(frac = 1.0 , replace= True).index.duplicated()"
   ]
  },
  {
   "cell_type": "code",
   "execution_count": 98,
   "metadata": {
    "ExecuteTime": {
     "end_time": "2025-10-10T06:28:41.735920Z",
     "start_time": "2025-10-10T06:28:41.728283Z"
    }
   },
   "outputs": [
    {
     "data": {
      "text/plain": "     Sepal_Length  Sepal_Width  Petal_Length  Petal_Width\n1       -1.143017    -0.124958     -1.341272    -1.312977\n93      -1.021849    -1.744778     -0.260824    -0.261193\n144      1.038005     0.569251      1.103953     1.710902\n125      1.643844     0.337848      1.274550     0.790591\n92      -0.052506    -1.050569      0.137236     0.001753\n..            ...          ...           ...          ...\n50       1.401508     0.337848      0.535296     0.264699\n87       0.553333    -1.744778      0.364699     0.133226\n104      0.795669    -0.124958      1.160819     1.316483\n129      1.643844    -0.124958      1.160819     0.527645\n122      2.249683    -0.587764      1.672610     1.053537\n\n[117 rows x 4 columns]",
      "text/html": "<div>\n<style scoped>\n    .dataframe tbody tr th:only-of-type {\n        vertical-align: middle;\n    }\n\n    .dataframe tbody tr th {\n        vertical-align: top;\n    }\n\n    .dataframe thead th {\n        text-align: right;\n    }\n</style>\n<table border=\"1\" class=\"dataframe\">\n  <thead>\n    <tr style=\"text-align: right;\">\n      <th></th>\n      <th>Sepal_Length</th>\n      <th>Sepal_Width</th>\n      <th>Petal_Length</th>\n      <th>Petal_Width</th>\n    </tr>\n  </thead>\n  <tbody>\n    <tr>\n      <th>1</th>\n      <td>-1.143017</td>\n      <td>-0.124958</td>\n      <td>-1.341272</td>\n      <td>-1.312977</td>\n    </tr>\n    <tr>\n      <th>93</th>\n      <td>-1.021849</td>\n      <td>-1.744778</td>\n      <td>-0.260824</td>\n      <td>-0.261193</td>\n    </tr>\n    <tr>\n      <th>144</th>\n      <td>1.038005</td>\n      <td>0.569251</td>\n      <td>1.103953</td>\n      <td>1.710902</td>\n    </tr>\n    <tr>\n      <th>125</th>\n      <td>1.643844</td>\n      <td>0.337848</td>\n      <td>1.274550</td>\n      <td>0.790591</td>\n    </tr>\n    <tr>\n      <th>92</th>\n      <td>-0.052506</td>\n      <td>-1.050569</td>\n      <td>0.137236</td>\n      <td>0.001753</td>\n    </tr>\n    <tr>\n      <th>...</th>\n      <td>...</td>\n      <td>...</td>\n      <td>...</td>\n      <td>...</td>\n    </tr>\n    <tr>\n      <th>50</th>\n      <td>1.401508</td>\n      <td>0.337848</td>\n      <td>0.535296</td>\n      <td>0.264699</td>\n    </tr>\n    <tr>\n      <th>87</th>\n      <td>0.553333</td>\n      <td>-1.744778</td>\n      <td>0.364699</td>\n      <td>0.133226</td>\n    </tr>\n    <tr>\n      <th>104</th>\n      <td>0.795669</td>\n      <td>-0.124958</td>\n      <td>1.160819</td>\n      <td>1.316483</td>\n    </tr>\n    <tr>\n      <th>129</th>\n      <td>1.643844</td>\n      <td>-0.124958</td>\n      <td>1.160819</td>\n      <td>0.527645</td>\n    </tr>\n    <tr>\n      <th>122</th>\n      <td>2.249683</td>\n      <td>-0.587764</td>\n      <td>1.672610</td>\n      <td>1.053537</td>\n    </tr>\n  </tbody>\n</table>\n<p>117 rows × 4 columns</p>\n</div>"
     },
     "execution_count": 98,
     "metadata": {},
     "output_type": "execute_result"
    }
   ],
   "source": [
    "# you can use also the following code to exclude some points with the specific index\n",
    "new_indexies = X_develop.index.difference([84,47,108],sort=False)\n",
    "X_develop.loc[new_indexies]"
   ]
  },
  {
   "cell_type": "code",
   "execution_count": 99,
   "metadata": {
    "ExecuteTime": {
     "end_time": "2025-10-10T06:28:42.009169Z",
     "start_time": "2025-10-10T06:28:42.003852Z"
    }
   },
   "outputs": [
    {
     "data": {
      "text/plain": "     Sepal_Length  Sepal_Width  Petal_Length  Petal_Width\n84      -0.537178    -0.124958      0.421564     0.396172\n47      -1.506521     0.337848     -1.341272    -1.312977\n108      1.038005    -1.281972      1.160819     0.790591\n1       -1.143017    -0.124958     -1.341272    -1.312977\n93      -1.021849    -1.744778     -0.260824    -0.261193\n..            ...          ...           ...          ...\n50       1.401508     0.337848      0.535296     0.264699\n87       0.553333    -1.744778      0.364699     0.133226\n104      0.795669    -0.124958      1.160819     1.316483\n129      1.643844    -0.124958      1.160819     0.527645\n122      2.249683    -0.587764      1.672610     1.053537\n\n[120 rows x 4 columns]",
      "text/html": "<div>\n<style scoped>\n    .dataframe tbody tr th:only-of-type {\n        vertical-align: middle;\n    }\n\n    .dataframe tbody tr th {\n        vertical-align: top;\n    }\n\n    .dataframe thead th {\n        text-align: right;\n    }\n</style>\n<table border=\"1\" class=\"dataframe\">\n  <thead>\n    <tr style=\"text-align: right;\">\n      <th></th>\n      <th>Sepal_Length</th>\n      <th>Sepal_Width</th>\n      <th>Petal_Length</th>\n      <th>Petal_Width</th>\n    </tr>\n  </thead>\n  <tbody>\n    <tr>\n      <th>84</th>\n      <td>-0.537178</td>\n      <td>-0.124958</td>\n      <td>0.421564</td>\n      <td>0.396172</td>\n    </tr>\n    <tr>\n      <th>47</th>\n      <td>-1.506521</td>\n      <td>0.337848</td>\n      <td>-1.341272</td>\n      <td>-1.312977</td>\n    </tr>\n    <tr>\n      <th>108</th>\n      <td>1.038005</td>\n      <td>-1.281972</td>\n      <td>1.160819</td>\n      <td>0.790591</td>\n    </tr>\n    <tr>\n      <th>1</th>\n      <td>-1.143017</td>\n      <td>-0.124958</td>\n      <td>-1.341272</td>\n      <td>-1.312977</td>\n    </tr>\n    <tr>\n      <th>93</th>\n      <td>-1.021849</td>\n      <td>-1.744778</td>\n      <td>-0.260824</td>\n      <td>-0.261193</td>\n    </tr>\n    <tr>\n      <th>...</th>\n      <td>...</td>\n      <td>...</td>\n      <td>...</td>\n      <td>...</td>\n    </tr>\n    <tr>\n      <th>50</th>\n      <td>1.401508</td>\n      <td>0.337848</td>\n      <td>0.535296</td>\n      <td>0.264699</td>\n    </tr>\n    <tr>\n      <th>87</th>\n      <td>0.553333</td>\n      <td>-1.744778</td>\n      <td>0.364699</td>\n      <td>0.133226</td>\n    </tr>\n    <tr>\n      <th>104</th>\n      <td>0.795669</td>\n      <td>-0.124958</td>\n      <td>1.160819</td>\n      <td>1.316483</td>\n    </tr>\n    <tr>\n      <th>129</th>\n      <td>1.643844</td>\n      <td>-0.124958</td>\n      <td>1.160819</td>\n      <td>0.527645</td>\n    </tr>\n    <tr>\n      <th>122</th>\n      <td>2.249683</td>\n      <td>-0.587764</td>\n      <td>1.672610</td>\n      <td>1.053537</td>\n    </tr>\n  </tbody>\n</table>\n<p>120 rows × 4 columns</p>\n</div>"
     },
     "execution_count": 99,
     "metadata": {},
     "output_type": "execute_result"
    }
   ],
   "source": [
    "X_develop"
   ]
  },
  {
   "cell_type": "markdown",
   "source": [
    "#### step 1\n",
    "1. Create a function that generates B different bootstrap samples (datasets) for both the training and validation sets, as described above.\n"
   ],
   "metadata": {
    "collapsed": false
   }
  },
  {
   "cell_type": "code",
   "outputs": [],
   "source": [
    "def get_bootstrap_train_val(data_x, data_y, B):\n",
    "    dataset_list = [ ]\n",
    "    for b in range(B):\n",
    "        bootstrap_sample_x = data_x.sample(frac = 1.0 , replace= True)  # train set\n",
    "        bootstrap_sample_y  = data_y.loc[bootstrap_sample_x.index] # labels\n",
    "        bootstrap_index = bootstrap_sample_x.index\n",
    "\n",
    "        val_index = data_x.index.difference(bootstrap_index)\n",
    "        hold_out_data_x =  data_x.loc[val_index]# validation set\n",
    "        hold_out_data_y =  data_y.loc[val_index]\n",
    "        dataset = ((bootstrap_sample_x,bootstrap_sample_y),(hold_out_data_x,hold_out_data_y))\n",
    "        dataset_list.append(dataset)\n",
    "    return dataset_list"
   ],
   "metadata": {
    "collapsed": false,
    "ExecuteTime": {
     "end_time": "2025-10-10T06:28:43.160431Z",
     "start_time": "2025-10-10T06:28:43.156386Z"
    }
   },
   "execution_count": 100
  },
  {
   "cell_type": "markdown",
   "source": [
    "We can also check the size of the validation sets:"
   ],
   "metadata": {
    "collapsed": false
   }
  },
  {
   "cell_type": "code",
   "outputs": [
    {
     "name": "stdout",
     "output_type": "stream",
     "text": [
      "38.3%\n",
      "36.7%\n",
      "37.5%\n",
      "36.7%\n",
      "35.8%\n",
      "34.2%\n",
      "38.3%\n",
      "39.2%\n",
      "40.8%\n",
      "35.0%\n",
      "44.2%\n",
      "38.3%\n",
      "35.0%\n",
      "35.8%\n",
      "38.3%\n",
      "34.2%\n",
      "36.7%\n",
      "41.7%\n",
      "36.7%\n",
      "36.7%\n",
      "37.5%\n",
      "43.3%\n",
      "36.7%\n",
      "35.0%\n",
      "38.3%\n",
      "34.2%\n",
      "39.2%\n",
      "35.8%\n",
      "34.2%\n",
      "34.2%\n",
      "34.2%\n",
      "37.5%\n",
      "32.5%\n",
      "38.3%\n",
      "30.8%\n",
      "40.0%\n",
      "36.7%\n",
      "36.7%\n",
      "35.0%\n",
      "33.3%\n",
      "39.2%\n",
      "30.0%\n",
      "33.3%\n",
      "35.0%\n",
      "31.7%\n",
      "36.7%\n",
      "35.8%\n",
      "42.5%\n",
      "39.2%\n",
      "40.0%\n",
      "35.8%\n",
      "35.8%\n",
      "37.5%\n",
      "36.7%\n",
      "35.0%\n",
      "32.5%\n",
      "33.3%\n",
      "38.3%\n",
      "35.8%\n",
      "35.0%\n",
      "32.5%\n",
      "37.5%\n",
      "40.0%\n",
      "40.8%\n",
      "40.0%\n",
      "36.7%\n",
      "34.2%\n",
      "35.8%\n",
      "33.3%\n",
      "39.2%\n",
      "38.3%\n",
      "38.3%\n",
      "39.2%\n",
      "33.3%\n",
      "43.3%\n",
      "35.0%\n",
      "36.7%\n",
      "38.3%\n",
      "31.7%\n",
      "35.8%\n",
      "35.0%\n",
      "34.2%\n",
      "38.3%\n",
      "40.0%\n",
      "37.5%\n",
      "39.2%\n",
      "35.0%\n",
      "35.8%\n",
      "35.8%\n",
      "38.3%\n",
      "37.5%\n",
      "35.0%\n",
      "40.0%\n",
      "36.7%\n",
      "37.5%\n",
      "35.8%\n",
      "36.7%\n",
      "39.2%\n",
      "35.0%\n",
      "36.7%\n",
      "31.7%\n",
      "40.0%\n",
      "45.0%\n",
      "36.7%\n",
      "32.5%\n",
      "38.3%\n",
      "35.8%\n",
      "36.7%\n",
      "33.3%\n",
      "36.7%\n",
      "35.0%\n",
      "33.3%\n",
      "32.5%\n",
      "34.2%\n",
      "36.7%\n",
      "35.8%\n",
      "35.0%\n",
      "36.7%\n",
      "37.5%\n",
      "38.3%\n",
      "40.0%\n",
      "33.3%\n",
      "36.7%\n",
      "37.5%\n",
      "37.5%\n",
      "35.0%\n",
      "37.5%\n",
      "35.0%\n",
      "38.3%\n",
      "38.3%\n",
      "32.5%\n",
      "35.0%\n",
      "37.5%\n",
      "36.7%\n",
      "40.0%\n",
      "37.5%\n",
      "35.8%\n",
      "34.2%\n",
      "35.8%\n",
      "34.2%\n",
      "31.7%\n",
      "38.3%\n",
      "35.8%\n",
      "33.3%\n",
      "36.7%\n",
      "37.5%\n",
      "36.7%\n",
      "35.0%\n",
      "30.8%\n",
      "41.7%\n",
      "41.7%\n",
      "34.2%\n",
      "34.2%\n",
      "34.2%\n",
      "35.8%\n",
      "39.2%\n",
      "39.2%\n",
      "35.8%\n",
      "33.3%\n",
      "38.3%\n",
      "38.3%\n",
      "36.7%\n",
      "40.8%\n",
      "30.8%\n",
      "36.7%\n",
      "38.3%\n",
      "35.8%\n",
      "38.3%\n",
      "36.7%\n",
      "40.0%\n",
      "40.0%\n",
      "36.7%\n",
      "31.7%\n",
      "37.5%\n",
      "44.2%\n",
      "37.5%\n",
      "38.3%\n",
      "35.8%\n",
      "31.7%\n",
      "41.7%\n",
      "38.3%\n",
      "35.0%\n",
      "39.2%\n",
      "37.5%\n",
      "40.8%\n",
      "38.3%\n",
      "36.7%\n",
      "38.3%\n",
      "35.0%\n",
      "36.7%\n",
      "37.5%\n",
      "39.2%\n",
      "41.7%\n",
      "30.8%\n",
      "38.3%\n",
      "39.2%\n",
      "37.5%\n",
      "35.8%\n",
      "37.5%\n",
      "38.3%\n"
     ]
    }
   ],
   "source": [
    "different_datasets = get_bootstrap_train_val(X_develop,y_develop,B=200)\n",
    "\n",
    "sizes_val = []\n",
    "for bootstrap_dataset in different_datasets:\n",
    "    (train_set_x,train_set_y),(val_set_x,val_set_y) = bootstrap_dataset\n",
    "    percentage = val_set_x.shape[0]/X_develop.shape[0]\n",
    "    sizes_val.append(percentage)\n",
    "    print(f\"{percentage*100:.1f}%\")"
   ],
   "metadata": {
    "collapsed": false,
    "ExecuteTime": {
     "end_time": "2025-10-10T06:28:48.473867Z",
     "start_time": "2025-10-10T06:28:48.382268Z"
    }
   },
   "execution_count": 101
  },
  {
   "cell_type": "code",
   "outputs": [
    {
     "data": {
      "text/plain": "36.72083333333334"
     },
     "execution_count": 102,
     "metadata": {},
     "output_type": "execute_result"
    }
   ],
   "source": [
    "np.mean(sizes_val)*100"
   ],
   "metadata": {
    "collapsed": false,
    "ExecuteTime": {
     "end_time": "2025-10-10T06:28:49.941484Z",
     "start_time": "2025-10-10T06:28:49.937197Z"
    }
   },
   "execution_count": 102
  },
  {
   "cell_type": "markdown",
   "source": [
    "#### step 2\n",
    "2. Calculate the average validation loss for each different K setting (hyperparameter for KNN).\n"
   ],
   "metadata": {
    "collapsed": false
   }
  },
  {
   "cell_type": "code",
   "outputs": [],
   "source": [
    "different_datasets = get_bootstrap_train_val(X_develop,y_develop,B=10)\n",
    "\n",
    "k_results = {}\n",
    "for k in different_k_settings:\n",
    "    val_accuracy_list = []\n",
    "    # average val error across the dataset\n",
    "    for dataset in different_datasets:\n",
    "        (train_x,train_y),(val_x, val_y) = dataset\n",
    "        model = KNeighborsClassifier(n_neighbors=k)\n",
    "        model.fit(train_x, train_y[target])\n",
    "\n",
    "        # get the prediction of the model on validation set\n",
    "        prediction_val = model.predict(val_x)\n",
    "        val_accuracy = accuracy_score(y_true=val_y[target],\n",
    "                                      y_pred=prediction_val)\n",
    "        val_accuracy_list.append(val_accuracy)\n",
    "    k_results[k] = np.mean(val_accuracy_list)"
   ],
   "metadata": {
    "collapsed": false,
    "ExecuteTime": {
     "end_time": "2025-10-10T06:29:13.025813Z",
     "start_time": "2025-10-10T06:29:12.828086Z"
    }
   },
   "execution_count": 108
  },
  {
   "cell_type": "markdown",
   "source": [
    "#### step 3\n",
    "3. Select the model with the best average validation loss.\n"
   ],
   "metadata": {
    "collapsed": false
   }
  },
  {
   "cell_type": "code",
   "outputs": [
    {
     "data": {
      "text/plain": "{1: 0.928928285824419,\n 11: 0.9342146776721668,\n 21: 0.8923036819248276,\n 31: 0.870175549479652,\n 41: 0.8439607541700204,\n 51: 0.8186316967465368,\n 61: 0.7628826750203301}"
     },
     "execution_count": 109,
     "metadata": {},
     "output_type": "execute_result"
    }
   ],
   "source": [
    "k_results"
   ],
   "metadata": {
    "collapsed": false,
    "ExecuteTime": {
     "end_time": "2025-10-10T06:29:14.008160Z",
     "start_time": "2025-10-10T06:29:14.005488Z"
    }
   },
   "execution_count": 109
  },
  {
   "cell_type": "code",
   "outputs": [],
   "source": [
    "best_k = 11"
   ],
   "metadata": {
    "collapsed": false,
    "ExecuteTime": {
     "end_time": "2025-10-10T06:29:17.204804Z",
     "start_time": "2025-10-10T06:29:17.202260Z"
    }
   },
   "execution_count": 110
  },
  {
   "cell_type": "markdown",
   "source": [
    "#### step 4\n",
    "4. Create your final model by training the selected model with the best hyperparameter setting using the entire development dataset.\n"
   ],
   "metadata": {
    "collapsed": false
   }
  },
  {
   "cell_type": "code",
   "outputs": [
    {
     "data": {
      "text/plain": "KNeighborsClassifier(n_neighbors=11)",
      "text/html": "<style>#sk-container-id-6 {color: black;background-color: white;}#sk-container-id-6 pre{padding: 0;}#sk-container-id-6 div.sk-toggleable {background-color: white;}#sk-container-id-6 label.sk-toggleable__label {cursor: pointer;display: block;width: 100%;margin-bottom: 0;padding: 0.3em;box-sizing: border-box;text-align: center;}#sk-container-id-6 label.sk-toggleable__label-arrow:before {content: \"▸\";float: left;margin-right: 0.25em;color: #696969;}#sk-container-id-6 label.sk-toggleable__label-arrow:hover:before {color: black;}#sk-container-id-6 div.sk-estimator:hover label.sk-toggleable__label-arrow:before {color: black;}#sk-container-id-6 div.sk-toggleable__content {max-height: 0;max-width: 0;overflow: hidden;text-align: left;background-color: #f0f8ff;}#sk-container-id-6 div.sk-toggleable__content pre {margin: 0.2em;color: black;border-radius: 0.25em;background-color: #f0f8ff;}#sk-container-id-6 input.sk-toggleable__control:checked~div.sk-toggleable__content {max-height: 200px;max-width: 100%;overflow: auto;}#sk-container-id-6 input.sk-toggleable__control:checked~label.sk-toggleable__label-arrow:before {content: \"▾\";}#sk-container-id-6 div.sk-estimator input.sk-toggleable__control:checked~label.sk-toggleable__label {background-color: #d4ebff;}#sk-container-id-6 div.sk-label input.sk-toggleable__control:checked~label.sk-toggleable__label {background-color: #d4ebff;}#sk-container-id-6 input.sk-hidden--visually {border: 0;clip: rect(1px 1px 1px 1px);clip: rect(1px, 1px, 1px, 1px);height: 1px;margin: -1px;overflow: hidden;padding: 0;position: absolute;width: 1px;}#sk-container-id-6 div.sk-estimator {font-family: monospace;background-color: #f0f8ff;border: 1px dotted black;border-radius: 0.25em;box-sizing: border-box;margin-bottom: 0.5em;}#sk-container-id-6 div.sk-estimator:hover {background-color: #d4ebff;}#sk-container-id-6 div.sk-parallel-item::after {content: \"\";width: 100%;border-bottom: 1px solid gray;flex-grow: 1;}#sk-container-id-6 div.sk-label:hover label.sk-toggleable__label {background-color: #d4ebff;}#sk-container-id-6 div.sk-serial::before {content: \"\";position: absolute;border-left: 1px solid gray;box-sizing: border-box;top: 0;bottom: 0;left: 50%;z-index: 0;}#sk-container-id-6 div.sk-serial {display: flex;flex-direction: column;align-items: center;background-color: white;padding-right: 0.2em;padding-left: 0.2em;position: relative;}#sk-container-id-6 div.sk-item {position: relative;z-index: 1;}#sk-container-id-6 div.sk-parallel {display: flex;align-items: stretch;justify-content: center;background-color: white;position: relative;}#sk-container-id-6 div.sk-item::before, #sk-container-id-6 div.sk-parallel-item::before {content: \"\";position: absolute;border-left: 1px solid gray;box-sizing: border-box;top: 0;bottom: 0;left: 50%;z-index: -1;}#sk-container-id-6 div.sk-parallel-item {display: flex;flex-direction: column;z-index: 1;position: relative;background-color: white;}#sk-container-id-6 div.sk-parallel-item:first-child::after {align-self: flex-end;width: 50%;}#sk-container-id-6 div.sk-parallel-item:last-child::after {align-self: flex-start;width: 50%;}#sk-container-id-6 div.sk-parallel-item:only-child::after {width: 0;}#sk-container-id-6 div.sk-dashed-wrapped {border: 1px dashed gray;margin: 0 0.4em 0.5em 0.4em;box-sizing: border-box;padding-bottom: 0.4em;background-color: white;}#sk-container-id-6 div.sk-label label {font-family: monospace;font-weight: bold;display: inline-block;line-height: 1.2em;}#sk-container-id-6 div.sk-label-container {text-align: center;}#sk-container-id-6 div.sk-container {/* jupyter's `normalize.less` sets `[hidden] { display: none; }` but bootstrap.min.css set `[hidden] { display: none !important; }` so we also need the `!important` here to be able to override the default hidden behavior on the sphinx rendered scikit-learn.org. See: https://github.com/scikit-learn/scikit-learn/issues/21755 */display: inline-block !important;position: relative;}#sk-container-id-6 div.sk-text-repr-fallback {display: none;}</style><div id=\"sk-container-id-6\" class=\"sk-top-container\"><div class=\"sk-text-repr-fallback\"><pre>KNeighborsClassifier(n_neighbors=11)</pre><b>In a Jupyter environment, please rerun this cell to show the HTML representation or trust the notebook. <br />On GitHub, the HTML representation is unable to render, please try loading this page with nbviewer.org.</b></div><div class=\"sk-container\" hidden><div class=\"sk-item\"><div class=\"sk-estimator sk-toggleable\"><input class=\"sk-toggleable__control sk-hidden--visually\" id=\"sk-estimator-id-6\" type=\"checkbox\" checked><label for=\"sk-estimator-id-6\" class=\"sk-toggleable__label sk-toggleable__label-arrow\">KNeighborsClassifier</label><div class=\"sk-toggleable__content\"><pre>KNeighborsClassifier(n_neighbors=11)</pre></div></div></div></div></div>"
     },
     "execution_count": 111,
     "metadata": {},
     "output_type": "execute_result"
    }
   ],
   "source": [
    "final_model = KNeighborsClassifier(n_neighbors=11)\n",
    "final_model.fit(X_develop, y_develop[target])"
   ],
   "metadata": {
    "collapsed": false,
    "ExecuteTime": {
     "end_time": "2025-10-10T06:29:19.306779Z",
     "start_time": "2025-10-10T06:29:19.301304Z"
    }
   },
   "execution_count": 111
  },
  {
   "cell_type": "markdown",
   "source": [
    "#### step 5\n",
    "5. Calculate the test error for your final model.\n"
   ],
   "metadata": {
    "collapsed": false
   }
  },
  {
   "cell_type": "code",
   "outputs": [
    {
     "data": {
      "text/plain": "0.9333333333333333"
     },
     "execution_count": 112,
     "metadata": {},
     "output_type": "execute_result"
    }
   ],
   "source": [
    "prediction_test = final_model.predict(X_test)\n",
    "final_test_accuracy = accuracy_score(y_true=y_test[target],\n",
    "                                     y_pred=prediction_test)\n",
    "final_test_accuracy"
   ],
   "metadata": {
    "collapsed": false,
    "ExecuteTime": {
     "end_time": "2025-10-10T06:29:20.171139Z",
     "start_time": "2025-10-10T06:29:20.164828Z"
    }
   },
   "execution_count": 112
  },
  {
   "cell_type": "markdown",
   "source": [
    "#### Step 6  \n",
    "Train a **Perceptron** algorithm using scikit-learn (without tuning hyperparameters) and evaluate it on the test set:  \n",
    "[scikit-learn Perceptron documentation](https://scikit-learn.org/stable/modules/generated/sklearn.linear_model.Perceptron.html)  \n"
   ],
   "metadata": {
    "collapsed": false
   }
  },
  {
   "cell_type": "code",
   "outputs": [
    {
     "data": {
      "text/plain": "0.9666666666666667"
     },
     "execution_count": 113,
     "metadata": {},
     "output_type": "execute_result"
    }
   ],
   "source": [
    "from sklearn.linear_model import Perceptron\n",
    "perc_model = Perceptron()\n",
    "perc_model.fit(X_develop, y_develop[target])\n",
    "\n",
    "\n",
    "prediction_test = perc_model.predict(X_test)\n",
    "perc_model_accuracy = accuracy_score(y_true=y_test[target],\n",
    "                                     y_pred=prediction_test)\n",
    "perc_model_accuracy"
   ],
   "metadata": {
    "collapsed": false,
    "ExecuteTime": {
     "end_time": "2025-10-10T06:29:21.441795Z",
     "start_time": "2025-10-10T06:29:21.428739Z"
    }
   },
   "execution_count": 113
  }
 ],
 "metadata": {
  "kernelspec": {
   "display_name": "Python 3 (ipykernel)",
   "language": "python",
   "name": "python3"
  },
  "language_info": {
   "codemirror_mode": {
    "name": "ipython",
    "version": 3
   },
   "file_extension": ".py",
   "mimetype": "text/x-python",
   "name": "python",
   "nbconvert_exporter": "python",
   "pygments_lexer": "ipython3",
   "version": "3.9.18"
  }
 },
 "nbformat": 4,
 "nbformat_minor": 4
}
