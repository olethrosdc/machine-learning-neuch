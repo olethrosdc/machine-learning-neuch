{
 "cells": [
  {
   "cell_type": "markdown",
   "metadata": {},
   "source": [
    "# Lab 4 — Neural Networks\n",
    "\n",
    "In this lab, we will explore **Neural Networks**, which can be trained using the **Gradient Descent** algorithm.\n",
    "\n",
    "Specifically, we will cover the following topics:\n",
    "\n",
    "1. A brief introduction to the **PyTorch** library for implementing Neural Networks.  \n",
    "2. Implementation of a neural network using PyTorch.  \n",
    "3. Discussion on **overfitting** and methods to prevent it.  \n",
    "\n",
    "For the assignment, we will implement different techniques to prevent overfitting.\n",
    "\n",
    "---\n",
    "\n",
    "### Materials for the Lab\n",
    "\n",
    "1. Course slides on Neural Networks.  \n",
    "2. PyTorch documentation: [PyTorch Documentation](https://pytorch.org/docs/stable/)  \n",
    "3. PyTorch tutorials: [PyTorch Tutorials](https://pytorch.org/tutorials/beginner/basics/intro.html)"
   ]
  },
  {
   "cell_type": "markdown",
   "metadata": {},
   "source": [
    "# 1. Introduction to PyTorch\n",
    "\n",
    "**PyTorch** is one of the most widely used libraries for developing deep learning models.  \n",
    "\n",
    "In this section, we will cover the basic concepts of PyTorch and provide further explanations as we progress through the tutorial.  \n",
    "\n",
    "For this lab, we will use **PyTorch version 2.1.0**."
   ]
  },
  {
   "cell_type": "code",
   "execution_count": 1,
   "metadata": {
    "ExecuteTime": {
     "end_time": "2025-10-16T09:31:02.020990Z",
     "start_time": "2025-10-16T09:31:00.842815Z"
    }
   },
   "outputs": [
    {
     "name": "stdout",
     "output_type": "stream",
     "text": [
      "Requirement already satisfied: torch==2.1.0 in /Users/andreasathanasopoulos/Phd/projects/bayesian_fairness/envs/bayesian-fairness/lib/python3.9/site-packages (2.1.0)\n",
      "Requirement already satisfied: typing-extensions in /Users/andreasathanasopoulos/Phd/projects/bayesian_fairness/envs/bayesian-fairness/lib/python3.9/site-packages (from torch==2.1.0) (4.4.0)\n",
      "Requirement already satisfied: fsspec in /Users/andreasathanasopoulos/Phd/projects/bayesian_fairness/envs/bayesian-fairness/lib/python3.9/site-packages (from torch==2.1.0) (2023.10.0)\n",
      "Requirement already satisfied: sympy in /Users/andreasathanasopoulos/Phd/projects/bayesian_fairness/envs/bayesian-fairness/lib/python3.9/site-packages (from torch==2.1.0) (1.12)\n",
      "Requirement already satisfied: jinja2 in /Users/andreasathanasopoulos/Phd/projects/bayesian_fairness/envs/bayesian-fairness/lib/python3.9/site-packages (from torch==2.1.0) (3.1.2)\n",
      "Requirement already satisfied: networkx in /Users/andreasathanasopoulos/Phd/projects/bayesian_fairness/envs/bayesian-fairness/lib/python3.9/site-packages (from torch==2.1.0) (3.2.1)\n",
      "Requirement already satisfied: filelock in /Users/andreasathanasopoulos/Phd/projects/bayesian_fairness/envs/bayesian-fairness/lib/python3.9/site-packages (from torch==2.1.0) (3.13.1)\n",
      "Requirement already satisfied: MarkupSafe>=2.0 in /Users/andreasathanasopoulos/Phd/projects/bayesian_fairness/envs/bayesian-fairness/lib/python3.9/site-packages (from jinja2->torch==2.1.0) (2.1.1)\n",
      "Requirement already satisfied: mpmath>=0.19 in /Users/andreasathanasopoulos/Phd/projects/bayesian_fairness/envs/bayesian-fairness/lib/python3.9/site-packages (from sympy->torch==2.1.0) (1.3.0)\n",
      "\u001b[33mWARNING: You are using pip version 22.0.4; however, version 25.2 is available.\n",
      "You should consider upgrading via the '/Users/andreasathanasopoulos/Phd/projects/bayesian_fairness/envs/bayesian-fairness/bin/python3.9 -m pip install --upgrade pip' command.\u001b[0m\u001b[33m\n",
      "\u001b[0m"
     ]
    }
   ],
   "source": [
    "# you can install torch by using the following command\n",
    "!pip install torch==2.1.0"
   ]
  },
  {
   "cell_type": "code",
   "execution_count": 2,
   "metadata": {
    "ExecuteTime": {
     "end_time": "2025-10-16T09:31:03.002924Z",
     "start_time": "2025-10-16T09:31:02.022267Z"
    }
   },
   "outputs": [
    {
     "name": "stdout",
     "output_type": "stream",
     "text": [
      "Requirement already satisfied: torchsummary in /Users/andreasathanasopoulos/Phd/projects/bayesian_fairness/envs/bayesian-fairness/lib/python3.9/site-packages (1.5.1)\n",
      "\u001b[33mWARNING: You are using pip version 22.0.4; however, version 25.2 is available.\n",
      "You should consider upgrading via the '/Users/andreasathanasopoulos/Phd/projects/bayesian_fairness/envs/bayesian-fairness/bin/python3.9 -m pip install --upgrade pip' command.\u001b[0m\u001b[33m\n",
      "\u001b[0m"
     ]
    }
   ],
   "source": [
    "# you can install torchsummary by using the following command\n",
    "!pip install torchsummary"
   ]
  },
  {
   "cell_type": "code",
   "execution_count": 3,
   "metadata": {
    "ExecuteTime": {
     "end_time": "2025-10-16T09:31:03.006352Z",
     "start_time": "2025-10-16T09:31:03.003916Z"
    }
   },
   "outputs": [],
   "source": [
    "import torch\n",
    "import numpy as np\n",
    "import matplotlib.pyplot as plt"
   ]
  },
  {
   "cell_type": "code",
   "execution_count": 4,
   "metadata": {
    "ExecuteTime": {
     "end_time": "2025-10-16T09:31:03.011499Z",
     "start_time": "2025-10-16T09:31:03.008093Z"
    }
   },
   "outputs": [
    {
     "data": {
      "text/plain": [
       "'2.1.0'"
      ]
     },
     "execution_count": 4,
     "metadata": {},
     "output_type": "execute_result"
    }
   ],
   "source": [
    "torch.__version__"
   ]
  },
  {
   "cell_type": "markdown",
   "metadata": {},
   "source": [
    "### Tensors\n",
    "\n",
    "In PyTorch, we use tensors because they efficiently store data, support GPU acceleration, and enable automatic differentiation for training neural networks.\n",
    "\n",
    "You can think of tensors as similar to NumPy arrays.\n",
    "\n",
    "Using tensors, PyTorch can create computational graphs and calculate gradients.\n",
    "\n",
    "Tensors support various operations, which are listed in the following [link](https://pytorch.org/docs/stable/torch.html#pointwise-ops).  \n",
    "In addition to the PyTorch operations, we can also apply standard Python operators between tensors."
   ]
  },
  {
   "cell_type": "code",
   "execution_count": 5,
   "metadata": {
    "ExecuteTime": {
     "end_time": "2025-10-16T09:31:03.015325Z",
     "start_time": "2025-10-16T09:31:03.012313Z"
    }
   },
   "outputs": [],
   "source": [
    "tensor_1 = torch.tensor([[1., 2.], \n",
    "                         [3., 3.]])\n",
    "\n",
    "tensor_2 = torch.tensor([[1., 0], \n",
    "                         [-1., 0]])"
   ]
  },
  {
   "cell_type": "code",
   "execution_count": 6,
   "metadata": {
    "ExecuteTime": {
     "end_time": "2025-10-16T09:31:03.018437Z",
     "start_time": "2025-10-16T09:31:03.016216Z"
    }
   },
   "outputs": [
    {
     "name": "stdout",
     "output_type": "stream",
     "text": [
      "tensor_1 shape:  torch.Size([2, 2])\n",
      "tensor_2 shape:  torch.Size([2, 2])\n"
     ]
    }
   ],
   "source": [
    "print(\"tensor_1 shape: \", tensor_1.shape)\n",
    "print(\"tensor_2 shape: \", tensor_2.shape)"
   ]
  },
  {
   "cell_type": "code",
   "execution_count": 7,
   "metadata": {
    "ExecuteTime": {
     "end_time": "2025-10-16T09:31:03.025327Z",
     "start_time": "2025-10-16T09:31:03.019908Z"
    }
   },
   "outputs": [
    {
     "name": "stdout",
     "output_type": "stream",
     "text": [
      "Element wise multiplication\n",
      "Result shape:  torch.Size([2, 2])\n"
     ]
    },
    {
     "data": {
      "text/plain": [
       "tensor([[ 1.,  0.],\n",
       "        [-3.,  0.]])"
      ]
     },
     "execution_count": 7,
     "metadata": {},
     "output_type": "execute_result"
    }
   ],
   "source": [
    "elem_mul = tensor_1 * tensor_2\n",
    "print(\"Element wise multiplication\")\n",
    "print(\"Result shape: \", elem_mul.size())\n",
    "elem_mul"
   ]
  },
  {
   "cell_type": "code",
   "execution_count": 8,
   "metadata": {
    "ExecuteTime": {
     "end_time": "2025-10-16T09:31:03.029853Z",
     "start_time": "2025-10-16T09:31:03.025937Z"
    }
   },
   "outputs": [
    {
     "name": "stdout",
     "output_type": "stream",
     "text": [
      "Matrix multiplication\n",
      "Result shape:  torch.Size([2, 2])\n"
     ]
    },
    {
     "data": {
      "text/plain": [
       "tensor([[-1.,  0.],\n",
       "        [ 0.,  0.]])"
      ]
     },
     "execution_count": 8,
     "metadata": {},
     "output_type": "execute_result"
    }
   ],
   "source": [
    "matrix_mul = torch.matmul(tensor_1,tensor_2)\n",
    "print(\"Matrix multiplication\")\n",
    "print(\"Result shape: \", matrix_mul.size())\n",
    "torch.matmul(tensor_1,tensor_2)"
   ]
  },
  {
   "cell_type": "code",
   "execution_count": 9,
   "metadata": {
    "ExecuteTime": {
     "end_time": "2025-10-16T09:31:03.034145Z",
     "start_time": "2025-10-16T09:31:03.030558Z"
    }
   },
   "outputs": [
    {
     "data": {
      "text/plain": [
       "array([[1., 2.],\n",
       "       [3., 3.]], dtype=float32)"
      ]
     },
     "execution_count": 9,
     "metadata": {},
     "output_type": "execute_result"
    }
   ],
   "source": [
    "# get tensor as numpy array\n",
    "tensor_1.data.numpy()"
   ]
  },
  {
   "cell_type": "markdown",
   "metadata": {},
   "source": [
    "To begin lets define a simple polynomial function."
   ]
  },
  {
   "cell_type": "code",
   "execution_count": 10,
   "metadata": {
    "ExecuteTime": {
     "end_time": "2025-10-16T09:31:03.039201Z",
     "start_time": "2025-10-16T09:31:03.037134Z"
    }
   },
   "outputs": [],
   "source": [
    "def f(x):\n",
    "    \"\"\"\n",
    "    A convex function\n",
    "    f(x) = (x-5)^2\n",
    "    \"\"\"\n",
    "    y = (x-5)**2\n",
    "    return y"
   ]
  },
  {
   "cell_type": "code",
   "execution_count": 11,
   "metadata": {
    "ExecuteTime": {
     "end_time": "2025-10-16T09:31:03.178187Z",
     "start_time": "2025-10-16T09:31:03.040043Z"
    }
   },
   "outputs": [
    {
     "data": {
      "image/png": "[encoded data removed]",
      "text/plain": [
       "<Figure size 640x480 with 1 Axes>"
      ]
     },
     "metadata": {},
     "output_type": "display_data"
    }
   ],
   "source": [
    "x = torch.linspace(-5, 15, 100)\n",
    "y = f(x)\n",
    "\n",
    "plt.figure()\n",
    "plt.plot(x, y, label = \"(x-5)^2\")\n",
    "plt.legend()\n",
    "plt.title(\"Convex function \\n  f(x) = (x-5)^2\")\n",
    "plt.ylabel(\"y\")\n",
    "plt.xlabel(\"x\")\n",
    "plt.show()\n",
    "plt.close()"
   ]
  },
  {
   "cell_type": "markdown",
   "metadata": {},
   "source": [
    "# Gradient Decent\n",
    "\n",
    "**Gradient Descent (GD)** is a iterative method to find a minimum of a **convex function**.\n",
    "\n",
    "**Gradient descent** is one of the most popular algorithms to perform optimization and by far the most common way to optimize neural networks.\n",
    "\n",
    "In machine learning, Gradient descent is a way to minimize an objective function whit respect to model’s parameters by updating the parameters in the opposite direction of the gradient of the objective function w.r.t. to the parameters.\n",
    "\n",
    "<figure>\n",
    "  <img style=\"float: left;\" src=\"./figures_set2/Gradiend_descent.png\" width=\"800\"/>\n",
    "</figure>"
   ]
  },
  {
   "cell_type": "markdown",
   "metadata": {},
   "source": [
    "\n",
    "\n",
    "The above function has the following computational graph\n",
    "\n",
    "<p align=\"center\">\n",
    "  <img style=\"float: left;\" src=\"./figures_set2/Computational_Graph.png\" width=\"500\"/>\n",
    "</p>"
   ]
  },
  {
   "cell_type": "markdown",
   "metadata": {},
   "source": [
    "The libraries that implement automatic differentiation keep track of the different operation between variables to construct the computational graph.\n",
    "\n",
    "Having this graph allows us to compute the gradients of complex function.\n",
    "\n",
    "\n",
    "Having a computational graph we have two main operation:\n",
    "1. **Forward pass**: calculate the output of the computational graph. In our example the value of f(x)\n",
    "2. **Backward pass**: calculate the gradients of each node in the computational graph.\n",
    "   Having the gradients of each node allows us to calculate the final gradient of each node using the chain rule of differentiation.In our example the df/dx.\n",
    "\n",
    "\n",
    "<p align=\"center\">\n",
    "  <img style=\"float: left;\" src=\"./figures_set2/Auto_diff_Computational_Graph.png\" width=\"900\"/>\n",
    "</p>"
   ]
  },
  {
   "cell_type": "code",
   "execution_count": 12,
   "metadata": {
    "ExecuteTime": {
     "end_time": "2025-10-16T09:31:03.187496Z",
     "start_time": "2025-10-16T09:31:03.181094Z"
    }
   },
   "outputs": [
    {
     "name": "stdout",
     "output_type": "stream",
     "text": [
      "gradient df(x)/dx|(x=5) : 0.0\n"
     ]
    }
   ],
   "source": [
    "# create tensors with requires_grad = true in order to indicate pytorch to track the gradients of the tensor.\n",
    "x = torch.tensor(5.0, requires_grad = True)\n",
    "\n",
    "# get the output of a function\n",
    "y = f(x) # forward pass\n",
    "\n",
    "# Compute gradients using backward function for y\n",
    "y.backward()\n",
    "\n",
    "# Access the gradients using x.grad\n",
    "gradient = x.grad\n",
    "print(\"gradient df(x)/dx|(x=5) :\", gradient.data.numpy())"
   ]
  },
  {
   "cell_type": "markdown",
   "metadata": {},
   "source": [
    "### Implement Gradient Descent\n",
    "in the following example we will find the minimum of a function using gradient decent.\n",
    "\n",
    "\n",
    "<figure>\n",
    "  <img style=\"float: left;\" src=\"./figures_set2/sgd.png\" width=\"400\"/>\n",
    "</figure>|"
   ]
  },
  {
   "cell_type": "code",
   "execution_count": 13,
   "metadata": {
    "ExecuteTime": {
     "end_time": "2025-10-16T09:31:03.195134Z",
     "start_time": "2025-10-16T09:31:03.189756Z"
    }
   },
   "outputs": [],
   "source": [
    "x_init= -13.0\n",
    "step_max = 500\n",
    "lr = 0.1\n",
    "\n",
    "# parameters for stoping\n",
    "thr = 0.0001\n",
    "\n",
    "function = f\n",
    "\n",
    "def gradient_decent(function, x_init, lr, step_max, thr):\n",
    "    x = torch.tensor(x_init, requires_grad = True)\n",
    "    \n",
    "    x_history = [x.data]\n",
    "    step = 0 \n",
    "    while step < step_max:\n",
    "        # step 1. Forward pass to get the output\n",
    "        y = function(x)\n",
    "\n",
    "        # step 2. Backward pass to calculate the gradient\n",
    "        y.backward()\n",
    "\n",
    "        # step 3. Update x to find minimum\n",
    "        gradient = x.grad.data\n",
    "        x.data = x.data - lr * gradient\n",
    "        x.grad.data.zero_() # technical steps, otherwise accumulate the gradients\n",
    "\n",
    "        # just keep the values of x\n",
    "        x_history += [x.data]\n",
    "        step = step +1\n",
    "        \n",
    "        # stopping critiria\n",
    "        if abs(x.data - x_history[-2]) < thr:\n",
    "            break\n",
    "    x_history = np.array(x_history)\n",
    "    return x.data, step, x_history "
   ]
  },
  {
   "cell_type": "code",
   "execution_count": 14,
   "metadata": {
    "ExecuteTime": {
     "end_time": "2025-10-16T09:31:03.203390Z",
     "start_time": "2025-10-16T09:31:03.197080Z"
    }
   },
   "outputs": [],
   "source": [
    "x_min, total_steps, x_history = gradient_decent(function = f, \n",
    "                                                x_init = -3.0 ,\n",
    "                                                lr = 0.1,\n",
    "                                                step_max = 100,\n",
    "                                                thr = 0.001)"
   ]
  },
  {
   "cell_type": "code",
   "execution_count": 15,
   "metadata": {
    "ExecuteTime": {
     "end_time": "2025-10-16T09:31:03.210092Z",
     "start_time": "2025-10-16T09:31:03.205812Z"
    }
   },
   "outputs": [
    {
     "name": "stdout",
     "output_type": "stream",
     "text": [
      "Total steps to achive minimum: 35\n",
      "Minimum: 4.9967546\n"
     ]
    }
   ],
   "source": [
    "print(\"Total steps to achive minimum:\" , total_steps)\n",
    "print(\"Minimum:\" , x_min.data.numpy())"
   ]
  },
  {
   "cell_type": "code",
   "execution_count": 16,
   "metadata": {
    "ExecuteTime": {
     "end_time": "2025-10-16T09:31:03.215238Z",
     "start_time": "2025-10-16T09:31:03.212476Z"
    }
   },
   "outputs": [],
   "source": [
    "x_history = np.array(x_history)"
   ]
  },
  {
   "cell_type": "code",
   "execution_count": 17,
   "metadata": {
    "ExecuteTime": {
     "end_time": "2025-10-16T09:31:03.339806Z",
     "start_time": "2025-10-16T09:31:03.217049Z"
    }
   },
   "outputs": [
    {
     "data": {
      "image/png": "[encoded data removed]",
      "text/plain": [
       "<Figure size 640x480 with 1 Axes>"
      ]
     },
     "metadata": {},
     "output_type": "display_data"
    }
   ],
   "source": [
    "x = np.linspace(-13, 23,100)\n",
    "# x_history = np.array()\n",
    "plt.figure()\n",
    "plt.plot(x, f(x), label = \"(x-5)^2\")\n",
    "plt.plot(x_history, f(x_history),marker = \"o\", color=\"r\")\n",
    "plt.legend()\n",
    "plt.title(\"Convex function\")\n",
    "plt.ylabel(\"y\")\n",
    "plt.xlabel(\"x\")\n",
    "plt.show()\n",
    "plt.close()"
   ]
  },
  {
   "cell_type": "markdown",
   "metadata": {},
   "source": [
    "# Loading the Adult Dataset\n",
    "\n",
    "The [Adult dataset](https://archive.ics.uci.edu/dataset/2/adult) is used for a binary classification task.   \n",
    "The objective is to predict whether an individual's income exceeds $50,000 based on various socio-economic features."
   ]
  },
  {
   "cell_type": "code",
   "execution_count": 18,
   "metadata": {
    "ExecuteTime": {
     "end_time": "2025-10-16T09:31:03.345493Z",
     "start_time": "2025-10-16T09:31:03.341720Z"
    }
   },
   "outputs": [],
   "source": [
    "from collections import OrderedDict\n",
    "\n",
    "data_types = OrderedDict([\n",
    "    (\"age\", \"int\"),\n",
    "    (\"workclass\", \"category\"),\n",
    "    (\"final_weight\", \"int\"),  # originally it was called fnlwgt\n",
    "    (\"education\", \"category\"),\n",
    "    (\"education_num\", \"int\"),\n",
    "    (\"marital_status\", \"category\"),\n",
    "    (\"occupation\", \"category\"),\n",
    "    (\"relationship\", \"category\"),\n",
    "    (\"race\", \"category\"),\n",
    "    (\"sex\", \"category\"),\n",
    "    (\"capital_gain\", \"float\"),  # required because of NaN values\n",
    "    (\"capital_loss\", \"int\"),\n",
    "    (\"hours_per_week\", \"int\"),\n",
    "    (\"native_country\", \"category\"),\n",
    "    (\"income_class\", \"category\"),\n",
    "])\n",
    "target_column = \"income_class\""
   ]
  },
  {
   "cell_type": "code",
   "execution_count": 19,
   "metadata": {
    "ExecuteTime": {
     "end_time": "2025-10-16T09:31:03.350921Z",
     "start_time": "2025-10-16T09:31:03.346914Z"
    }
   },
   "outputs": [],
   "source": [
    "def read_dataset(path):\n",
    "    return pd.read_csv(\n",
    "        path,\n",
    "        names=data_types,\n",
    "        index_col=None,\n",
    "\n",
    "        comment='|',  # test dataset has comment in it\n",
    "        skipinitialspace=True,  # Skip spaces after delimiter\n",
    "        na_values={\n",
    "            'capital_gain': 99999,\n",
    "            'workclass': '?',\n",
    "            'native_country': '?',\n",
    "            'occupation': '?',\n",
    "        },\n",
    "        dtype=data_types,\n",
    "    )\n",
    "\n",
    "def clean_dataset(data):\n",
    "    # Test dataset has dot at the end, we remove it in order\n",
    "    # to unify names between training and test datasets.\n",
    "    data['income_class'] = data.income_class.str.rstrip('.').astype('category')\n",
    "\n",
    "    # Remove final weight column since there is no use\n",
    "    # for it during the classification.\n",
    "    data = data.drop('final_weight', axis=1)\n",
    "\n",
    "    # Duplicates might create biases during the analysis and\n",
    "    # during prediction stage they might give over-optimistic\n",
    "    # (or pessimistic) results.\n",
    "    data = data.drop_duplicates()\n",
    "\n",
    "    # Binary target variable (>50K == 1 and <=50K == 0)\n",
    "    data[target_column] = (data[target_column] == '>50K').astype(int)\n",
    "\n",
    "    # Categorical dataset\n",
    "    categorical_features = data.select_dtypes('category').columns\n",
    "    data[categorical_features] = data.select_dtypes('category').apply(lambda x: x.cat.codes)\n",
    "    return data"
   ]
  },
  {
   "cell_type": "code",
   "execution_count": 20,
   "metadata": {
    "ExecuteTime": {
     "end_time": "2025-10-16T09:31:03.354784Z",
     "start_time": "2025-10-16T09:31:03.352406Z"
    }
   },
   "outputs": [],
   "source": [
    "# !pip install --upgrade certifi"
   ]
  },
  {
   "cell_type": "code",
   "execution_count": 22,
   "metadata": {
    "ExecuteTime": {
     "end_time": "2025-10-16T09:31:03.427623Z",
     "start_time": "2025-10-16T09:31:03.355951Z"
    }
   },
   "outputs": [
    {
     "name": "stdout",
     "output_type": "stream",
     "text": [
      "Train dataset shape: (28938, 14)\n",
      "Test dataset shape: (15175, 14)\n"
     ]
    }
   ],
   "source": [
    "import pandas as pd\n",
    "# get and clean train dataset\n",
    "TRAIN_DATA_FILE = 'data/adult/adult.data'# 'adult/adult.data'\n",
    "train_data = clean_dataset(read_dataset(TRAIN_DATA_FILE))\n",
    "train_data = train_data.dropna()\n",
    "print(\"Train dataset shape:\", train_data.shape)\n",
    "\n",
    "# get and clean test dataset\n",
    "TEST_DATA_FILE = 'data/adult/adult.test' #'adult/adult.test'\n",
    "test_data = clean_dataset(read_dataset(TEST_DATA_FILE))\n",
    "test_data = test_data.dropna()\n",
    "print(\"Test dataset shape:\", test_data.shape)"
   ]
  },
  {
   "cell_type": "code",
   "execution_count": 23,
   "metadata": {
    "ExecuteTime": {
     "end_time": "2025-10-16T09:31:03.434064Z",
     "start_time": "2025-10-16T09:31:03.430338Z"
    }
   },
   "outputs": [],
   "source": [
    "target_column = \"income_class\"\n",
    "features = train_data.columns.difference([target_column])"
   ]
  },
  {
   "cell_type": "code",
   "execution_count": 24,
   "metadata": {
    "ExecuteTime": {
     "end_time": "2025-10-16T09:31:03.447810Z",
     "start_time": "2025-10-16T09:31:03.436388Z"
    }
   },
   "outputs": [
    {
     "data": {
      "text/html": [
       "<div>\n",
       "<style scoped>\n",
       "    .dataframe tbody tr th:only-of-type {\n",
       "        vertical-align: middle;\n",
       "    }\n",
       "\n",
       "    .dataframe tbody tr th {\n",
       "        vertical-align: top;\n",
       "    }\n",
       "\n",
       "    .dataframe thead th {\n",
       "        text-align: right;\n",
       "    }\n",
       "</style>\n",
       "<table border=\"1\" class=\"dataframe\">\n",
       "  <thead>\n",
       "    <tr style=\"text-align: right;\">\n",
       "      <th></th>\n",
       "      <th>age</th>\n",
       "      <th>workclass</th>\n",
       "      <th>education</th>\n",
       "      <th>education_num</th>\n",
       "      <th>marital_status</th>\n",
       "      <th>occupation</th>\n",
       "      <th>relationship</th>\n",
       "      <th>race</th>\n",
       "      <th>sex</th>\n",
       "      <th>capital_gain</th>\n",
       "      <th>capital_loss</th>\n",
       "      <th>hours_per_week</th>\n",
       "      <th>native_country</th>\n",
       "      <th>income_class</th>\n",
       "    </tr>\n",
       "  </thead>\n",
       "  <tbody>\n",
       "    <tr>\n",
       "      <th>0</th>\n",
       "      <td>39</td>\n",
       "      <td>6</td>\n",
       "      <td>9</td>\n",
       "      <td>13</td>\n",
       "      <td>4</td>\n",
       "      <td>0</td>\n",
       "      <td>1</td>\n",
       "      <td>4</td>\n",
       "      <td>1</td>\n",
       "      <td>2174.0</td>\n",
       "      <td>0</td>\n",
       "      <td>40</td>\n",
       "      <td>38</td>\n",
       "      <td>0</td>\n",
       "    </tr>\n",
       "    <tr>\n",
       "      <th>1</th>\n",
       "      <td>50</td>\n",
       "      <td>5</td>\n",
       "      <td>9</td>\n",
       "      <td>13</td>\n",
       "      <td>2</td>\n",
       "      <td>3</td>\n",
       "      <td>0</td>\n",
       "      <td>4</td>\n",
       "      <td>1</td>\n",
       "      <td>0.0</td>\n",
       "      <td>0</td>\n",
       "      <td>13</td>\n",
       "      <td>38</td>\n",
       "      <td>0</td>\n",
       "    </tr>\n",
       "    <tr>\n",
       "      <th>2</th>\n",
       "      <td>38</td>\n",
       "      <td>3</td>\n",
       "      <td>11</td>\n",
       "      <td>9</td>\n",
       "      <td>0</td>\n",
       "      <td>5</td>\n",
       "      <td>1</td>\n",
       "      <td>4</td>\n",
       "      <td>1</td>\n",
       "      <td>0.0</td>\n",
       "      <td>0</td>\n",
       "      <td>40</td>\n",
       "      <td>38</td>\n",
       "      <td>0</td>\n",
       "    </tr>\n",
       "    <tr>\n",
       "      <th>3</th>\n",
       "      <td>53</td>\n",
       "      <td>3</td>\n",
       "      <td>1</td>\n",
       "      <td>7</td>\n",
       "      <td>2</td>\n",
       "      <td>5</td>\n",
       "      <td>0</td>\n",
       "      <td>2</td>\n",
       "      <td>1</td>\n",
       "      <td>0.0</td>\n",
       "      <td>0</td>\n",
       "      <td>40</td>\n",
       "      <td>38</td>\n",
       "      <td>0</td>\n",
       "    </tr>\n",
       "    <tr>\n",
       "      <th>4</th>\n",
       "      <td>28</td>\n",
       "      <td>3</td>\n",
       "      <td>9</td>\n",
       "      <td>13</td>\n",
       "      <td>2</td>\n",
       "      <td>9</td>\n",
       "      <td>5</td>\n",
       "      <td>2</td>\n",
       "      <td>0</td>\n",
       "      <td>0.0</td>\n",
       "      <td>0</td>\n",
       "      <td>40</td>\n",
       "      <td>4</td>\n",
       "      <td>0</td>\n",
       "    </tr>\n",
       "    <tr>\n",
       "      <th>...</th>\n",
       "      <td>...</td>\n",
       "      <td>...</td>\n",
       "      <td>...</td>\n",
       "      <td>...</td>\n",
       "      <td>...</td>\n",
       "      <td>...</td>\n",
       "      <td>...</td>\n",
       "      <td>...</td>\n",
       "      <td>...</td>\n",
       "      <td>...</td>\n",
       "      <td>...</td>\n",
       "      <td>...</td>\n",
       "      <td>...</td>\n",
       "      <td>...</td>\n",
       "    </tr>\n",
       "    <tr>\n",
       "      <th>32554</th>\n",
       "      <td>53</td>\n",
       "      <td>3</td>\n",
       "      <td>12</td>\n",
       "      <td>14</td>\n",
       "      <td>2</td>\n",
       "      <td>3</td>\n",
       "      <td>0</td>\n",
       "      <td>4</td>\n",
       "      <td>1</td>\n",
       "      <td>0.0</td>\n",
       "      <td>0</td>\n",
       "      <td>40</td>\n",
       "      <td>38</td>\n",
       "      <td>1</td>\n",
       "    </tr>\n",
       "    <tr>\n",
       "      <th>32555</th>\n",
       "      <td>22</td>\n",
       "      <td>3</td>\n",
       "      <td>15</td>\n",
       "      <td>10</td>\n",
       "      <td>4</td>\n",
       "      <td>10</td>\n",
       "      <td>1</td>\n",
       "      <td>4</td>\n",
       "      <td>1</td>\n",
       "      <td>0.0</td>\n",
       "      <td>0</td>\n",
       "      <td>40</td>\n",
       "      <td>38</td>\n",
       "      <td>0</td>\n",
       "    </tr>\n",
       "    <tr>\n",
       "      <th>32556</th>\n",
       "      <td>27</td>\n",
       "      <td>3</td>\n",
       "      <td>7</td>\n",
       "      <td>12</td>\n",
       "      <td>2</td>\n",
       "      <td>12</td>\n",
       "      <td>5</td>\n",
       "      <td>4</td>\n",
       "      <td>0</td>\n",
       "      <td>0.0</td>\n",
       "      <td>0</td>\n",
       "      <td>38</td>\n",
       "      <td>38</td>\n",
       "      <td>0</td>\n",
       "    </tr>\n",
       "    <tr>\n",
       "      <th>32558</th>\n",
       "      <td>58</td>\n",
       "      <td>3</td>\n",
       "      <td>11</td>\n",
       "      <td>9</td>\n",
       "      <td>6</td>\n",
       "      <td>0</td>\n",
       "      <td>4</td>\n",
       "      <td>4</td>\n",
       "      <td>0</td>\n",
       "      <td>0.0</td>\n",
       "      <td>0</td>\n",
       "      <td>40</td>\n",
       "      <td>38</td>\n",
       "      <td>0</td>\n",
       "    </tr>\n",
       "    <tr>\n",
       "      <th>32560</th>\n",
       "      <td>52</td>\n",
       "      <td>4</td>\n",
       "      <td>11</td>\n",
       "      <td>9</td>\n",
       "      <td>2</td>\n",
       "      <td>3</td>\n",
       "      <td>5</td>\n",
       "      <td>4</td>\n",
       "      <td>0</td>\n",
       "      <td>15024.0</td>\n",
       "      <td>0</td>\n",
       "      <td>40</td>\n",
       "      <td>38</td>\n",
       "      <td>1</td>\n",
       "    </tr>\n",
       "  </tbody>\n",
       "</table>\n",
       "<p>28938 rows × 14 columns</p>\n",
       "</div>"
      ],
      "text/plain": [
       "       age  workclass  education  education_num  marital_status  occupation  \\\n",
       "0       39          6          9             13               4           0   \n",
       "1       50          5          9             13               2           3   \n",
       "2       38          3         11              9               0           5   \n",
       "3       53          3          1              7               2           5   \n",
       "4       28          3          9             13               2           9   \n",
       "...    ...        ...        ...            ...             ...         ...   \n",
       "32554   53          3         12             14               2           3   \n",
       "32555   22          3         15             10               4          10   \n",
       "32556   27          3          7             12               2          12   \n",
       "32558   58          3         11              9               6           0   \n",
       "32560   52          4         11              9               2           3   \n",
       "\n",
       "       relationship  race  sex  capital_gain  capital_loss  hours_per_week  \\\n",
       "0                 1     4    1        2174.0             0              40   \n",
       "1                 0     4    1           0.0             0              13   \n",
       "2                 1     4    1           0.0             0              40   \n",
       "3                 0     2    1           0.0             0              40   \n",
       "4                 5     2    0           0.0             0              40   \n",
       "...             ...   ...  ...           ...           ...             ...   \n",
       "32554             0     4    1           0.0             0              40   \n",
       "32555             1     4    1           0.0             0              40   \n",
       "32556             5     4    0           0.0             0              38   \n",
       "32558             4     4    0           0.0             0              40   \n",
       "32560             5     4    0       15024.0             0              40   \n",
       "\n",
       "       native_country  income_class  \n",
       "0                  38             0  \n",
       "1                  38             0  \n",
       "2                  38             0  \n",
       "3                  38             0  \n",
       "4                   4             0  \n",
       "...               ...           ...  \n",
       "32554              38             1  \n",
       "32555              38             0  \n",
       "32556              38             0  \n",
       "32558              38             0  \n",
       "32560              38             1  \n",
       "\n",
       "[28938 rows x 14 columns]"
      ]
     },
     "execution_count": 24,
     "metadata": {},
     "output_type": "execute_result"
    }
   ],
   "source": [
    "train_data"
   ]
  },
  {
   "cell_type": "markdown",
   "metadata": {},
   "source": [
    "### Get train/val/test set"
   ]
  },
  {
   "cell_type": "code",
   "execution_count": 25,
   "metadata": {
    "ExecuteTime": {
     "end_time": "2025-10-16T09:31:06.145554Z",
     "start_time": "2025-10-16T09:31:03.449670Z"
    }
   },
   "outputs": [],
   "source": [
    "from sklearn.model_selection import train_test_split\n",
    "X_train, X_val, y_train, y_val = train_test_split(train_data[features], train_data[[target_column]], test_size=0.1)\n",
    "X_test, y_test = test_data[features], test_data[[target_column]]"
   ]
  },
  {
   "cell_type": "markdown",
   "metadata": {},
   "source": [
    "### Data Scalling"
   ]
  },
  {
   "cell_type": "code",
   "execution_count": 26,
   "metadata": {
    "ExecuteTime": {
     "end_time": "2025-10-16T09:31:06.156240Z",
     "start_time": "2025-10-16T09:31:06.146371Z"
    }
   },
   "outputs": [],
   "source": [
    "from sklearn.preprocessing import StandardScaler\n",
    "\n",
    "scaler = StandardScaler()\n",
    "\n",
    "X_train = pd.DataFrame(scaler.fit_transform(X_train),columns = features)\n",
    "\n",
    "X_val = pd.DataFrame(scaler.transform(X_val),columns = features) # note that here we just use the transform method!\n",
    "X_test = pd.DataFrame(scaler.transform(X_test),columns = features) # note that here we just use the transform method!"
   ]
  },
  {
   "cell_type": "code",
   "execution_count": 27,
   "metadata": {
    "ExecuteTime": {
     "end_time": "2025-10-16T09:31:06.159722Z",
     "start_time": "2025-10-16T09:31:06.157046Z"
    }
   },
   "outputs": [
    {
     "data": {
      "text/plain": [
       "((26044, 13), (2894, 13), (15175, 13))"
      ]
     },
     "execution_count": 27,
     "metadata": {},
     "output_type": "execute_result"
    }
   ],
   "source": [
    "X_train.shape, X_val.shape, X_test.shape"
   ]
  },
  {
   "cell_type": "markdown",
   "metadata": {},
   "source": [
    "# Neural Networks\n",
    "\n",
    "Neural Networks are powerful function approximator that archives state-of-the-art performance on a lot of application the last decade on machine learning.\n",
    "\n",
    "The performance of the Deep Neural Network's is due to their high number of parameters and the efficient learning methods used to train those networks.\n",
    "For example the gtp-3 languages model was about by 175 billion parameters.\n",
    "\n",
    "Neural Networks, adjust their **parameters** (training), using the gradient descent method to **minimise a loss function** $L$."
   ]
  },
  {
   "cell_type": "markdown",
   "metadata": {},
   "source": [
    "<figure>\n",
    "  <img style=\"float: left;\" src=\"./figures_set2/neural_net_new.png\" width=\"800\"/>\n",
    "</figure>|"
   ]
  },
  {
   "cell_type": "markdown",
   "metadata": {},
   "source": [
    "### Operation of each node"
   ]
  },
  {
   "cell_type": "markdown",
   "metadata": {},
   "source": [
    "<figure>\n",
    "  <img style=\"float: left;\" src=\"./figures_set2/neuron_2.png\" width=\"600\"/>\n",
    "</figure>"
   ]
  },
  {
   "cell_type": "markdown",
   "metadata": {},
   "source": [
    "# Activation Functions\n",
    "\n",
    "Activation functions play an integral role in neural networks by introducing non-linearity.\n",
    "This non-linearity allows neural networks to develop complex representations and functions based on the inputs that would not be possible with a simple linear layers.\n",
    "\n",
    "Bellow we illustrate some of the most famous activation functions"
   ]
  },
  {
   "cell_type": "markdown",
   "metadata": {},
   "source": [
    "<figure>\n",
    "  <img style=\"float: left;\" src=\"./figures_set2/acitvation_fun.png\" width=\"600\"/>\n",
    "</figure>"
   ]
  },
  {
   "cell_type": "markdown",
   "metadata": {},
   "source": [
    "# Binary Classification problem\n",
    "\n",
    "In classification problem the output of the neural network can be probability of each class p(y|x).\n",
    "\n",
    "So for binary classification we can do that using a single output to indicate the p(y=1|x).  \n",
    "This has to be bounded between [0,1] in order to be a probability.\n",
    "To do so we can use the sigmoid function that we can illustrate bellow.\n",
    "\n",
    "<figure>\n",
    "  <img style=\"float: left;\" src=\"./figures_set2/sigmoid.png\" width=\"400\"/>\n",
    "</figure>"
   ]
  },
  {
   "cell_type": "markdown",
   "metadata": {},
   "source": [
    "# Define Neural Network with pytorch\n",
    "\n",
    "We will implement a simple neural network for classification problem with pytorch.  \n",
    "The following network has 2 hidden layers following by an output layer."
   ]
  },
  {
   "cell_type": "code",
   "execution_count": 28,
   "metadata": {
    "ExecuteTime": {
     "end_time": "2025-10-16T09:31:06.163819Z",
     "start_time": "2025-10-16T09:31:06.160292Z"
    }
   },
   "outputs": [],
   "source": [
    "class NeuralNetwork(torch.nn.Module):\n",
    "    \"\"\"\n",
    "    Simple two layer neural network for regression\n",
    "    \"\"\"\n",
    "    def __init__(self, num_input_features):\n",
    "        super().__init__()\n",
    "        \n",
    "        # layer 1\n",
    "        layer_1_units = 200\n",
    "        self.layer_1 = torch.nn.Linear(in_features=num_input_features,\n",
    "                                       out_features=layer_1_units)\n",
    "        self.activation_1 = torch.nn.ReLU()\n",
    "        \n",
    "        # layer  2\n",
    "        layer_2_units = 100\n",
    "        self.layer_2 = torch.nn.Linear(in_features=layer_1_units,\n",
    "                                       out_features=layer_2_units)\n",
    "        self.activation_2 = torch.nn.ReLU()\n",
    "        \n",
    "        # layer output layer\n",
    "        self.out_layer = torch.nn.Linear(in_features=layer_2_units,\n",
    "                                         out_features=1)\n",
    "        self.out_activation= torch.nn.Sigmoid()\n",
    "\n",
    "    def forward(self, x):\n",
    "        x_1 = self.activation_1( self.layer_1( x ) )\n",
    "        x_2 = self.activation_2( self.layer_2( x_1 ) )\n",
    "        output = self.out_activation(self.out_layer(x_2))\n",
    "        return output"
   ]
  },
  {
   "cell_type": "code",
   "execution_count": 30,
   "metadata": {
    "ExecuteTime": {
     "end_time": "2025-10-16T09:31:06.175084Z",
     "start_time": "2025-10-16T09:31:06.167674Z"
    }
   },
   "outputs": [
    {
     "name": "stdout",
     "output_type": "stream",
     "text": [
      "----------------------------------------------------------------\n",
      "        Layer (type)               Output Shape         Param #\n",
      "================================================================\n",
      "            Linear-1                  [-1, 200]           2,600\n",
      "              ReLU-2                  [-1, 200]               0\n",
      "            Linear-3                  [-1, 100]          20,100\n",
      "              ReLU-4                  [-1, 100]               0\n",
      "            Linear-5                    [-1, 1]             101\n",
      "           Sigmoid-6                    [-1, 1]               0\n",
      "================================================================\n",
      "Total params: 22,801\n",
      "Trainable params: 22,801\n",
      "Non-trainable params: 0\n",
      "----------------------------------------------------------------\n",
      "Input size (MB): 0.00\n",
      "Forward/backward pass size (MB): 0.00\n",
      "Params size (MB): 0.09\n",
      "Estimated Total Size (MB): 0.09\n",
      "----------------------------------------------------------------\n"
     ]
    }
   ],
   "source": [
    "from torchsummary import summary\n",
    "model = NeuralNetwork(num_input_features=12)\n",
    "summary(model, input_size= [[12]])"
   ]
  },
  {
   "cell_type": "markdown",
   "metadata": {},
   "source": [
    "### make predictions"
   ]
  },
  {
   "cell_type": "code",
   "execution_count": 31,
   "metadata": {
    "ExecuteTime": {
     "end_time": "2025-10-16T09:31:06.178074Z",
     "start_time": "2025-10-16T09:31:06.175700Z"
    },
    "scrolled": true
   },
   "outputs": [],
   "source": [
    "x = torch.rand((100,12))\n",
    "                  \n",
    "predicted_proba = model.forward(x)"
   ]
  },
  {
   "cell_type": "code",
   "execution_count": 32,
   "metadata": {
    "ExecuteTime": {
     "end_time": "2025-10-16T09:31:06.181098Z",
     "start_time": "2025-10-16T09:31:06.178825Z"
    }
   },
   "outputs": [
    {
     "data": {
      "text/plain": [
       "torch.Size([100, 1])"
      ]
     },
     "execution_count": 32,
     "metadata": {},
     "output_type": "execute_result"
    }
   ],
   "source": [
    "predicted_proba.shape # p(y=1|x)"
   ]
  },
  {
   "cell_type": "code",
   "execution_count": 33,
   "metadata": {
    "ExecuteTime": {
     "end_time": "2025-10-16T09:31:06.185282Z",
     "start_time": "2025-10-16T09:31:06.181758Z"
    },
    "scrolled": true
   },
   "outputs": [
    {
     "data": {
      "text/plain": [
       "tensor([[0.5187],\n",
       "        [0.5238],\n",
       "        [0.5241],\n",
       "        [0.5315],\n",
       "        [0.5223],\n",
       "        [0.5208],\n",
       "        [0.5280],\n",
       "        [0.5358],\n",
       "        [0.5206],\n",
       "        [0.5183],\n",
       "        [0.5207],\n",
       "        [0.5285],\n",
       "        [0.5263],\n",
       "        [0.5204],\n",
       "        [0.5277],\n",
       "        [0.5251],\n",
       "        [0.5224],\n",
       "        [0.5175],\n",
       "        [0.5171],\n",
       "        [0.5235],\n",
       "        [0.5217],\n",
       "        [0.5241],\n",
       "        [0.5246],\n",
       "        [0.5267],\n",
       "        [0.5353],\n",
       "        [0.5279],\n",
       "        [0.5219],\n",
       "        [0.5359],\n",
       "        [0.5308],\n",
       "        [0.5184],\n",
       "        [0.5353],\n",
       "        [0.5323],\n",
       "        [0.5254],\n",
       "        [0.5304],\n",
       "        [0.5311],\n",
       "        [0.5286],\n",
       "        [0.5320],\n",
       "        [0.5245],\n",
       "        [0.5255],\n",
       "        [0.5278],\n",
       "        [0.5288],\n",
       "        [0.5261],\n",
       "        [0.5259],\n",
       "        [0.5336],\n",
       "        [0.5163],\n",
       "        [0.5278],\n",
       "        [0.5290],\n",
       "        [0.5153],\n",
       "        [0.5264],\n",
       "        [0.5286],\n",
       "        [0.5330],\n",
       "        [0.5328],\n",
       "        [0.5167],\n",
       "        [0.5207],\n",
       "        [0.5289],\n",
       "        [0.5174],\n",
       "        [0.5270],\n",
       "        [0.5219],\n",
       "        [0.5214],\n",
       "        [0.5316],\n",
       "        [0.5241],\n",
       "        [0.5297],\n",
       "        [0.5323],\n",
       "        [0.5292],\n",
       "        [0.5319],\n",
       "        [0.5248],\n",
       "        [0.5286],\n",
       "        [0.5221],\n",
       "        [0.5252],\n",
       "        [0.5376],\n",
       "        [0.5361],\n",
       "        [0.5346],\n",
       "        [0.5214],\n",
       "        [0.5282],\n",
       "        [0.5225],\n",
       "        [0.5291],\n",
       "        [0.5355],\n",
       "        [0.5303],\n",
       "        [0.5428],\n",
       "        [0.5247],\n",
       "        [0.5330],\n",
       "        [0.5358],\n",
       "        [0.5172],\n",
       "        [0.5268],\n",
       "        [0.5225],\n",
       "        [0.5258],\n",
       "        [0.5324],\n",
       "        [0.5252],\n",
       "        [0.5239],\n",
       "        [0.5397],\n",
       "        [0.5267],\n",
       "        [0.5272],\n",
       "        [0.5237],\n",
       "        [0.5272],\n",
       "        [0.5259],\n",
       "        [0.5270],\n",
       "        [0.5257],\n",
       "        [0.5323],\n",
       "        [0.5180],\n",
       "        [0.5342]], grad_fn=<SigmoidBackward0>)"
      ]
     },
     "execution_count": 33,
     "metadata": {},
     "output_type": "execute_result"
    }
   ],
   "source": [
    "predicted_proba"
   ]
  },
  {
   "cell_type": "code",
   "execution_count": 34,
   "metadata": {
    "ExecuteTime": {
     "end_time": "2025-10-16T09:31:06.189711Z",
     "start_time": "2025-10-16T09:31:06.186188Z"
    },
    "scrolled": true
   },
   "outputs": [
    {
     "data": {
      "text/plain": [
       "tensor([[1],\n",
       "        [1],\n",
       "        [1],\n",
       "        [1],\n",
       "        [1],\n",
       "        [1],\n",
       "        [1],\n",
       "        [1],\n",
       "        [1],\n",
       "        [1],\n",
       "        [1],\n",
       "        [1],\n",
       "        [1],\n",
       "        [1],\n",
       "        [1],\n",
       "        [1],\n",
       "        [1],\n",
       "        [1],\n",
       "        [1],\n",
       "        [1],\n",
       "        [1],\n",
       "        [1],\n",
       "        [1],\n",
       "        [1],\n",
       "        [1],\n",
       "        [1],\n",
       "        [1],\n",
       "        [1],\n",
       "        [1],\n",
       "        [1],\n",
       "        [1],\n",
       "        [1],\n",
       "        [1],\n",
       "        [1],\n",
       "        [1],\n",
       "        [1],\n",
       "        [1],\n",
       "        [1],\n",
       "        [1],\n",
       "        [1],\n",
       "        [1],\n",
       "        [1],\n",
       "        [1],\n",
       "        [1],\n",
       "        [1],\n",
       "        [1],\n",
       "        [1],\n",
       "        [1],\n",
       "        [1],\n",
       "        [1],\n",
       "        [1],\n",
       "        [1],\n",
       "        [1],\n",
       "        [1],\n",
       "        [1],\n",
       "        [1],\n",
       "        [1],\n",
       "        [1],\n",
       "        [1],\n",
       "        [1],\n",
       "        [1],\n",
       "        [1],\n",
       "        [1],\n",
       "        [1],\n",
       "        [1],\n",
       "        [1],\n",
       "        [1],\n",
       "        [1],\n",
       "        [1],\n",
       "        [1],\n",
       "        [1],\n",
       "        [1],\n",
       "        [1],\n",
       "        [1],\n",
       "        [1],\n",
       "        [1],\n",
       "        [1],\n",
       "        [1],\n",
       "        [1],\n",
       "        [1],\n",
       "        [1],\n",
       "        [1],\n",
       "        [1],\n",
       "        [1],\n",
       "        [1],\n",
       "        [1],\n",
       "        [1],\n",
       "        [1],\n",
       "        [1],\n",
       "        [1],\n",
       "        [1],\n",
       "        [1],\n",
       "        [1],\n",
       "        [1],\n",
       "        [1],\n",
       "        [1],\n",
       "        [1],\n",
       "        [1],\n",
       "        [1],\n",
       "        [1]])"
      ]
     },
     "execution_count": 34,
     "metadata": {},
     "output_type": "execute_result"
    }
   ],
   "source": [
    "# make predictions\n",
    "thr = 0.5\n",
    "predictions = (predicted_proba > thr) * 1\n",
    "predictions"
   ]
  },
  {
   "cell_type": "markdown",
   "metadata": {},
   "source": [
    "# Optimize Network\n",
    "\n",
    "We seek the parameters that **minimize the loss function** by iteratively updating them in the direction that reduces the loss.  \n",
    "\n",
    "To optimize the network, we use a **variant of gradient descent**, a first-order optimization algorithm that adjusts the model parameters based on the gradient of the loss function with respect to each parameter. At each iteration $t$, the update rule is given by  \n",
    "\n",
    "$$\n",
    "w_{t+1} = w_t - \\eta \\nabla_{w} \\mathcal{L}(w_t),\n",
    "$$\n",
    "\n",
    "where $ \\eta $ is the **learning rate**, controlling the step size of the updates, and $ \\nabla_{\\theta} \\mathcal{L}(\\theta_t)$ denotes the gradient of the loss function with respect to $ \\theta_t$.  \n",
    "\n",
    "\n",
    "![Optimization surface](./figures_set2/surface.png)"
   ]
  },
  {
   "cell_type": "markdown",
   "metadata": {},
   "source": [
    "#### Loss — Binary Cross-Entropy\n",
    "\n",
    "We use the **binary cross-entropy loss** as the loss function, which measures the difference between the predicted probabilities and the true binary labels. It is defined as  \n",
    "\n",
    "$$\n",
    "\\mathcal{L}_{\\text{BCE}} = - \\frac{1}{N} \\sum_{i=1}^{N} \\left[ y_i \\log(\\hat{y}_i) + (1 - y_i)\\log(1 - \\hat{y}_i) \\right],\n",
    "$$\n",
    "\n",
    "where $y_i \\in \\{0,1\\}$ denotes the true label and $\\hat{y}_i \\in [0,1]$ is the predicted probability for sample $i$.\n",
    "\n",
    "\n"
   ]
  },
  {
   "cell_type": "markdown",
   "metadata": {},
   "source": [
    "Where\n",
    "$$\\hat{y} = f(x) = p(y=1|x)$$"
   ]
  },
  {
   "cell_type": "markdown",
   "metadata": {},
   "source": [
    "##### Bellow we perfom a single iteration of sgd."
   ]
  },
  {
   "cell_type": "code",
   "execution_count": 35,
   "metadata": {
    "ExecuteTime": {
     "end_time": "2025-10-16T09:31:06.373566Z",
     "start_time": "2025-10-16T09:31:06.190316Z"
    }
   },
   "outputs": [],
   "source": [
    "model = NeuralNetwork(num_input_features=12)\n",
    "loss_fn = torch.nn.BCELoss()\n",
    "\n",
    "# to make the optimization pytorch has different optimizers. \n",
    "lr = 1.1\n",
    "optimizer = torch.optim.SGD(model.parameters(), lr=lr) # there are different options for optimizers"
   ]
  },
  {
   "cell_type": "code",
   "execution_count": 36,
   "metadata": {
    "ExecuteTime": {
     "end_time": "2025-10-16T09:31:06.377668Z",
     "start_time": "2025-10-16T09:31:06.374173Z"
    }
   },
   "outputs": [
    {
     "data": {
      "text/plain": [
       "Parameter containing:\n",
       "tensor([[-0.0698, -0.0701,  0.0612,  ..., -0.0482,  0.0134, -0.0243],\n",
       "        [ 0.0363,  0.0704,  0.0161,  ..., -0.0690, -0.0647, -0.0624],\n",
       "        [-0.0144, -0.0686, -0.0210,  ..., -0.0370, -0.0214,  0.0306],\n",
       "        ...,\n",
       "        [-0.0102,  0.0281, -0.0432,  ..., -0.0241,  0.0556, -0.0367],\n",
       "        [-0.0097, -0.0387,  0.0497,  ..., -0.0473,  0.0435,  0.0500],\n",
       "        [-0.0664, -0.0642, -0.0248,  ...,  0.0707,  0.0506, -0.0257]],\n",
       "       requires_grad=True)"
      ]
     },
     "execution_count": 36,
     "metadata": {},
     "output_type": "execute_result"
    }
   ],
   "source": [
    "model.layer_2.weight"
   ]
  },
  {
   "cell_type": "code",
   "execution_count": 37,
   "metadata": {
    "ExecuteTime": {
     "end_time": "2025-10-16T09:31:06.383091Z",
     "start_time": "2025-10-16T09:31:06.378495Z"
    }
   },
   "outputs": [],
   "source": [
    "x = torch.rand((100, 12))\n",
    "y = torch.randint(0, 1, (100, 1), dtype = torch.float)\n",
    "                  \n",
    "predicted_proba = model.forward(x)\n",
    "loss = loss_fn(predicted_proba, y)\n",
    "                  \n",
    "loss.backward()\n",
    "optimizer.step() # The optimiser automaticaly update the weights using the gradients.\n",
    "\n",
    "optimizer.zero_grad() # reset the gradients"
   ]
  },
  {
   "cell_type": "code",
   "execution_count": 39,
   "metadata": {
    "ExecuteTime": {
     "end_time": "2025-10-16T09:31:06.387251Z",
     "start_time": "2025-10-16T09:31:06.383890Z"
    }
   },
   "outputs": [
    {
     "data": {
      "text/plain": [
       "Parameter containing:\n",
       "tensor([[-0.0698, -0.0701,  0.0612,  ..., -0.0482,  0.0134, -0.0243],\n",
       "        [ 0.0220,  0.0704,  0.0161,  ..., -0.0907, -0.0658, -0.0624],\n",
       "        [-0.0144, -0.0686, -0.0210,  ..., -0.0370, -0.0214,  0.0306],\n",
       "        ...,\n",
       "        [-0.0190,  0.0281, -0.0432,  ..., -0.0362,  0.0549, -0.0368],\n",
       "        [-0.0097, -0.0387,  0.0497,  ..., -0.0473,  0.0435,  0.0500],\n",
       "        [-0.0664, -0.0642, -0.0248,  ...,  0.0706,  0.0506, -0.0257]],\n",
       "       requires_grad=True)"
      ]
     },
     "execution_count": 39,
     "metadata": {},
     "output_type": "execute_result"
    }
   ],
   "source": [
    "model.layer_2.weight"
   ]
  },
  {
   "cell_type": "markdown",
   "metadata": {},
   "source": [
    "# Training Loop\n",
    "\n",
    "When training a neural network, we typically use **mini-batches** of training examples instead of feeding the entire dataset at once.  \n",
    "\n",
    "<figure>\n",
    "  <img style=\"float: left;\" src=\"./figures_set2/batches.png\" width=\"500\"/>\n",
    "</figure>\n",
    "\n",
    "Batch training is used for several reasons:\n",
    "\n",
    "- Large datasets often **cannot fit entirely into memory**.  \n",
    "- Using batches allows for **faster training**, as multiple updates to the model weights can be performed in the same amount of time.  \n",
    "- It can also improve **stability** by smoothing the noise in gradient estimates.  \n",
    "\n",
    "However, there are also trade-offs. Since the gradient is computed over a small subset of data, it only approximates the true gradient direction. Therefore, **very small batch sizes** may lead to unstable updates and poorer generalization.  \n",
    "\n",
    "The **batch size** is thus an important **hyperparameter** of the training algorithm that affects both performance and convergence speed."
   ]
  },
  {
   "cell_type": "markdown",
   "metadata": {},
   "source": [
    "<figure>\n",
    "  <img style=\"float: left;\" src=\"./figures_set2/train_loop.png\" width=\"500\"/>\n",
    "</figure>"
   ]
  },
  {
   "cell_type": "markdown",
   "metadata": {},
   "source": [
    "lets use pytorch to batch our data. \n",
    "\n",
    "In summary PyTorch provides two main data classes: **DataLoader** and **Dataset** to handle your data. \n",
    "\n",
    "**Dataset**  stores the samples and their corresponding labels, and **DataLoader** wraps an iterable around the Dataset to enable easy access to the batches.\n",
    "\n",
    "you can read more at: https://pytorch.org/tutorials/beginner/basics/data_tutorial.html"
   ]
  },
  {
   "cell_type": "code",
   "execution_count": 37,
   "metadata": {
    "ExecuteTime": {
     "end_time": "2025-10-16T09:31:06.390702Z",
     "start_time": "2025-10-16T09:31:06.388038Z"
    }
   },
   "outputs": [],
   "source": [
    "# covert data into tensors\n",
    "train_x_tensor = torch.tensor(X_train.values, dtype=torch.float)\n",
    "train_y_tensor = torch.tensor(y_train.values, dtype=torch.float)\n",
    "\n",
    "# use the dataset class wrapper for tensors\n",
    "train_tensor_dataset = torch.utils.data.TensorDataset(train_x_tensor, train_y_tensor)# there are more coplex dataset\n",
    "                                                                                     # i.e images or text data\n",
    "\n",
    "# pass the dataset class into Dataloader to batch and shuffle your data\n",
    "train_dataloader = torch.utils.data.DataLoader(train_tensor_dataset,\n",
    "                                               batch_size=64,\n",
    "                                               shuffle=True)"
   ]
  },
  {
   "cell_type": "code",
   "execution_count": 38,
   "metadata": {
    "ExecuteTime": {
     "end_time": "2025-10-16T09:31:06.453700Z",
     "start_time": "2025-10-16T09:31:06.391402Z"
    }
   },
   "outputs": [],
   "source": [
    "for i, batch in enumerate(train_dataloader):\n",
    "    batch_x, batch_y = batch # get next iteam"
   ]
  },
  {
   "cell_type": "code",
   "execution_count": 39,
   "metadata": {
    "ExecuteTime": {
     "end_time": "2025-10-16T09:31:06.459218Z",
     "start_time": "2025-10-16T09:31:06.454580Z"
    }
   },
   "outputs": [
    {
     "data": {
      "text/plain": [
       "torch.Size([60, 13])"
      ]
     },
     "execution_count": 39,
     "metadata": {},
     "output_type": "execute_result"
    }
   ],
   "source": [
    "batch_x.shape"
   ]
  },
  {
   "cell_type": "code",
   "execution_count": 40,
   "metadata": {
    "ExecuteTime": {
     "end_time": "2025-10-16T09:31:06.463405Z",
     "start_time": "2025-10-16T09:31:06.460465Z"
    }
   },
   "outputs": [],
   "source": [
    "# convert val data to tensor for later\n",
    "val_x_tensor = torch.tensor(X_val.values, dtype=torch.float)\n",
    "val_y_tensor = torch.tensor(y_val.values, dtype=torch.float)"
   ]
  },
  {
   "cell_type": "code",
   "execution_count": 41,
   "metadata": {
    "ExecuteTime": {
     "end_time": "2025-10-16T09:31:06.469256Z",
     "start_time": "2025-10-16T09:31:06.465165Z"
    }
   },
   "outputs": [
    {
     "data": {
      "text/plain": [
       "tensor([[ 2.0286, -0.2449, -0.2316,  ..., -0.2905, -1.3984, -1.2550],\n",
       "        [ 1.1521, -0.2449, -0.2316,  ..., -0.9072,  0.7151,  0.0823],\n",
       "        [-0.8930, -0.2449, -0.2316,  ..., -0.9072,  0.7151,  0.0823],\n",
       "        ...,\n",
       "        [-0.4548, -0.2449, -0.2316,  ..., -0.2905,  0.7151,  1.4197],\n",
       "        [ 0.0565, -0.2449, -0.2316,  ..., -0.2905,  0.7151,  0.0823],\n",
       "        [-1.4043, -0.2449, -0.2316,  ...,  0.9428, -1.3984,  0.0823]])"
      ]
     },
     "execution_count": 41,
     "metadata": {},
     "output_type": "execute_result"
    }
   ],
   "source": [
    "val_x_tensor"
   ]
  },
  {
   "cell_type": "markdown",
   "metadata": {},
   "source": [
    "# Define training loop"
   ]
  },
  {
   "cell_type": "markdown",
   "metadata": {},
   "source": [
    "\n",
    "<figure>\n",
    "  <img style=\"float: left;\" src=\"./figures_set2/train_loop.png\" width=\"400\"/>\n",
    "</figure>"
   ]
  },
  {
   "cell_type": "code",
   "execution_count": 42,
   "metadata": {
    "ExecuteTime": {
     "end_time": "2025-10-16T09:31:06.473670Z",
     "start_time": "2025-10-16T09:31:06.470574Z"
    }
   },
   "outputs": [],
   "source": [
    "def training_step(model, input_data, optimizer, loss_fn):\n",
    "    # reset gradients of the optimizer\n",
    "    optimizer.zero_grad()\n",
    "    \n",
    "    # unfold data\n",
    "    x_batch, y_batch = input_data\n",
    "    \n",
    "    # get predictions\n",
    "    y_pred_propa = model.forward(x_batch)\n",
    "    \n",
    "    # calculate loss\n",
    "    loss = loss_fn(y_pred_propa, y_batch)\n",
    "\n",
    "    # compute gradients \n",
    "    loss.backward()\n",
    "    \n",
    "    # optimise network\n",
    "    optimizer.step()\n",
    "    \n",
    "    # compute metrics for monitoring\n",
    "    with torch.no_grad(): \n",
    "        y_pred = (y_pred_propa>0.5) * 1\n",
    "    train_acc = torch.sum(y_pred == y_batch) / y_batch.shape[0]\n",
    "\n",
    "    return loss.data.numpy(), train_acc.data.numpy()"
   ]
  },
  {
   "cell_type": "code",
   "execution_count": 43,
   "metadata": {
    "ExecuteTime": {
     "end_time": "2025-10-16T09:31:06.477213Z",
     "start_time": "2025-10-16T09:31:06.474587Z"
    }
   },
   "outputs": [],
   "source": [
    "def evaluation_step(model, input_data, loss_fn):\n",
    "    # when we use torch.no_grad pytorch didnt store information\n",
    "    # that is required to calculate gradients so is fasterr \n",
    "    with torch.no_grad(): \n",
    "        x_batch, y_batch = input_data\n",
    "        y_pred_proba = model(x_batch)\n",
    "    loss = loss_fn(y_pred_proba, y_batch)\n",
    "\n",
    "    # compute metrics\n",
    "    y_pred = (y_pred_proba>0.5) * 1\n",
    "    acc = torch.sum(y_pred == y_batch) / y_batch.shape[0]\n",
    "    return loss.data.numpy(), acc.data.numpy()"
   ]
  },
  {
   "cell_type": "code",
   "execution_count": 44,
   "metadata": {
    "ExecuteTime": {
     "end_time": "2025-10-16T09:31:06.481295Z",
     "start_time": "2025-10-16T09:31:06.478103Z"
    }
   },
   "outputs": [],
   "source": [
    "model = NeuralNetwork(num_input_features=13)\n",
    "\n",
    "lr = 0.02\n",
    "optimizer = torch.optim.SGD(model.parameters(), lr=lr)\n",
    "loss_fn = torch.nn.BCELoss() # binary cross entropy"
   ]
  },
  {
   "cell_type": "code",
   "execution_count": 45,
   "metadata": {
    "ExecuteTime": {
     "end_time": "2025-10-16T09:31:06.486306Z",
     "start_time": "2025-10-16T09:31:06.483374Z"
    }
   },
   "outputs": [],
   "source": [
    "# parameters of the training loop\n",
    "epochs = 400"
   ]
  },
  {
   "cell_type": "code",
   "execution_count": 46,
   "metadata": {
    "ExecuteTime": {
     "start_time": "2025-10-16T09:31:06.488089Z"
    },
    "is_executing": true,
    "scrolled": true
   },
   "outputs": [
    {
     "name": "stdout",
     "output_type": "stream",
     "text": [
      "Epoch 0/400:  loss:0.462, accuracy-:0.790, val_loss:0.404, val_accuracy->0.811\n",
      "Epoch 10/400:  loss:0.334, accuracy-:0.843, val_loss:0.333, val_accuracy->0.832\n",
      "Epoch 20/400:  loss:0.327, accuracy-:0.847, val_loss:0.326, val_accuracy->0.836\n",
      "Epoch 30/400:  loss:0.322, accuracy-:0.848, val_loss:0.323, val_accuracy->0.837\n",
      "Epoch 40/400:  loss:0.319, accuracy-:0.850, val_loss:0.322, val_accuracy->0.838\n",
      "Epoch 50/400:  loss:0.316, accuracy-:0.850, val_loss:0.320, val_accuracy->0.842\n",
      "Epoch 60/400:  loss:0.312, accuracy-:0.851, val_loss:0.320, val_accuracy->0.841\n",
      "Epoch 70/400:  loss:0.309, accuracy-:0.854, val_loss:0.319, val_accuracy->0.848\n",
      "Epoch 80/400:  loss:0.307, accuracy-:0.855, val_loss:0.318, val_accuracy->0.844\n",
      "Epoch 90/400:  loss:0.303, accuracy-:0.857, val_loss:0.319, val_accuracy->0.842\n",
      "Epoch 100/400:  loss:0.301, accuracy-:0.857, val_loss:0.317, val_accuracy->0.842\n",
      "Epoch 110/400:  loss:0.298, accuracy-:0.860, val_loss:0.321, val_accuracy->0.843\n",
      "Epoch 120/400:  loss:0.295, accuracy-:0.859, val_loss:0.323, val_accuracy->0.842\n",
      "Epoch 130/400:  loss:0.293, accuracy-:0.860, val_loss:0.324, val_accuracy->0.841\n",
      "Epoch 140/400:  loss:0.291, accuracy-:0.863, val_loss:0.323, val_accuracy->0.846\n",
      "Epoch 150/400:  loss:0.288, accuracy-:0.862, val_loss:0.324, val_accuracy->0.839\n",
      "Epoch 160/400:  loss:0.285, accuracy-:0.863, val_loss:0.328, val_accuracy->0.840\n",
      "Epoch 170/400:  loss:0.282, accuracy-:0.865, val_loss:0.328, val_accuracy->0.841\n",
      "Epoch 180/400:  loss:0.281, accuracy-:0.866, val_loss:0.332, val_accuracy->0.838\n",
      "Epoch 190/400:  loss:0.278, accuracy-:0.866, val_loss:0.330, val_accuracy->0.838\n",
      "Epoch 200/400:  loss:0.276, accuracy-:0.868, val_loss:0.332, val_accuracy->0.837\n",
      "Epoch 210/400:  loss:0.273, accuracy-:0.868, val_loss:0.339, val_accuracy->0.835\n",
      "Epoch 220/400:  loss:0.272, accuracy-:0.871, val_loss:0.341, val_accuracy->0.838\n",
      "Epoch 230/400:  loss:0.270, accuracy-:0.870, val_loss:0.351, val_accuracy->0.833\n",
      "Epoch 240/400:  loss:0.267, accuracy-:0.873, val_loss:0.346, val_accuracy->0.834\n",
      "Epoch 250/400:  loss:0.265, accuracy-:0.873, val_loss:0.368, val_accuracy->0.825\n",
      "Epoch 260/400:  loss:0.262, accuracy-:0.876, val_loss:0.357, val_accuracy->0.830\n",
      "Epoch 270/400:  loss:0.261, accuracy-:0.874, val_loss:0.349, val_accuracy->0.837\n",
      "Epoch 280/400:  loss:0.259, accuracy-:0.877, val_loss:0.360, val_accuracy->0.838\n",
      "Epoch 290/400:  loss:0.257, accuracy-:0.877, val_loss:0.369, val_accuracy->0.833\n",
      "Epoch 300/400:  loss:0.255, accuracy-:0.877, val_loss:0.368, val_accuracy->0.837\n",
      "Epoch 310/400:  loss:0.254, accuracy-:0.879, val_loss:0.373, val_accuracy->0.832\n",
      "Epoch 320/400:  loss:0.252, accuracy-:0.880, val_loss:0.371, val_accuracy->0.831\n",
      "Epoch 330/400:  loss:0.250, accuracy-:0.879, val_loss:0.367, val_accuracy->0.833\n",
      "Epoch 340/400:  loss:0.249, accuracy-:0.879, val_loss:0.369, val_accuracy->0.833\n",
      "Epoch 350/400:  loss:0.246, accuracy-:0.881, val_loss:0.386, val_accuracy->0.832\n",
      "Epoch 360/400:  loss:0.245, accuracy-:0.881, val_loss:0.382, val_accuracy->0.831\n",
      "Epoch 370/400:  loss:0.242, accuracy-:0.884, val_loss:0.375, val_accuracy->0.829\n",
      "Epoch 380/400:  loss:0.240, accuracy-:0.885, val_loss:0.385, val_accuracy->0.829\n",
      "Epoch 390/400:  loss:0.239, accuracy-:0.885, val_loss:0.391, val_accuracy->0.828\n"
     ]
    }
   ],
   "source": [
    "# -------------------- Train  Loop----------------------------\n",
    "train_history = []\n",
    "val_history = []\n",
    "for epoch in range(epochs): # iterate over epoch    \n",
    "    # -------------------- 1. Training on each epoch ----------------------------\n",
    "    accumulated_loss,accumulated_accuracy = 0, 0 # monitor loss and metrics during training\n",
    "    for step, batch_data in enumerate(train_dataloader): # iterate over batch\n",
    "        loss, accuracy = training_step(model,batch_data,optimizer,loss_fn) # train model using a single batch\n",
    "        accumulated_loss = (step * accumulated_loss + loss)/(step+1)\n",
    "        accumulated_accuracy =  (step * accumulated_accuracy + accuracy)/(step+1)\n",
    "        \n",
    "    # store the loss and the metrics at the end of each epoch\n",
    "    train_history += [{\"loss\":accumulated_loss, \"accuracy\":accumulated_accuracy, \"epoch\": epoch}]\n",
    "    \n",
    "    # -------------------- 2. Monitor Error on Validation set ----------------------------\n",
    "    val_loss, val_accuracy = evaluation_step(model, (val_x_tensor, val_y_tensor), loss_fn)\n",
    "    val_history += [{\"loss\":val_loss, \"accuracy\":val_accuracy, \"epoch\": epoch}]\n",
    "    \n",
    "    # -------------------- 3. Display Performance every several epochs ----------------------------\n",
    "    if epoch % 10 == 0:\n",
    "        print(f\"Epoch {epoch}/{epochs}:  loss:{accumulated_loss:.3f}, accuracy-:{accumulated_accuracy:.3f}, val_loss:{val_loss:.3f}, val_accuracy->{val_accuracy:.3f}\")"
   ]
  },
  {
   "cell_type": "code",
   "execution_count": 40,
   "metadata": {
    "is_executing": true
   },
   "outputs": [
    {
     "ename": "NameError",
     "evalue": "name 'val_history' is not defined",
     "output_type": "error",
     "traceback": [
      "\u001b[0;31m---------------------------------------------------------------------------\u001b[0m",
      "\u001b[0;31mNameError\u001b[0m                                 Traceback (most recent call last)",
      "Cell \u001b[0;32mIn[40], line 1\u001b[0m\n\u001b[0;32m----> 1\u001b[0m val_history_df \u001b[38;5;241m=\u001b[39m pd\u001b[38;5;241m.\u001b[39mDataFrame(\u001b[43mval_history\u001b[49m)\n\u001b[1;32m      2\u001b[0m train_history_df \u001b[38;5;241m=\u001b[39m pd\u001b[38;5;241m.\u001b[39mDataFrame(train_history)\n",
      "\u001b[0;31mNameError\u001b[0m: name 'val_history' is not defined"
     ]
    }
   ],
   "source": [
    "val_history_df = pd.DataFrame(val_history)\n",
    "train_history_df = pd.DataFrame(train_history)"
   ]
  },
  {
   "cell_type": "markdown",
   "metadata": {},
   "source": [
    "#  Overfitting\n",
    "\n",
    "**Overfitting** refers to the phenomenon when our model performs well on the training set but exhibits poor performance on the testing set.\n",
    "\n",
    "Since neural networks have a large number of parameters can memories the examples, resulting in bad performance during testing.  \n",
    "\n",
    "This occurs when the model exploits pattern between the data (X) and the labels (Y) that is not in the testing data."
   ]
  },
  {
   "cell_type": "markdown",
   "metadata": {},
   "source": [
    "<figure>\n",
    "  <img style=\"float: left;\" src=\"./figures_set2/overfiting.jpg\" width=\"800\"/>\n",
    "</figure>"
   ]
  },
  {
   "cell_type": "markdown",
   "metadata": {},
   "source": [
    "### Learning Curves\n",
    "\n",
    "One way to prevent overfiting is to monitor the performance of our algorithm on the validation set.\n",
    "\n",
    "Learning curves track the performance of the model during training by measuring various metrics at regular optimization steps.   \n",
    "\n",
    "Learning curves provide valuable insights into the model's behavior, allowing us to detect overfitting.\n",
    "\n",
    "To identify overfitting, we typically compare the learning curves of the training and validation sets."
   ]
  },
  {
   "cell_type": "markdown",
   "metadata": {},
   "source": [
    "<figure>\n",
    "  <img style=\"float: left;\" src=\"./figures_set2/epoch-error-curve-fitting.png\" width=\"400\"/>\n",
    "</figure>"
   ]
  },
  {
   "cell_type": "code",
   "execution_count": 48,
   "metadata": {
    "is_executing": true
   },
   "outputs": [
    {
     "data": {
      "text/plain": [
       "<matplotlib.legend.Legend at 0x169590fd0>"
      ]
     },
     "execution_count": 48,
     "metadata": {},
     "output_type": "execute_result"
    },
    {
     "data": {
      "image/png": "[encoded data removed]",
      "text/plain": [
       "<Figure size 640x480 with 1 Axes>"
      ]
     },
     "metadata": {},
     "output_type": "display_data"
    }
   ],
   "source": [
    "plt.figure()\n",
    "plt.plot(train_history_df[\"epoch\"],train_history_df[\"loss\"], label = \"Training set\")\n",
    "plt.plot(val_history_df[\"epoch\"],val_history_df[\"loss\"], label = \"Validation set\")\n",
    "plt.title(\"Learning Curve\")\n",
    "plt.ylabel(\"Cross Entropy Loss\")\n",
    "plt.xlabel(\"Epoch\")\n",
    "plt.legend()"
   ]
  },
  {
   "cell_type": "code",
   "execution_count": 49,
   "metadata": {
    "is_executing": true
   },
   "outputs": [
    {
     "data": {
      "text/plain": [
       "<matplotlib.legend.Legend at 0x169619e80>"
      ]
     },
     "execution_count": 49,
     "metadata": {},
     "output_type": "execute_result"
    },
    {
     "data": {
      "image/png": "[encoded data removed]",
      "text/plain": [
       "<Figure size 640x480 with 1 Axes>"
      ]
     },
     "metadata": {},
     "output_type": "display_data"
    }
   ],
   "source": [
    "plt.figure()\n",
    "plt.plot(train_history_df[\"epoch\"],train_history_df[\"accuracy\"], label = \"Training set\")\n",
    "plt.plot(val_history_df[\"epoch\"],val_history_df[\"accuracy\"], label = \"Validation set\")\n",
    "plt.title(\"Learning Curve\")\n",
    "plt.ylabel(\"Accuracy\")\n",
    "plt.xlabel(\"Epoch\")\n",
    "plt.legend()"
   ]
  },
  {
   "cell_type": "markdown",
   "metadata": {},
   "source": [
    "# Assignment\n",
    "\n",
    "In this assignment, we will explore the effects of different techniques to **reduce overfitting** when training a neural network.  \n",
    "\n",
    "The techniques we will study are:\n",
    "\n",
    "1. **Early Stopping**  \n",
    "2. **Reducing Model Parameters**  \n",
    "3. **Weight Regularization**"
   ]
  },
  {
   "cell_type": "markdown",
   "metadata": {},
   "source": [
    "# A. Early Stopping\n",
    "\n",
    "**Early stopping** is an optimization technique used to reduce overfitting without compromising model accuracy. The main idea is to **stop training before the model starts to overfit**.  \n",
    "\n",
    "To use early stopping, we monitor the **validation loss**. If it stops improving for several consecutive epochs, as defined by the **patience** parameter, training is stopped.\n",
    "\n",
    "**Steps:**\n",
    "\n",
    "1. **Implement Early Stopping**  \n",
    "   - Stop training after the model does not improve the validation loss for `patience` consecutive epochs.  \n",
    "   - Restore the **best weights** observed during training.  \n",
    "\n",
    "2. **Train your model using early stopping**.  \n",
    "\n",
    "3. **Set the best weights** after training stops.  \n",
    "\n",
    "4. **Experiment with different `patience` values**, for example `patience = {5, 100}`.  \n",
    "   - How does the `patience` parameter affect the learning and generalization of your network?  \n",
    "   - What do you observe in the training and validation curves?"
   ]
  },
  {
   "cell_type": "markdown",
   "metadata": {},
   "source": [
    "# Solution"
   ]
  },
  {
   "cell_type": "code",
   "execution_count": 3,
   "metadata": {
    "ExecuteTime": {
     "end_time": "2025-10-16T11:17:48.544112Z",
     "start_time": "2025-10-16T11:17:48.532249Z"
    }
   },
   "outputs": [
    {
     "ename": "IndentationError",
     "evalue": "expected an indented block (1790393654.py, line 16)",
     "output_type": "error",
     "traceback": [
      "\u001b[0;36m  Cell \u001b[0;32mIn[3], line 16\u001b[0;36m\u001b[0m\n\u001b[0;31m    return model, val_history_df, train_history_df, best_loss, best_epoch, best_weights\u001b[0m\n\u001b[0m    ^\u001b[0m\n\u001b[0;31mIndentationError\u001b[0m\u001b[0;31m:\u001b[0m expected an indented block\n"
     ]
    }
   ],
   "source": [
    "# -------------------- Train  Loop----------------------------\n",
    "def train_loop(patient, epochs, model, optimizer, loss_fn):\n",
    "\n",
    "    train_history = []\n",
    "    val_history = []\n",
    "    for epoch in range(epochs): # iterate over epoch    \n",
    "        # -------------------- Training on each epoch ----------------------------\n",
    "        \n",
    "\n",
    "        # -------------------- Monitor Error Validation set ----------------------------\n",
    "      \n",
    "\n",
    "        # -------------------- Early Stoping ----------------------------\n",
    "        \n",
    "\n",
    "    return model, val_history_df, train_history_df, best_loss, best_epoch, best_weights"
   ]
  },
  {
   "cell_type": "markdown",
   "metadata": {},
   "source": [
    "# B. Reduce the Size of the Network\n",
    "\n",
    "The **capacity** (total number of parameters) of a model affects the training process. If the model has too many parameters relative to the complexity of the problem, it can easily **overfit** the training data.  \n",
    "\n",
    "To address this, you can **reduce the total number of parameters** by decreasing the number of units in each layer, and then observe the effect on training and validation performance.\n",
    "\n",
    "**Steps:**\n",
    "\n",
    "1. Reduce the size of the network by lowering the number of units in each layer. For example, use **60 units** for the first layer and **20 units** for the second layer.  \n",
    "2. Train your model **without early stopping**.  \n",
    "3. Compare the **learning curve** of this smaller model with that of the larger model trained without early stopping (from the \"Learning Curves and Overfitting\" section).  "
   ]
  },
  {
   "cell_type": "markdown",
   "metadata": {},
   "source": [
    "# Solution"
   ]
  },
  {
   "cell_type": "code",
   "execution_count": 2,
   "metadata": {
    "ExecuteTime": {
     "end_time": "2025-10-16T11:16:35.292765Z",
     "start_time": "2025-10-16T11:16:35.129265Z"
    }
   },
   "outputs": [
    {
     "ename": "NameError",
     "evalue": "name 'torch' is not defined",
     "output_type": "error",
     "traceback": [
      "\u001b[0;31m---------------------------------------------------------------------------\u001b[0m",
      "\u001b[0;31mNameError\u001b[0m                                 Traceback (most recent call last)",
      "Cell \u001b[0;32mIn[2], line 1\u001b[0m\n\u001b[0;32m----> 1\u001b[0m \u001b[38;5;28;01mclass\u001b[39;00m \u001b[38;5;21;01mNeuralNetworkSmall\u001b[39;00m(\u001b[43mtorch\u001b[49m\u001b[38;5;241m.\u001b[39mnn\u001b[38;5;241m.\u001b[39mModule):\n\u001b[1;32m      2\u001b[0m     \u001b[38;5;124;03m\"\"\"\u001b[39;00m\n\u001b[1;32m      3\u001b[0m \u001b[38;5;124;03m    Simple two layer neural network for regression\u001b[39;00m\n\u001b[1;32m      4\u001b[0m \u001b[38;5;124;03m    \"\"\"\u001b[39;00m\n\u001b[1;32m      5\u001b[0m     \u001b[38;5;28;01mdef\u001b[39;00m \u001b[38;5;21m__init__\u001b[39m(\u001b[38;5;28mself\u001b[39m, num_input_features):\n",
      "\u001b[0;31mNameError\u001b[0m: name 'torch' is not defined"
     ]
    }
   ],
   "source": [
    "class NeuralNetworkSmall(torch.nn.Module):\n",
    "    \"\"\"\n",
    "    Simple two layer neural network for regression\n",
    "    \"\"\"\n",
    "    def __init__(self, num_input_features):\n",
    "        super().__init__()\n",
    "        # define your network\n",
    "        \n"
   ]
  },
  {
   "cell_type": "markdown",
   "metadata": {},
   "source": [
    "# C. Weight Regularization\n",
    "\n",
    "**Weight regularization** is a widely used technique to reduce overfitting. \n",
    "\n",
    "The main idea is to **add a constraint to the loss function** that keeps the model's weights small.  \n",
    "\n",
    "Intuitively, weight regularization discourages the model from fitting the training data too closely, forcing it to focus on the most important features. By constraining the weights, the model can **generalize better** to new data, as it is less likely to memorize the training examples and more likely to capture underlying patterns and relationships.  \n",
    "\n",
    "You can also think of small weights (for example, zero) as a way to deactivate parts of the model, effectively creating a smaller network.\n",
    "\n",
    "A common and simple form of regularization is **L2 regularization**, where the loss function is modified as follows:\n",
    "\n",
    "$$\n",
    "\\text{Total Loss} = \\mathbb{E}_{x,y \\sim P_{\\text{data}}} \\big[ \\text{loss}(f_w(x),y) \\big] + \\lambda \\sum_{j=1}^{p} w_j^2\n",
    "$$\n",
    "\n",
    "where:  \n",
    "- $\\lambda$ is the **regularization strength** (scaling parameter),  \n",
    "- $w_j$ are the **model parameters**,  \n",
    "- $p$ is the total number of parameters, and  \n",
    "- $\\text{loss}(\\cdot)$ is the original loss function.  \n",
    "\n",
    "In PyTorch, **L2 regularization** can be easily applied using the `weight_decay` parameter of the optimizer. For example:  \n"
   ]
  },
  {
   "cell_type": "markdown",
   "metadata": {},
   "source": [
    "\n",
    "```python\n",
    "optimizer = torch.optim.Adam(model.parameters(), lr=1e-3, weight_decay=0.01)\n"
   ]
  },
  {
   "cell_type": "markdown",
   "metadata": {},
   "source": [
    "**Steps:**\n",
    "\n",
    "1. Use $\\lambda = 0.01$ and train your model using **L2 regularization**, as explained before.  \n",
    "   Use the \"big\" model architecture with the **most parameters** (the same with step A) and **do not apply early stopping** to observe the effect.  \n",
    "\n",
    "2. Compare the results with the **initial training without early stopping** (from the \"Learning Curves and Overfitting\" section) and comment on the differences in the learning curves and generalization performance."
   ]
  },
  {
   "cell_type": "markdown",
   "metadata": {},
   "source": [
    "# Solution"
   ]
  },
  {
   "cell_type": "code",
   "execution_count": null,
   "metadata": {
    "ExecuteTime": {
     "end_time": "2025-10-16T11:15:46.986516Z",
     "start_time": "2025-10-16T11:15:46.985205Z"
    }
   },
   "outputs": [],
   "source": []
  },
  {
   "cell_type": "code",
   "execution_count": null,
   "metadata": {
    "ExecuteTime": {
     "end_time": "2025-10-16T11:15:46.988217Z",
     "start_time": "2025-10-16T11:15:46.987147Z"
    }
   },
   "outputs": [],
   "source": []
  },
  {
   "cell_type": "markdown",
   "metadata": {},
   "source": [
    "# C. Test set perfomance\n",
    "\n",
    "mesure the accuracy of the different models on the test set you create before.\n",
    "\n",
    "Make sure you normalise you data using the \"scaler\" we define at the begining of the notebook."
   ]
  },
  {
   "cell_type": "code",
   "execution_count": 6,
   "metadata": {
    "is_executing": true
   },
   "outputs": [
    {
     "ename": "NameError",
     "evalue": "name 'accuracy' is not defined",
     "output_type": "error",
     "traceback": [
      "\u001b[0;31m---------------------------------------------------------------------------\u001b[0m",
      "\u001b[0;31mNameError\u001b[0m                                 Traceback (most recent call last)",
      "Cell \u001b[0;32mIn[6], line 14\u001b[0m\n\u001b[1;32m      1\u001b[0m \u001b[38;5;66;03m# step 1. select data point from test set\u001b[39;00m\n\u001b[1;32m      2\u001b[0m \n\u001b[1;32m      3\u001b[0m \u001b[38;5;66;03m# step 2. use scaler to transform\u001b[39;00m\n\u001b[0;32m   (...)\u001b[0m\n\u001b[1;32m     11\u001b[0m \n\u001b[1;32m     12\u001b[0m \u001b[38;5;66;03m# step 6. get accuracy\u001b[39;00m\n\u001b[0;32m---> 14\u001b[0m \u001b[38;5;28mprint\u001b[39m(\u001b[38;5;124mf\u001b[39m\u001b[38;5;124m'\u001b[39m\u001b[38;5;124mTest Accuracy: \u001b[39m\u001b[38;5;132;01m{\u001b[39;00m\u001b[43maccuracy\u001b[49m\u001b[38;5;132;01m}\u001b[39;00m\u001b[38;5;124m'\u001b[39m)\n",
      "\u001b[0;31mNameError\u001b[0m: name 'accuracy' is not defined"
     ]
    }
   ],
   "source": [
    "# step 1. select data point from test set\n",
    "\n",
    "# step 2. use scaler to transform\n",
    "\n",
    "# step 3. transform datat to tensor\n",
    "\n",
    "# step 4. get the predicted propabilities\n",
    "\n",
    "# step 5. get predictions from propabilities\n",
    "\n",
    "\n",
    "# step 6. get accuracy\n",
    "\n",
    "print(f'Test Accuracy: {accuracy}')"
   ]
  },
  {
   "cell_type": "markdown",
   "metadata": {},
   "source": [
    "## Additional Tips\n",
    "\n",
    "Some useful guidelines for the projects:\n",
    "\n",
    "- The **learning rate** typically ranges between **1e-5** and **1e-3**.  \n",
    "- As an **activation function** in intermediate layers, **ReLU** is a good choice.  \n",
    "- The **size of the network** depends on the complexity of the problem.  \n",
    "- For a fixed problem, it is recommended to start with a relatively **small network** and gradually increase its size to check whether it improves performance.  \n",
    "- For optimizers, **Adam** is a good option as it adapts the learning rate during training.\n",
    "\n",
    "---\n",
    "\n",
    "### Data Preprocessing\n",
    "\n",
    "- **Normalize** input features (e.g., standardize to zero mean and unit variance).  \n",
    "- For images, **rescale pixel values** to \\([0, 1]\\) or \\([-1, 1]\\).  \n",
    "- **Shuffle and split** data into training, validation, and test sets.  \n",
    "- **Remove outliers**, as they can negatively affect model convergence.\n",
    "\n",
    "---\n",
    "\n",
    "### Training and Regularization\n",
    "\n",
    "- Use **batch normalization** to stabilize and accelerate training.  \n",
    "- Consider **weight decay (L2 regularization)** when using optimizers like Adam or SGD.  \n",
    "- Larger networks are **more likely to overfit**, so use regularization techniques such as dropout or early stopping.  \n",
    "- Always apply **early stopping** based on the validation loss to prevent overfitting.  \n",
    "\n",
    "---\n",
    "\n",
    "### 1. Multi-Class Classification\n",
    "\n",
    "Used when the model needs to predict one label among multiple classes.\n",
    "\n",
    "1. The output layer must have **as many neurons as the number of classes**.  \n",
    "2. Use the **softmax activation function** in the output layer.  \n",
    "3. The loss function should be **Cross-Entropy**.\n",
    "\n",
    "---\n",
    "\n",
    "### 2. Regression\n",
    "\n",
    "Used when the model predicts a **continuous value** based on input features.\n",
    "\n",
    "1. The output layer usually has **one neuron**.  \n",
    "2. Use a **linear activation function** (i.e., no activation).  \n",
    "3. The loss function is typically the **Mean Squared Error (MSE)**.\n"
   ]
  }
 ],
 "metadata": {
  "kernelspec": {
   "display_name": "Python 3 (ipykernel)",
   "language": "python",
   "name": "python3"
  },
  "language_info": {
   "codemirror_mode": {
    "name": "ipython",
    "version": 3
   },
   "file_extension": ".py",
   "mimetype": "text/x-python",
   "name": "python",
   "nbconvert_exporter": "python",
   "pygments_lexer": "ipython3",
   "version": "3.9.18"
  }
 },
 "nbformat": 4,
 "nbformat_minor": 1
}
